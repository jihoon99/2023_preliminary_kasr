{
 "cells": [
  {
   "cell_type": "code",
   "execution_count": 1,
   "metadata": {},
   "outputs": [],
   "source": [
    "import os\n",
    "from modules.vocab import KoreanSpeechVocabulary\n",
    "\n"
   ]
  },
  {
   "cell_type": "code",
   "execution_count": 7,
   "metadata": {},
   "outputs": [],
   "source": [
    "\n",
    "def load_vocab(\n",
    "        config,\n",
    "        sos_id = '<s>',\n",
    "        eos_id = '</s>',\n",
    "        pad_id = '[pad]',\n",
    "        blank_id = '<blank>',\n",
    "        # unk_id = '[unk]',\n",
    "        out_path = 'labels.csv'\n",
    "    ):\n",
    "    vocab = KoreanSpeechVocabulary(\n",
    "        os.path.join(os.getcwd(), out_path), \n",
    "        output_unit='character',\n",
    "        sos_id = sos_id,\n",
    "        eos_id = eos_id,\n",
    "        pad_id = pad_id,\n",
    "        blank_id = blank_id,\n",
    "        # unk_id = unk_id\n",
    "        )\n",
    "        \n",
    "    return vocab # class it self"
   ]
  },
  {
   "cell_type": "code",
   "execution_count": null,
   "metadata": {},
   "outputs": [],
   "source": [
    "load_vocab"
   ]
  }
 ],
 "metadata": {
  "kernelspec": {
   "display_name": "torch",
   "language": "python",
   "name": "python3"
  },
  "language_info": {
   "codemirror_mode": {
    "name": "ipython",
    "version": 3
   },
   "file_extension": ".py",
   "mimetype": "text/x-python",
   "name": "python",
   "nbconvert_exporter": "python",
   "pygments_lexer": "ipython3",
   "version": "3.9.16"
  },
  "orig_nbformat": 4
 },
 "nbformat": 4,
 "nbformat_minor": 2
}
