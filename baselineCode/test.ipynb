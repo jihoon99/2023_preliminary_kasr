{
 "cells": [
  {
   "cell_type": "code",
   "execution_count": 24,
   "metadata": {},
   "outputs": [],
   "source": [
    "import torch\n",
    "import random\n",
    "\n",
    "features = torch.randn([3,20,10])\n",
    "targets = torch.randn([3,20])\n",
    "feature_len = torch.IntTensor([3,6,9])\n",
    "target_len = torch.IntTensor([9,6,3])\n",
    "\n",
    "a = features\n",
    "b = targets\n",
    "c = feature_len\n",
    "d = target_len\n",
    "\n",
    "tmp = list(zip(a.unsqueeze(1),b.unsqueeze(1),c.unsqueeze(1),d.unsqueeze(1)))\n",
    "random.shuffle(tmp)\n",
    "a,b,c,d = zip(*tmp)\n",
    "a = torch.cat(a, dim=0)\n",
    "b = torch.cat(b, dim=0).long()\n",
    "c = torch.cat(c, dim=0).long()\n",
    "d = torch.cat(d, dim=0).long()\n",
    "\n"
   ]
  },
  {
   "cell_type": "code",
   "execution_count": 25,
   "metadata": {},
   "outputs": [
    {
     "data": {
      "text/plain": [
       "tensor([6, 9, 3])"
      ]
     },
     "execution_count": 25,
     "metadata": {},
     "output_type": "execute_result"
    }
   ],
   "source": [
    "c"
   ]
  },
  {
   "cell_type": "code",
   "execution_count": 19,
   "metadata": {},
   "outputs": [
    {
     "data": {
      "text/plain": [
       "(tensor(6, dtype=torch.int32),\n",
       " tensor(9, dtype=torch.int32),\n",
       " tensor(3, dtype=torch.int32))"
      ]
     },
     "execution_count": 19,
     "metadata": {},
     "output_type": "execute_result"
    }
   ],
   "source": [
    "c"
   ]
  },
  {
   "cell_type": "code",
   "execution_count": 3,
   "metadata": {},
   "outputs": [
    {
     "ename": "ValueError",
     "evalue": "only one element tensors can be converted to Python scalars",
     "output_type": "error",
     "traceback": [
      "\u001b[0;31m---------------------------------------------------------------------------\u001b[0m",
      "\u001b[0;31mValueError\u001b[0m                                Traceback (most recent call last)",
      "Cell \u001b[0;32mIn[3], line 9\u001b[0m\n\u001b[1;32m      7\u001b[0m random\u001b[39m.\u001b[39mshuffle(tmp)\n\u001b[1;32m      8\u001b[0m a,b,c,d \u001b[39m=\u001b[39m \u001b[39mzip\u001b[39m(\u001b[39m*\u001b[39mtmp)\n\u001b[0;32m----> 9\u001b[0m a,b,c,d \u001b[39m=\u001b[39m torch\u001b[39m.\u001b[39;49mtensor(\u001b[39mlist\u001b[39;49m(a)), torch\u001b[39m.\u001b[39mtensor(\u001b[39mlist\u001b[39m(b)), torch\u001b[39m.\u001b[39mIntTensor(c), torch\u001b[39m.\u001b[39mIntTensor(d)\n",
      "\u001b[0;31mValueError\u001b[0m: only one element tensors can be converted to Python scalars"
     ]
    }
   ],
   "source": [
    "\n",
    "a = features\n",
    "b = targets\n",
    "c = feature_len\n",
    "d = target_len\n",
    "\n",
    "tmp = list(zip(a,b,c,d))\n",
    "random.shuffle(tmp)\n",
    "a,b,c,d = zip(*tmp)\n",
    "a,b,c,d = torch.tensor(list(a)), torch.tensor(list(b)), torch.IntTensor(c), torch.IntTensor(d)\n",
    "\n"
   ]
  },
  {
   "cell_type": "code",
   "execution_count": 7,
   "metadata": {},
   "outputs": [],
   "source": [
    "\n",
    "def load_vocab(\n",
    "        config,\n",
    "        sos_id = '<s>',\n",
    "        eos_id = '</s>',\n",
    "        pad_id = '[pad]',\n",
    "        blank_id = '<blank>',\n",
    "        # unk_id = '[unk]',\n",
    "        out_path = 'labels.csv'\n",
    "    ):\n",
    "    vocab = KoreanSpeechVocabulary(\n",
    "        os.path.join(os.getcwd(), out_path), \n",
    "        output_unit='character',\n",
    "        sos_id = sos_id,\n",
    "        eos_id = eos_id,\n",
    "        pad_id = pad_id,\n",
    "        blank_id = blank_id,\n",
    "        # unk_id = unk_id\n",
    "        )\n",
    "        \n",
    "    return vocab # class it self"
   ]
  },
  {
   "cell_type": "code",
   "execution_count": null,
   "metadata": {},
   "outputs": [],
   "source": [
    "load_vocab"
   ]
  }
 ],
 "metadata": {
  "kernelspec": {
   "display_name": "torch",
   "language": "python",
   "name": "python3"
  },
  "language_info": {
   "codemirror_mode": {
    "name": "ipython",
    "version": 3
   },
   "file_extension": ".py",
   "mimetype": "text/x-python",
   "name": "python",
   "nbconvert_exporter": "python",
   "pygments_lexer": "ipython3",
   "version": "3.9.16"
  },
  "orig_nbformat": 4
 },
 "nbformat": 4,
 "nbformat_minor": 2
}
