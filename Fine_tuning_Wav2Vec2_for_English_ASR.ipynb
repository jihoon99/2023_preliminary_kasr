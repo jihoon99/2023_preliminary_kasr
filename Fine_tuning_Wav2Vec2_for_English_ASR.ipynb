{
  "cells": [
    {
      "cell_type": "markdown",
      "metadata": {
        "id": "LBSYoWbi-45k"
      },
      "source": [
        "# **Fine-tuning Wav2Vec2 for English ASR with 🤗 Transformers**"
      ]
    },
    {
      "cell_type": "markdown",
      "metadata": {
        "id": "V7YOT2mnUiea"
      },
      "source": [
        "Wav2Vec2 is a pretrained model for Automatic Speech Recognition (ASR) and was released in [September 2020](https://ai.facebook.com/blog/wav2vec-20-learning-the-structure-of-speech-from-raw-audio/) by Alexei Baevski, Michael Auli, and Alex Conneau.\n",
        "\n",
        "Using a novel contrastive pretraining objective, Wav2Vec2 learns powerful speech representations from more than 50.000 hours of unlabeled speech. Similar, to [BERT's masked language modeling](http://jalammar.github.io/illustrated-bert/), the model learns contextualized speech representations by randomly masking feature vectors before passing them to a transformer network.\n",
        "\n",
        "![wav2vec2_structure](https://raw.githubusercontent.com/patrickvonplaten/scientific_images/master/wav2vec2.png)\n",
        "\n",
        "For the first time, it has been shown that pretraining, followed by fine-tuning on very little labeled speech data achieves competitive results to state-of-the-art ASR systems. Using as little as 10 minutes of labeled data, Wav2Vec2 yields a word error rate (WER) of less than 5% on the clean test set of [LibriSpeech](https://huggingface.co/datasets/librispeech_asr) - *cf.* with Table 9 of the [paper](https://arxiv.org/pdf/2006.11477.pdf)."
      ]
    },
    {
      "cell_type": "markdown",
      "metadata": {
        "id": "nT_QrfWtsxIz"
      },
      "source": [
        "In this notebook, we will give an in-detail explanation of how Wav2Vec2's pretrained checkpoints can be fine-tuned on any English ASR dataset. Note that in this notebook, we will fine-tune Wav2Vec2 without making use of a language model. It is much simpler to use Wav2Vec2 without a language model as an end-to-end ASR system and it has been shown that a standalone Wav2Vec2 acoustic model achieves impressive results. For demonstration purposes, we fine-tune the \"base\"-sized [pretrained checkpoint](https://huggingface.co/facebook/wav2vec2-base) on the rather small [Timit](https://huggingface.co/datasets/timit_asr) dataset that contains just 5h of training data."
      ]
    },
    {
      "cell_type": "markdown",
      "metadata": {
        "id": "Gx9OdDYrCtQ1"
      },
      "source": [
        "Wav2Vec2 is fine-tuned using Connectionist Temporal Classification (CTC), which is an algorithm that is used to train neural networks for sequence-to-sequence problems and mainly in Automatic Speech Recognition and handwriting recognition.\n",
        "\n",
        "I highly recommend reading the blog post [Sequence Modeling with CTC (2017)](https://distill.pub/2017/ctc/) very well-written blog post by Awni Hannun."
      ]
    },
    {
      "cell_type": "markdown",
      "metadata": {
        "id": "qW3J3rBizeds"
      },
      "source": [
        "First, let's try to get a good GPU in our colab! With Google Colab's free version it's sadly becoming much harder to get access to a good GPU. With Google Colab Pro, one has a much easier time getting access to a V100 or P100 GPU however."
      ]
    },
    {
      "cell_type": "code",
      "execution_count": 1,
      "metadata": {
        "colab": {
          "base_uri": "https://localhost:8080/"
        },
        "id": "SLAufgh_xxj7",
        "outputId": "56da9201-624d-4dd2-ad8f-1d2e9c829723"
      },
      "outputs": [
        {
          "name": "stdout",
          "output_type": "stream",
          "text": [
            "Sat Oct  7 18:26:11 2023       \n",
            "+-----------------------------------------------------------------------------+\n",
            "| NVIDIA-SMI 525.125.06   Driver Version: 525.125.06   CUDA Version: 12.0     |\n",
            "|-------------------------------+----------------------+----------------------+\n",
            "| GPU  Name        Persistence-M| Bus-Id        Disp.A | Volatile Uncorr. ECC |\n",
            "| Fan  Temp  Perf  Pwr:Usage/Cap|         Memory-Usage | GPU-Util  Compute M. |\n",
            "|                               |                      |               MIG M. |\n",
            "|===============================+======================+======================|\n",
            "|   0  NVIDIA GeForce ...  Off  | 00000000:01:00.0 Off |                  N/A |\n",
            "|  0%   40C    P8    13W / 170W |     14MiB / 12288MiB |      0%      Default |\n",
            "|                               |                      |                  N/A |\n",
            "+-------------------------------+----------------------+----------------------+\n",
            "                                                                               \n",
            "+-----------------------------------------------------------------------------+\n",
            "| Processes:                                                                  |\n",
            "|  GPU   GI   CI        PID   Type   Process name                  GPU Memory |\n",
            "|        ID   ID                                                   Usage      |\n",
            "|=============================================================================|\n",
            "|    0   N/A  N/A      1323      G   /usr/lib/xorg/Xorg                  9MiB |\n",
            "|    0   N/A  N/A      1565      G   /usr/bin/gnome-shell                3MiB |\n",
            "+-----------------------------------------------------------------------------+\n"
          ]
        }
      ],
      "source": [
        "gpu_info = !nvidia-smi\n",
        "gpu_info = '\\n'.join(gpu_info)\n",
        "if gpu_info.find('failed') >= 0:\n",
        "  print('Not connected to a GPU')\n",
        "else:\n",
        "  print(gpu_info)"
      ]
    },
    {
      "cell_type": "markdown",
      "metadata": {
        "id": "e335hPmdtASZ"
      },
      "source": [
        "Before we start, let's install both `datasets` and `transformers` from master. Also, we need the `librosa` package to load audio files and the `jiwer` to evaluate our fine-tuned model using the [word error rate (WER)](https://huggingface.co/metrics/wer) metric ${}^1$."
      ]
    },
    {
      "cell_type": "code",
      "execution_count": 2,
      "metadata": {
        "id": "c8eh87Hoee5d"
      },
      "outputs": [],
      "source": [
        "%%capture\n",
        "!pip install datasets==1.18.3\n",
        "!pip install transformers==4.17.0\n",
        "!pip install jiwer"
      ]
    },
    {
      "cell_type": "markdown",
      "metadata": {
        "id": "8_6kYmDMH9lR"
      },
      "source": [
        "Next we strongly suggest to upload your training checkpoints directly to the [🤗 Hub](https://huggingface.co/) while training. The [🤗 Hub](https://huggingface.co/) has integrated version control so you can be sure that no model checkpoint is getting lost during training.\n",
        "\n",
        "To do so you have to store your authentication token from the Hugging Face website (sign up [here](https://huggingface.co/join) if you haven't already!)"
      ]
    },
    {
      "cell_type": "code",
      "execution_count": null,
      "metadata": {
        "colab": {
          "base_uri": "https://localhost:8080/",
          "height": 385,
          "referenced_widgets": [
            "4fae0d04a34b4fbcbbac419ef522389d",
            "04889e8a534846219c60b6c637ff9703",
            "dd0d9ccef1b34806a8989f882caca422",
            "cfcf385787a94992ac39070cad8fcada",
            "6d2c83e9574c4b0796e73ccc5ba2632e",
            "8f15f29ae18640d3ba9215ca91e764b7",
            "b58bd0d46cbc4d7ab932940941d2ad36",
            "b807a57d90ae41c1bfa3a54b121affd1",
            "edbc56749e544622be7717992bd72dbc",
            "3328f4a664d24ba89dbc892734a3ed58",
            "e0c3115ae01a44848620d6f19a071542",
            "ecc433611c5144d3a909627ffb08eb77",
            "3378d5d15d0f4c45a286842339425003",
            "70914255a10141ef8882c4e69a4f4057",
            "5ca38ad0652b4d27ba646d6b55298498",
            "84c3f51a7956477eaa1c9ecdeba5c00a",
            "1eb4c98ebb084e8898b793265738b7fc"
          ]
        },
        "id": "zFLBDyzQIA3R",
        "outputId": "fb99cad5-09f1-47b9-aeec-edd541e11603"
      },
      "outputs": [
        {
          "name": "stdout",
          "output_type": "stream",
          "text": [
            "Login successful\n",
            "Your token has been saved to /root/.huggingface/token\n",
            "\u001b[1m\u001b[31mAuthenticated through git-credential store but this isn't the helper defined on your machine.\n",
            "You might have to re-authenticate when pushing to the Hugging Face Hub. Run the following command in your terminal in case you want to set this credential helper as the default\n",
            "\n",
            "git config --global credential.helper store\u001b[0m\n"
          ]
        }
      ],
      "source": [
        "from huggingface_hub import notebook_login\n",
        "\n",
        "notebook_login()"
      ]
    },
    {
      "cell_type": "markdown",
      "metadata": {
        "id": "zCyw5D23IQ1F"
      },
      "source": [
        "\n",
        "Then you need to install Git-LFS to upload your model checkpoints:"
      ]
    },
    {
      "cell_type": "code",
      "execution_count": null,
      "metadata": {
        "id": "Q9BnQDhOITBC"
      },
      "outputs": [],
      "source": [
        "%%capture\n",
        "!apt install git-lfs"
      ]
    },
    {
      "cell_type": "markdown",
      "metadata": {
        "id": "Mn9swf6EQ9Vd"
      },
      "source": [
        "\n",
        "\n",
        "\n",
        "---\n",
        "\n",
        "${}^1$ Timit is usually evaluated using the phoneme error rate (PER), but by far the most common metric in ASR is the word error rate (WER). To keep this notebook as general as possible we decided to evaluate the model using WER."
      ]
    },
    {
      "cell_type": "markdown",
      "metadata": {
        "id": "0mW-C1Nt-j7k"
      },
      "source": [
        "## Prepare Data, Tokenizer, Feature Extractor"
      ]
    },
    {
      "cell_type": "markdown",
      "metadata": {
        "id": "BeBosnY9BH3e"
      },
      "source": [
        "ASR models transcribe speech to text, which means that we both need a feature extractor that processes the speech signal to the model's input format, *e.g.* a feature vector, and a tokenizer that processes the model's output format to text.\n",
        "\n",
        "In 🤗 Transformers, the Wav2Vec2 model is thus accompanied by both a tokenizer, called [Wav2Vec2CTCTokenizer](https://huggingface.co/transformers/master/model_doc/wav2vec2.html#wav2vec2ctctokenizer), and a feature extractor, called [Wav2Vec2FeatureExtractor](https://huggingface.co/transformers/master/model_doc/wav2vec2.html#wav2vec2featureextractor).\n",
        "\n",
        "Let's start by creating the tokenizer responsible for decoding the model's predictions."
      ]
    },
    {
      "cell_type": "markdown",
      "metadata": {
        "id": "sEXEWEJGQPqD"
      },
      "source": [
        "### Create Wav2Vec2CTCTokenizer"
      ]
    },
    {
      "cell_type": "markdown",
      "metadata": {
        "id": "tWmMikuNEKl_"
      },
      "source": [
        "The [pretrained Wav2Vec2 checkpoint]( ) maps the speech signal to a sequence of context representations as illustrated in the figure above. A fine-tuned Wav2Vec2 checkpoint needs to map this sequence of context representations to its corresponding transcription so that a linear layer has to be added on top of the transformer block (shown in yellow). This linear layer is used to classifies each context representation to a token class analogous how, *e.g.*, after pretraining a linear layer is added on top of BERT's embeddings for further classification - *cf.* with *\"BERT\"* section of this [blog post](https://huggingface.co/blog/warm-starting-encoder-decoder).\n",
        "\n",
        "The output size of this layer corresponds to the number of tokens in the vocabulary, which does **not** depend on Wav2Vec2's pretraining task, but only on the labeled dataset used for fine-tuning. So in the first step, we will take a look at Timit and define a vocabulary based on the dataset's transcriptions."
      ]
    },
    {
      "cell_type": "markdown",
      "metadata": {
        "id": "bee4g9rpLxll"
      },
      "source": [
        "Let's start by loading the dataset and taking a look at its structure."
      ]
    },
    {
      "cell_type": "code",
      "execution_count": 2,
      "metadata": {
        "colab": {
          "base_uri": "https://localhost:8080/",
          "height": 67,
          "referenced_widgets": [
            "aadac5aba97941f4922c2cdb74dadc6f",
            "4b4bd3b71ffc46deaeaed4d7ad7a768e",
            "e225f2981fe7472d899a1fff0eb6bb8a",
            "8ba58dd1b97644869a58a1b5a390e96d",
            "dc086ef489044898b7ec0830d8175f56",
            "a579ecba69ff45c096f3e1dabb535209",
            "1e596bd81f984654b5e965a9e8159caf",
            "162b2b0630244c2182042899074c222d",
            "425c9b6bd9f74bfbbc1d72ffdceec0d0",
            "4c2a4d2dadf5422aba969cd5ab6eb762",
            "3a1fb95b6101460fa5925cab3ba86cf6"
          ]
        },
        "id": "2MMXcWFFgCXU",
        "outputId": "9df1f651-8b7a-4900-9674-4af012de0aa3"
      },
      "outputs": [
        {
          "name": "stderr",
          "output_type": "stream",
          "text": [
            "Reusing dataset timit_asr (/home/rainism/.cache/huggingface/datasets/timit_asr/clean/2.0.1/b11b576ddcccbcefa7c9f0c4e6c2a43756f3033adffe0fb686aa61043d0450ad)\n",
            "100%|██████████| 2/2 [00:00<00:00, 848.11it/s]\n"
          ]
        }
      ],
      "source": [
        "from datasets import load_dataset, load_metric\n",
        "import pandas as pd\n",
        "\n",
        "timit = load_dataset(\"timit_asr\")"
      ]
    },
    {
      "cell_type": "code",
      "execution_count": 3,
      "metadata": {
        "colab": {
          "base_uri": "https://localhost:8080/"
        },
        "id": "QbIM-L0xdvf4",
        "outputId": "0e6fbc8e-f606-4b89-a44d-a09224d5115b"
      },
      "outputs": [
        {
          "data": {
            "text/plain": [
              "DatasetDict({\n",
              "    train: Dataset({\n",
              "        features: ['file', 'audio', 'text', 'phonetic_detail', 'word_detail', 'dialect_region', 'sentence_type', 'speaker_id', 'id'],\n",
              "        num_rows: 4620\n",
              "    })\n",
              "    test: Dataset({\n",
              "        features: ['file', 'audio', 'text', 'phonetic_detail', 'word_detail', 'dialect_region', 'sentence_type', 'speaker_id', 'id'],\n",
              "        num_rows: 1680\n",
              "    })\n",
              "})"
            ]
          },
          "execution_count": 3,
          "metadata": {},
          "output_type": "execute_result"
        }
      ],
      "source": [
        "timit"
      ]
    },
    {
      "cell_type": "code",
      "execution_count": 4,
      "metadata": {},
      "outputs": [
        {
          "data": {
            "text/html": [
              "<div>\n",
              "<style scoped>\n",
              "    .dataframe tbody tr th:only-of-type {\n",
              "        vertical-align: middle;\n",
              "    }\n",
              "\n",
              "    .dataframe tbody tr th {\n",
              "        vertical-align: top;\n",
              "    }\n",
              "\n",
              "    .dataframe thead th {\n",
              "        text-align: right;\n",
              "    }\n",
              "</style>\n",
              "<table border=\"1\" class=\"dataframe\">\n",
              "  <thead>\n",
              "    <tr style=\"text-align: right;\">\n",
              "      <th></th>\n",
              "      <th>file</th>\n",
              "      <th>audio</th>\n",
              "      <th>text</th>\n",
              "      <th>phonetic_detail</th>\n",
              "      <th>word_detail</th>\n",
              "      <th>dialect_region</th>\n",
              "      <th>sentence_type</th>\n",
              "      <th>speaker_id</th>\n",
              "      <th>id</th>\n",
              "    </tr>\n",
              "  </thead>\n",
              "  <tbody>\n",
              "    <tr>\n",
              "      <th>0</th>\n",
              "      <td>/home/rainism/.cache/huggingface/datasets/down...</td>\n",
              "      <td>{'path': '/home/rainism/.cache/huggingface/dat...</td>\n",
              "      <td>Would such an act of refusal be useful?</td>\n",
              "      <td>{'start': [0, 1960, 2466, 3480, 4000, 5960, 74...</td>\n",
              "      <td>{'start': [1960, 4000, 9400, 10680, 15880, 182...</td>\n",
              "      <td>DR4</td>\n",
              "      <td>SI</td>\n",
              "      <td>MMDM0</td>\n",
              "      <td>SI681</td>\n",
              "    </tr>\n",
              "    <tr>\n",
              "      <th>1</th>\n",
              "      <td>/home/rainism/.cache/huggingface/datasets/down...</td>\n",
              "      <td>{'path': '/home/rainism/.cache/huggingface/dat...</td>\n",
              "      <td>Don't ask me to carry an oily rag like that.</td>\n",
              "      <td>{'start': [0, 2120, 2600, 3800, 4344, 7080, 80...</td>\n",
              "      <td>{'start': [2120, 4344, 8920, 10840, 12280, 180...</td>\n",
              "      <td>DR4</td>\n",
              "      <td>SA</td>\n",
              "      <td>MMDM0</td>\n",
              "      <td>SA2</td>\n",
              "    </tr>\n",
              "    <tr>\n",
              "      <th>2</th>\n",
              "      <td>/home/rainism/.cache/huggingface/datasets/down...</td>\n",
              "      <td>{'path': '/home/rainism/.cache/huggingface/dat...</td>\n",
              "      <td>Butterscotch fudge goes well with vanilla ice ...</td>\n",
              "      <td>{'start': [0, 2130, 2306, 3520, 3920, 5080, 66...</td>\n",
              "      <td>{'start': [2130, 12240, 26440, 30200, 35801, 3...</td>\n",
              "      <td>DR4</td>\n",
              "      <td>SX</td>\n",
              "      <td>MMDM0</td>\n",
              "      <td>SX411</td>\n",
              "    </tr>\n",
              "    <tr>\n",
              "      <th>3</th>\n",
              "      <td>/home/rainism/.cache/huggingface/datasets/down...</td>\n",
              "      <td>{'path': '/home/rainism/.cache/huggingface/dat...</td>\n",
              "      <td>She had your dark suit in greasy wash water al...</td>\n",
              "      <td>{'start': [0, 2120, 4600, 6558, 8280, 8760, 91...</td>\n",
              "      <td>{'start': [2120, 6558, 9148, 10920, 16560, 212...</td>\n",
              "      <td>DR4</td>\n",
              "      <td>SA</td>\n",
              "      <td>MMDM0</td>\n",
              "      <td>SA1</td>\n",
              "    </tr>\n",
              "    <tr>\n",
              "      <th>4</th>\n",
              "      <td>/home/rainism/.cache/huggingface/datasets/down...</td>\n",
              "      <td>{'path': '/home/rainism/.cache/huggingface/dat...</td>\n",
              "      <td>I honor my mom.</td>\n",
              "      <td>{'start': [0, 2280, 4428, 7352, 8229, 10151, 1...</td>\n",
              "      <td>{'start': [2280, 8229, 12040, 15320], 'stop': ...</td>\n",
              "      <td>DR4</td>\n",
              "      <td>SX</td>\n",
              "      <td>MMDM0</td>\n",
              "      <td>SX231</td>\n",
              "    </tr>\n",
              "    <tr>\n",
              "      <th>...</th>\n",
              "      <td>...</td>\n",
              "      <td>...</td>\n",
              "      <td>...</td>\n",
              "      <td>...</td>\n",
              "      <td>...</td>\n",
              "      <td>...</td>\n",
              "      <td>...</td>\n",
              "      <td>...</td>\n",
              "      <td>...</td>\n",
              "    </tr>\n",
              "    <tr>\n",
              "      <th>4615</th>\n",
              "      <td>/home/rainism/.cache/huggingface/datasets/down...</td>\n",
              "      <td>{'path': '/home/rainism/.cache/huggingface/dat...</td>\n",
              "      <td>She had your dark suit in greasy wash water al...</td>\n",
              "      <td>{'start': [0, 2320, 3640, 4745, 5989, 7237, 76...</td>\n",
              "      <td>{'start': [2320, 4745, 7665, 9441, 15440, 2060...</td>\n",
              "      <td>DR8</td>\n",
              "      <td>SA</td>\n",
              "      <td>MRDM0</td>\n",
              "      <td>SA1</td>\n",
              "    </tr>\n",
              "    <tr>\n",
              "      <th>4616</th>\n",
              "      <td>/home/rainism/.cache/huggingface/datasets/down...</td>\n",
              "      <td>{'path': '/home/rainism/.cache/huggingface/dat...</td>\n",
              "      <td>The water contained too much chlorine and stun...</td>\n",
              "      <td>{'start': [0, 2082, 2601, 3286, 4637, 5970, 62...</td>\n",
              "      <td>{'start': [2082, 3286, 7800, 16840, 18285, 223...</td>\n",
              "      <td>DR8</td>\n",
              "      <td>SX</td>\n",
              "      <td>MRDM0</td>\n",
              "      <td>SX155</td>\n",
              "    </tr>\n",
              "    <tr>\n",
              "      <th>4617</th>\n",
              "      <td>/home/rainism/.cache/huggingface/datasets/down...</td>\n",
              "      <td>{'path': '/home/rainism/.cache/huggingface/dat...</td>\n",
              "      <td>Movies never have enough villains.</td>\n",
              "      <td>{'start': [0, 1934, 3280, 5163, 6040, 7516, 85...</td>\n",
              "      <td>{'start': [1934, 9137, 13702, 16915, 21423], '...</td>\n",
              "      <td>DR8</td>\n",
              "      <td>SX</td>\n",
              "      <td>MRDM0</td>\n",
              "      <td>SX425</td>\n",
              "    </tr>\n",
              "    <tr>\n",
              "      <th>4618</th>\n",
              "      <td>/home/rainism/.cache/huggingface/datasets/down...</td>\n",
              "      <td>{'path': '/home/rainism/.cache/huggingface/dat...</td>\n",
              "      <td>Does Hindu ideology honor cows?</td>\n",
              "      <td>{'start': [0, 2158, 2600, 3634, 5347, 6120, 70...</td>\n",
              "      <td>{'start': [2158, 5347, 10562, 25102, 28741], '...</td>\n",
              "      <td>DR8</td>\n",
              "      <td>SX</td>\n",
              "      <td>MRDM0</td>\n",
              "      <td>SX245</td>\n",
              "    </tr>\n",
              "    <tr>\n",
              "      <th>4619</th>\n",
              "      <td>/home/rainism/.cache/huggingface/datasets/down...</td>\n",
              "      <td>{'path': '/home/rainism/.cache/huggingface/dat...</td>\n",
              "      <td>Gus saw pine trees and redwoods on his walk th...</td>\n",
              "      <td>{'start': [0, 2310, 3081, 4841, 7710, 10819, 1...</td>\n",
              "      <td>{'start': [2310, 4841, 10819, 16240, 22124, 24...</td>\n",
              "      <td>DR8</td>\n",
              "      <td>SX</td>\n",
              "      <td>MRDM0</td>\n",
              "      <td>SX335</td>\n",
              "    </tr>\n",
              "  </tbody>\n",
              "</table>\n",
              "<p>4620 rows × 9 columns</p>\n",
              "</div>"
            ],
            "text/plain": [
              "                                                   file  \\\n",
              "0     /home/rainism/.cache/huggingface/datasets/down...   \n",
              "1     /home/rainism/.cache/huggingface/datasets/down...   \n",
              "2     /home/rainism/.cache/huggingface/datasets/down...   \n",
              "3     /home/rainism/.cache/huggingface/datasets/down...   \n",
              "4     /home/rainism/.cache/huggingface/datasets/down...   \n",
              "...                                                 ...   \n",
              "4615  /home/rainism/.cache/huggingface/datasets/down...   \n",
              "4616  /home/rainism/.cache/huggingface/datasets/down...   \n",
              "4617  /home/rainism/.cache/huggingface/datasets/down...   \n",
              "4618  /home/rainism/.cache/huggingface/datasets/down...   \n",
              "4619  /home/rainism/.cache/huggingface/datasets/down...   \n",
              "\n",
              "                                                  audio  \\\n",
              "0     {'path': '/home/rainism/.cache/huggingface/dat...   \n",
              "1     {'path': '/home/rainism/.cache/huggingface/dat...   \n",
              "2     {'path': '/home/rainism/.cache/huggingface/dat...   \n",
              "3     {'path': '/home/rainism/.cache/huggingface/dat...   \n",
              "4     {'path': '/home/rainism/.cache/huggingface/dat...   \n",
              "...                                                 ...   \n",
              "4615  {'path': '/home/rainism/.cache/huggingface/dat...   \n",
              "4616  {'path': '/home/rainism/.cache/huggingface/dat...   \n",
              "4617  {'path': '/home/rainism/.cache/huggingface/dat...   \n",
              "4618  {'path': '/home/rainism/.cache/huggingface/dat...   \n",
              "4619  {'path': '/home/rainism/.cache/huggingface/dat...   \n",
              "\n",
              "                                                   text  \\\n",
              "0               Would such an act of refusal be useful?   \n",
              "1          Don't ask me to carry an oily rag like that.   \n",
              "2     Butterscotch fudge goes well with vanilla ice ...   \n",
              "3     She had your dark suit in greasy wash water al...   \n",
              "4                                       I honor my mom.   \n",
              "...                                                 ...   \n",
              "4615  She had your dark suit in greasy wash water al...   \n",
              "4616  The water contained too much chlorine and stun...   \n",
              "4617                 Movies never have enough villains.   \n",
              "4618                    Does Hindu ideology honor cows?   \n",
              "4619  Gus saw pine trees and redwoods on his walk th...   \n",
              "\n",
              "                                        phonetic_detail  \\\n",
              "0     {'start': [0, 1960, 2466, 3480, 4000, 5960, 74...   \n",
              "1     {'start': [0, 2120, 2600, 3800, 4344, 7080, 80...   \n",
              "2     {'start': [0, 2130, 2306, 3520, 3920, 5080, 66...   \n",
              "3     {'start': [0, 2120, 4600, 6558, 8280, 8760, 91...   \n",
              "4     {'start': [0, 2280, 4428, 7352, 8229, 10151, 1...   \n",
              "...                                                 ...   \n",
              "4615  {'start': [0, 2320, 3640, 4745, 5989, 7237, 76...   \n",
              "4616  {'start': [0, 2082, 2601, 3286, 4637, 5970, 62...   \n",
              "4617  {'start': [0, 1934, 3280, 5163, 6040, 7516, 85...   \n",
              "4618  {'start': [0, 2158, 2600, 3634, 5347, 6120, 70...   \n",
              "4619  {'start': [0, 2310, 3081, 4841, 7710, 10819, 1...   \n",
              "\n",
              "                                            word_detail dialect_region  \\\n",
              "0     {'start': [1960, 4000, 9400, 10680, 15880, 182...            DR4   \n",
              "1     {'start': [2120, 4344, 8920, 10840, 12280, 180...            DR4   \n",
              "2     {'start': [2130, 12240, 26440, 30200, 35801, 3...            DR4   \n",
              "3     {'start': [2120, 6558, 9148, 10920, 16560, 212...            DR4   \n",
              "4     {'start': [2280, 8229, 12040, 15320], 'stop': ...            DR4   \n",
              "...                                                 ...            ...   \n",
              "4615  {'start': [2320, 4745, 7665, 9441, 15440, 2060...            DR8   \n",
              "4616  {'start': [2082, 3286, 7800, 16840, 18285, 223...            DR8   \n",
              "4617  {'start': [1934, 9137, 13702, 16915, 21423], '...            DR8   \n",
              "4618  {'start': [2158, 5347, 10562, 25102, 28741], '...            DR8   \n",
              "4619  {'start': [2310, 4841, 10819, 16240, 22124, 24...            DR8   \n",
              "\n",
              "     sentence_type speaker_id     id  \n",
              "0               SI      MMDM0  SI681  \n",
              "1               SA      MMDM0    SA2  \n",
              "2               SX      MMDM0  SX411  \n",
              "3               SA      MMDM0    SA1  \n",
              "4               SX      MMDM0  SX231  \n",
              "...            ...        ...    ...  \n",
              "4615            SA      MRDM0    SA1  \n",
              "4616            SX      MRDM0  SX155  \n",
              "4617            SX      MRDM0  SX425  \n",
              "4618            SX      MRDM0  SX245  \n",
              "4619            SX      MRDM0  SX335  \n",
              "\n",
              "[4620 rows x 9 columns]"
            ]
          },
          "execution_count": 4,
          "metadata": {},
          "output_type": "execute_result"
        }
      ],
      "source": [
        "pd.DataFrame(timit['train'])"
      ]
    },
    {
      "cell_type": "markdown",
      "metadata": {
        "id": "ri5y5N_HMANq"
      },
      "source": [
        "Many ASR datasets only provide the target text, `'text'` for each audio `'audio'` and file `'file'`. Timit actually provides much more information about each audio file, such as the `'phonetic_detail'`, etc., which is why many researchers choose to evaluate their models on phoneme classification instead of speech recognition when working with Timit. However, we want to keep the notebook as general as possible, so that we will only consider the transcribed text for fine-tuning.\n",
        "\n"
      ]
    },
    {
      "cell_type": "code",
      "execution_count": 5,
      "metadata": {
        "id": "kbyq6lDgQc2a"
      },
      "outputs": [
        {
          "data": {
            "text/html": [
              "<div>\n",
              "<style scoped>\n",
              "    .dataframe tbody tr th:only-of-type {\n",
              "        vertical-align: middle;\n",
              "    }\n",
              "\n",
              "    .dataframe tbody tr th {\n",
              "        vertical-align: top;\n",
              "    }\n",
              "\n",
              "    .dataframe thead th {\n",
              "        text-align: right;\n",
              "    }\n",
              "</style>\n",
              "<table border=\"1\" class=\"dataframe\">\n",
              "  <thead>\n",
              "    <tr style=\"text-align: right;\">\n",
              "      <th></th>\n",
              "      <th>file</th>\n",
              "      <th>audio</th>\n",
              "      <th>text</th>\n",
              "    </tr>\n",
              "  </thead>\n",
              "  <tbody>\n",
              "    <tr>\n",
              "      <th>0</th>\n",
              "      <td>/home/rainism/.cache/huggingface/datasets/down...</td>\n",
              "      <td>{'path': '/home/rainism/.cache/huggingface/dat...</td>\n",
              "      <td>Would such an act of refusal be useful?</td>\n",
              "    </tr>\n",
              "    <tr>\n",
              "      <th>1</th>\n",
              "      <td>/home/rainism/.cache/huggingface/datasets/down...</td>\n",
              "      <td>{'path': '/home/rainism/.cache/huggingface/dat...</td>\n",
              "      <td>Don't ask me to carry an oily rag like that.</td>\n",
              "    </tr>\n",
              "    <tr>\n",
              "      <th>2</th>\n",
              "      <td>/home/rainism/.cache/huggingface/datasets/down...</td>\n",
              "      <td>{'path': '/home/rainism/.cache/huggingface/dat...</td>\n",
              "      <td>Butterscotch fudge goes well with vanilla ice ...</td>\n",
              "    </tr>\n",
              "    <tr>\n",
              "      <th>3</th>\n",
              "      <td>/home/rainism/.cache/huggingface/datasets/down...</td>\n",
              "      <td>{'path': '/home/rainism/.cache/huggingface/dat...</td>\n",
              "      <td>She had your dark suit in greasy wash water al...</td>\n",
              "    </tr>\n",
              "    <tr>\n",
              "      <th>4</th>\n",
              "      <td>/home/rainism/.cache/huggingface/datasets/down...</td>\n",
              "      <td>{'path': '/home/rainism/.cache/huggingface/dat...</td>\n",
              "      <td>I honor my mom.</td>\n",
              "    </tr>\n",
              "    <tr>\n",
              "      <th>...</th>\n",
              "      <td>...</td>\n",
              "      <td>...</td>\n",
              "      <td>...</td>\n",
              "    </tr>\n",
              "    <tr>\n",
              "      <th>4615</th>\n",
              "      <td>/home/rainism/.cache/huggingface/datasets/down...</td>\n",
              "      <td>{'path': '/home/rainism/.cache/huggingface/dat...</td>\n",
              "      <td>She had your dark suit in greasy wash water al...</td>\n",
              "    </tr>\n",
              "    <tr>\n",
              "      <th>4616</th>\n",
              "      <td>/home/rainism/.cache/huggingface/datasets/down...</td>\n",
              "      <td>{'path': '/home/rainism/.cache/huggingface/dat...</td>\n",
              "      <td>The water contained too much chlorine and stun...</td>\n",
              "    </tr>\n",
              "    <tr>\n",
              "      <th>4617</th>\n",
              "      <td>/home/rainism/.cache/huggingface/datasets/down...</td>\n",
              "      <td>{'path': '/home/rainism/.cache/huggingface/dat...</td>\n",
              "      <td>Movies never have enough villains.</td>\n",
              "    </tr>\n",
              "    <tr>\n",
              "      <th>4618</th>\n",
              "      <td>/home/rainism/.cache/huggingface/datasets/down...</td>\n",
              "      <td>{'path': '/home/rainism/.cache/huggingface/dat...</td>\n",
              "      <td>Does Hindu ideology honor cows?</td>\n",
              "    </tr>\n",
              "    <tr>\n",
              "      <th>4619</th>\n",
              "      <td>/home/rainism/.cache/huggingface/datasets/down...</td>\n",
              "      <td>{'path': '/home/rainism/.cache/huggingface/dat...</td>\n",
              "      <td>Gus saw pine trees and redwoods on his walk th...</td>\n",
              "    </tr>\n",
              "  </tbody>\n",
              "</table>\n",
              "<p>4620 rows × 3 columns</p>\n",
              "</div>"
            ],
            "text/plain": [
              "                                                   file  \\\n",
              "0     /home/rainism/.cache/huggingface/datasets/down...   \n",
              "1     /home/rainism/.cache/huggingface/datasets/down...   \n",
              "2     /home/rainism/.cache/huggingface/datasets/down...   \n",
              "3     /home/rainism/.cache/huggingface/datasets/down...   \n",
              "4     /home/rainism/.cache/huggingface/datasets/down...   \n",
              "...                                                 ...   \n",
              "4615  /home/rainism/.cache/huggingface/datasets/down...   \n",
              "4616  /home/rainism/.cache/huggingface/datasets/down...   \n",
              "4617  /home/rainism/.cache/huggingface/datasets/down...   \n",
              "4618  /home/rainism/.cache/huggingface/datasets/down...   \n",
              "4619  /home/rainism/.cache/huggingface/datasets/down...   \n",
              "\n",
              "                                                  audio  \\\n",
              "0     {'path': '/home/rainism/.cache/huggingface/dat...   \n",
              "1     {'path': '/home/rainism/.cache/huggingface/dat...   \n",
              "2     {'path': '/home/rainism/.cache/huggingface/dat...   \n",
              "3     {'path': '/home/rainism/.cache/huggingface/dat...   \n",
              "4     {'path': '/home/rainism/.cache/huggingface/dat...   \n",
              "...                                                 ...   \n",
              "4615  {'path': '/home/rainism/.cache/huggingface/dat...   \n",
              "4616  {'path': '/home/rainism/.cache/huggingface/dat...   \n",
              "4617  {'path': '/home/rainism/.cache/huggingface/dat...   \n",
              "4618  {'path': '/home/rainism/.cache/huggingface/dat...   \n",
              "4619  {'path': '/home/rainism/.cache/huggingface/dat...   \n",
              "\n",
              "                                                   text  \n",
              "0               Would such an act of refusal be useful?  \n",
              "1          Don't ask me to carry an oily rag like that.  \n",
              "2     Butterscotch fudge goes well with vanilla ice ...  \n",
              "3     She had your dark suit in greasy wash water al...  \n",
              "4                                       I honor my mom.  \n",
              "...                                                 ...  \n",
              "4615  She had your dark suit in greasy wash water al...  \n",
              "4616  The water contained too much chlorine and stun...  \n",
              "4617                 Movies never have enough villains.  \n",
              "4618                    Does Hindu ideology honor cows?  \n",
              "4619  Gus saw pine trees and redwoods on his walk th...  \n",
              "\n",
              "[4620 rows x 3 columns]"
            ]
          },
          "execution_count": 5,
          "metadata": {},
          "output_type": "execute_result"
        }
      ],
      "source": [
        "timit = timit.remove_columns([\"phonetic_detail\", \"word_detail\", \"dialect_region\", \"id\", \"sentence_type\", \"speaker_id\"])\n",
        "pd.DataFrame(timit['train'])"
      ]
    },
    {
      "cell_type": "markdown",
      "metadata": {
        "id": "Go9Hq4e4NDT9"
      },
      "source": [
        "Let's write a short function to display some random samples of the dataset and run it a couple of times to get a feeling for the transcriptions."
      ]
    },
    {
      "cell_type": "code",
      "execution_count": 6,
      "metadata": {
        "id": "72737oog2F6U"
      },
      "outputs": [],
      "source": [
        "from datasets import ClassLabel\n",
        "import random\n",
        "import pandas as pd\n",
        "from IPython.display import display, HTML\n",
        "\n",
        "def show_random_elements(dataset, num_examples=10):\n",
        "    assert num_examples <= len(dataset), \"Can't pick more elements than there are in the dataset.\"\n",
        "    picks = []\n",
        "    for _ in range(num_examples):\n",
        "        pick = random.randint(0, len(dataset)-1)\n",
        "        while pick in picks:\n",
        "            pick = random.randint(0, len(dataset)-1)\n",
        "        picks.append(pick)\n",
        "\n",
        "    df = pd.DataFrame(dataset[picks])\n",
        "    display(HTML(df.to_html()))"
      ]
    },
    {
      "cell_type": "code",
      "execution_count": 7,
      "metadata": {
        "colab": {
          "base_uri": "https://localhost:8080/",
          "height": 363
        },
        "id": "K_JUmf3G3b9S",
        "outputId": "64b7011f-5190-4230-a698-eeeae2e3ca8c"
      },
      "outputs": [
        {
          "data": {
            "text/html": [
              "<table border=\"1\" class=\"dataframe\">\n",
              "  <thead>\n",
              "    <tr style=\"text-align: right;\">\n",
              "      <th></th>\n",
              "      <th>text</th>\n",
              "    </tr>\n",
              "  </thead>\n",
              "  <tbody>\n",
              "    <tr>\n",
              "      <th>0</th>\n",
              "      <td>No, they could kill him just as easy right now.</td>\n",
              "    </tr>\n",
              "    <tr>\n",
              "      <th>1</th>\n",
              "      <td>The drunkard is a social outcast.</td>\n",
              "    </tr>\n",
              "    <tr>\n",
              "      <th>2</th>\n",
              "      <td>Don't ask me to carry an oily rag like that.</td>\n",
              "    </tr>\n",
              "    <tr>\n",
              "      <th>3</th>\n",
              "      <td>How do oysters make pearls?</td>\n",
              "    </tr>\n",
              "    <tr>\n",
              "      <th>4</th>\n",
              "      <td>Bruises and black eyes were relieved by application of raw beefsteak.</td>\n",
              "    </tr>\n",
              "    <tr>\n",
              "      <th>5</th>\n",
              "      <td>He gazed away from us as we approached.</td>\n",
              "    </tr>\n",
              "    <tr>\n",
              "      <th>6</th>\n",
              "      <td>She had your dark suit in greasy wash water all year.</td>\n",
              "    </tr>\n",
              "    <tr>\n",
              "      <th>7</th>\n",
              "      <td>The essay undeniably reflects our view ably.</td>\n",
              "    </tr>\n",
              "    <tr>\n",
              "      <th>8</th>\n",
              "      <td>The mudwagon had caught fire also.</td>\n",
              "    </tr>\n",
              "    <tr>\n",
              "      <th>9</th>\n",
              "      <td>It's still unbelievable that it was murder.</td>\n",
              "    </tr>\n",
              "  </tbody>\n",
              "</table>"
            ],
            "text/plain": [
              "<IPython.core.display.HTML object>"
            ]
          },
          "metadata": {},
          "output_type": "display_data"
        }
      ],
      "source": [
        "show_random_elements(timit[\"train\"].remove_columns([\"audio\", \"file\"]), num_examples=10)"
      ]
    },
    {
      "cell_type": "markdown",
      "metadata": {
        "id": "fowcOllGNNju"
      },
      "source": [
        "Alright! The transcriptions look very clean and the language seems to correspond more to written text than dialogue. This makes sense taking into account that [Timit](https://huggingface.co/datasets/timit_asr) is a read speech corpus."
      ]
    },
    {
      "cell_type": "markdown",
      "metadata": {
        "id": "vq7OR50LN49m"
      },
      "source": [
        "We can see that the transcriptions contain some special characters, such as `,.?!;:`. Without a language model, it is much harder to classify speech chunks to such special characters because they don't really correspond to a characteristic sound unit. *E.g.*, the letter `\"s\"` has a more or less clear sound, whereas the special character `\".\"` does not.\n",
        "Also in order to understand the meaning of a speech signal, it is usually not necessary to include special characters in the transcription.\n",
        "\n",
        "In addition, we normalize the text to only have lower case letters and append a word separator token at the end."
      ]
    },
    {
      "cell_type": "code",
      "execution_count": 8,
      "metadata": {
        "id": "svKzVJ_hQGK6"
      },
      "outputs": [],
      "source": [
        "import re\n",
        "chars_to_ignore_regex = '[\\,\\?\\.\\!\\-\\;\\:\\\"]'\n",
        "\n",
        "def remove_special_characters(batch):\n",
        "    batch[\"text\"] = re.sub(chars_to_ignore_regex, '', batch[\"text\"]).lower() + \" \"\n",
        "    return batch"
      ]
    },
    {
      "cell_type": "code",
      "execution_count": 9,
      "metadata": {
        "colab": {
          "base_uri": "https://localhost:8080/"
        },
        "id": "XIHocAuTQbBR",
        "outputId": "4b4453ef-2972-4af5-d29f-dd0062e5a3ba"
      },
      "outputs": [
        {
          "name": "stderr",
          "output_type": "stream",
          "text": [
            "Parameter 'function'=<function remove_special_characters at 0x7fe760a43f70> of the transform datasets.arrow_dataset.Dataset._map_single couldn't be hashed properly, a random hash was used instead. Make sure your transforms and parameters are serializable with pickle or dill for the dataset fingerprinting and caching to work. If you reuse this transform, the caching mechanism will consider it to be different from the previous calls and recompute everything. This warning is only showed once. Subsequent hashing failures won't be showed.\n",
            "4620ex [00:00, 17015.90ex/s]\n",
            "1680ex [00:00, 17876.13ex/s]\n"
          ]
        }
      ],
      "source": [
        "timit = timit.map(remove_special_characters)"
      ]
    },
    {
      "cell_type": "code",
      "execution_count": 10,
      "metadata": {
        "colab": {
          "base_uri": "https://localhost:8080/",
          "height": 363
        },
        "id": "RBDRAAYxRE6n",
        "outputId": "f579701c-24c2-4c11-dcb8-9c706eac425e"
      },
      "outputs": [
        {
          "data": {
            "text/html": [
              "<table border=\"1\" class=\"dataframe\">\n",
              "  <thead>\n",
              "    <tr style=\"text-align: right;\">\n",
              "      <th></th>\n",
              "      <th>text</th>\n",
              "    </tr>\n",
              "  </thead>\n",
              "  <tbody>\n",
              "    <tr>\n",
              "      <th>0</th>\n",
              "      <td>can the agency overthrow alien forces</td>\n",
              "    </tr>\n",
              "    <tr>\n",
              "      <th>1</th>\n",
              "      <td>doctors prescribe drugs too freely</td>\n",
              "    </tr>\n",
              "    <tr>\n",
              "      <th>2</th>\n",
              "      <td>as coauthors we presented our new book to the haughty audience</td>\n",
              "    </tr>\n",
              "    <tr>\n",
              "      <th>3</th>\n",
              "      <td>who is going to stop me</td>\n",
              "    </tr>\n",
              "    <tr>\n",
              "      <th>4</th>\n",
              "      <td>and men also used vacuum cleaners in both rooms sucking dust up once more</td>\n",
              "    </tr>\n",
              "    <tr>\n",
              "      <th>5</th>\n",
              "      <td>don't ask me to carry an oily rag like that</td>\n",
              "    </tr>\n",
              "    <tr>\n",
              "      <th>6</th>\n",
              "      <td>she had your dark suit in greasy wash water all year</td>\n",
              "    </tr>\n",
              "    <tr>\n",
              "      <th>7</th>\n",
              "      <td>is his appetite improved</td>\n",
              "    </tr>\n",
              "    <tr>\n",
              "      <th>8</th>\n",
              "      <td>move the garbage nearer to the large window</td>\n",
              "    </tr>\n",
              "    <tr>\n",
              "      <th>9</th>\n",
              "      <td>both have excellent integration of their fiscal tax collection year calendars</td>\n",
              "    </tr>\n",
              "  </tbody>\n",
              "</table>"
            ],
            "text/plain": [
              "<IPython.core.display.HTML object>"
            ]
          },
          "metadata": {},
          "output_type": "display_data"
        }
      ],
      "source": [
        "show_random_elements(timit[\"train\"].remove_columns([\"audio\", \"file\"]))"
      ]
    },
    {
      "cell_type": "markdown",
      "metadata": {
        "id": "jwfaptH5RJwA"
      },
      "source": [
        "Good! This looks better. We have removed most special characters from transcriptions and normalized them to lower-case only.\n",
        "\n",
        "In CTC, it is common to classify speech chunks into letters, so we will do the same here.\n",
        "Let's extract all distinct letters of the training and test data and build our vocabulary from this set of letters.\n",
        "\n",
        "We write a mapping function that concatenates all transcriptions into one long transcription and then transforms the string into a set of chars.\n",
        "It is important to pass the argument `batched=True` to the `map(...)` function so that the mapping function has access to all transcriptions at once."
      ]
    },
    {
      "cell_type": "code",
      "execution_count": 11,
      "metadata": {
        "id": "LwCshNbbeRZR"
      },
      "outputs": [],
      "source": [
        "def extract_all_chars(batch):\n",
        "  all_text = \" \".join(batch[\"text\"])\n",
        "  vocab = list(set(all_text))\n",
        "  return {\"vocab\": [vocab], \"all_text\": [all_text]}"
      ]
    },
    {
      "cell_type": "code",
      "execution_count": 12,
      "metadata": {
        "colab": {
          "base_uri": "https://localhost:8080/",
          "height": 81,
          "referenced_widgets": [
            "92b0669ac4c34f3daa4dac1eb3d12b1d",
            "cc5ef0d5c963487e9f630101ba0d9572",
            "5929b873c33d4c559b36935102f33e78",
            "21ceaf0f53d444c396801784d3f1db45",
            "1decb0d7a7504439825a6e12c21fe8ed",
            "285447fa0e1e4ae8b5346477ad397ceb",
            "381bc655291b4effaa6460f7476b0e9b",
            "8f88e6872d3d45fca03ed5b89d67e6ab",
            "68b713049fff4a10a14344a5ec358d5c",
            "7802f2a76e6b4435b4c9c8bb1d40e28e",
            "6013756a6b204b368184e09e40a4567c",
            "aaf920d2593846b1bc5824c610167721",
            "c9126b3964f141a2af5c611c339e8156",
            "2d8e6e61f14f4cba8bd07e73ca868caf",
            "efe617968ca54b26b0048c7d20af1ba8",
            "821399caca9242eca44d7232edafe213",
            "b3a6d272dc4940b4824c86b22068d8f8",
            "0c34c7a51c284cda95a8848bad451603",
            "28e9858f73c3469aaf7e94c819bc5304",
            "9ad678ebacc941e78a97b0bd728819eb",
            "29bc21f75fe84b62861e859304a70a4c",
            "dc7b87eab1a344be9c6c29e92e7278b8"
          ]
        },
        "id": "_m6uUjjcfbjH",
        "outputId": "bf5e77dd-6ab3-4be1-e547-2d93b7fbbe74"
      },
      "outputs": [
        {
          "name": "stderr",
          "output_type": "stream",
          "text": [
            "100%|██████████| 1/1 [00:00<00:00, 39.19ba/s]\n",
            "100%|██████████| 1/1 [00:00<00:00, 107.16ba/s]\n"
          ]
        }
      ],
      "source": [
        "vocabs = timit.map(extract_all_chars, batched=True, batch_size=-1, keep_in_memory=True, remove_columns=timit.column_names[\"train\"])"
      ]
    },
    {
      "cell_type": "markdown",
      "metadata": {
        "id": "7oVgE8RZSJNP"
      },
      "source": [
        "Now, we create the union of all distinct letters in the training dataset and test dataset and convert the resulting list into an enumerated dictionary."
      ]
    },
    {
      "cell_type": "code",
      "execution_count": 13,
      "metadata": {
        "id": "aQfneNsmlJI0"
      },
      "outputs": [],
      "source": [
        "vocab_list = list(set(vocabs[\"train\"][\"vocab\"][0]) | set(vocabs[\"test\"][\"vocab\"][0]))"
      ]
    },
    {
      "cell_type": "code",
      "execution_count": 15,
      "metadata": {
        "colab": {
          "base_uri": "https://localhost:8080/"
        },
        "id": "_0kRndSvqaKk",
        "outputId": "371f0b8c-6934-4e77-b1de-5089d6cdd52c"
      },
      "outputs": [
        {
          "data": {
            "text/plain": [
              "{'y': 0,\n",
              " 'v': 1,\n",
              " 'c': 2,\n",
              " ' ': 3,\n",
              " 'i': 4,\n",
              " 'd': 5,\n",
              " 'o': 6,\n",
              " 'j': 7,\n",
              " 't': 8,\n",
              " 'f': 9,\n",
              " 'p': 10,\n",
              " 'k': 11,\n",
              " 'x': 12,\n",
              " \"'\": 13,\n",
              " 'w': 14,\n",
              " 'b': 15,\n",
              " 's': 16,\n",
              " 'l': 17,\n",
              " 'a': 18,\n",
              " 'r': 19,\n",
              " 'n': 20,\n",
              " 'u': 21,\n",
              " 'e': 22,\n",
              " 'z': 23,\n",
              " 'h': 24,\n",
              " 'q': 25,\n",
              " 'g': 26,\n",
              " 'm': 27}"
            ]
          },
          "execution_count": 15,
          "metadata": {},
          "output_type": "execute_result"
        }
      ],
      "source": [
        "vocab_dict = {v: k for k, v in enumerate(vocab_list)}\n",
        "vocab_dict"
      ]
    },
    {
      "cell_type": "markdown",
      "metadata": {},
      "source": [
        "###\n",
        "- PAD TOKEN 추가 : for CTC LOSS\n",
        "- UNK TOKEN 추가 : futher training with other language"
      ]
    },
    {
      "cell_type": "markdown",
      "metadata": {
        "id": "JOSzbvs9SXT1"
      },
      "source": [
        "Cool, we see that all letters of the alphabet occur in the dataset (which is not really surprising) and we also extracted the special characters `\" \"` and `'`. Note that we did not exclude those special characters because:\n",
        "\n",
        "- The model has to learn to predict when a word finished or else the model prediction would always be a sequence of chars which would make it impossible to separate words from each other.\n",
        "- In English, we need to keep the `'` character to differentiate between words, *e.g.*, `\"it's\"` and `\"its\"` which have very different meanings."
      ]
    },
    {
      "cell_type": "markdown",
      "metadata": {
        "id": "b1fBRCn-TRaO"
      },
      "source": [
        "To make it clearer that `\" \"` has its own token class, we give it a more visible character `|`. In addition, we also add an \"unknown\" token so that the model can later deal with characters not encountered in Timit's training set.\n",
        "\n",
        "Finally, we also add a padding token that corresponds to CTC's \"*blank token*\". The \"blank token\" is a core component of the CTC algorithm. For more information, please take a look at the \"Alignment\" section [here](https://distill.pub/2017/ctc/)."
      ]
    },
    {
      "cell_type": "code",
      "execution_count": 16,
      "metadata": {
        "id": "npbIbBoLgaFX"
      },
      "outputs": [],
      "source": [
        "vocab_dict[\"|\"] = vocab_dict[\" \"]\n",
        "del vocab_dict[\" \"]"
      ]
    },
    {
      "cell_type": "code",
      "execution_count": 17,
      "metadata": {
        "colab": {
          "base_uri": "https://localhost:8080/"
        },
        "id": "znF0bNunsjbl",
        "outputId": "7561d386-18c8-4b64-aa84-832f7416d085"
      },
      "outputs": [
        {
          "data": {
            "text/plain": [
              "30"
            ]
          },
          "execution_count": 17,
          "metadata": {},
          "output_type": "execute_result"
        }
      ],
      "source": [
        "vocab_dict[\"[UNK]\"] = len(vocab_dict)\n",
        "vocab_dict[\"[PAD]\"] = len(vocab_dict)\n",
        "len(vocab_dict)"
      ]
    },
    {
      "cell_type": "markdown",
      "metadata": {
        "id": "SFPGfet8U5sL"
      },
      "source": [
        "Cool, now our vocabulary is complete and consists of 30 tokens, which means that the linear layer that we will add on top of the pretrained Wav2Vec2 checkpoint will have an output dimension of 30."
      ]
    },
    {
      "cell_type": "markdown",
      "metadata": {
        "id": "1CujRgBNVRaD"
      },
      "source": [
        "Let's now save the vocabulary as a json file."
      ]
    },
    {
      "cell_type": "code",
      "execution_count": 18,
      "metadata": {
        "id": "ehyUoh9vk191"
      },
      "outputs": [],
      "source": [
        "import json\n",
        "with open('vocab.json', 'w') as vocab_file:\n",
        "    json.dump(vocab_dict, vocab_file)"
      ]
    },
    {
      "cell_type": "markdown",
      "metadata": {
        "id": "SHJDaKlIVVim"
      },
      "source": [
        "In a final step, we use the json file to instantiate an object of the `Wav2Vec2CTCTokenizer` class."
      ]
    },
    {
      "cell_type": "code",
      "execution_count": 19,
      "metadata": {
        "id": "xriFGEWQkO4M"
      },
      "outputs": [],
      "source": [
        "from transformers import Wav2Vec2CTCTokenizer\n",
        "\n",
        "tokenizer = Wav2Vec2CTCTokenizer(\"./vocab.json\", unk_token=\"[UNK]\", pad_token=\"[PAD]\", word_delimiter_token=\"|\")"
      ]
    },
    {
      "cell_type": "markdown",
      "metadata": {
        "id": "P6L2EVWwIazG"
      },
      "source": [
        "If one wants to re-use the just created tokenizer with the fine-tuned model of this notebook, it is strongly advised to upload the `tokenizer` to the [🤗 Hub](https://huggingface.co/). Let's call the repo to which we will upload the files\n",
        "`\"wav2vec2-base-timit-demo-colab\"`:"
      ]
    },
    {
      "cell_type": "code",
      "execution_count": null,
      "metadata": {
        "id": "1mbffBdxIl0M"
      },
      "outputs": [],
      "source": [
        "repo_name = \"wav2vec2-base-timit-demo-google-colab\""
      ]
    },
    {
      "cell_type": "markdown",
      "metadata": {
        "id": "pmpG2ftFIu3B"
      },
      "source": [
        "and upload the tokenizer to the [🤗 Hub](https://huggingface.co/)."
      ]
    },
    {
      "cell_type": "code",
      "execution_count": null,
      "metadata": {
        "colab": {
          "base_uri": "https://localhost:8080/",
          "height": 277
        },
        "id": "ScBMUz8jIxJi",
        "outputId": "d1a44892-2cf6-4fba-e323-d28051d1edf5"
      },
      "outputs": [
        {
          "name": "stderr",
          "output_type": "stream",
          "text": [
            "/usr/local/lib/python3.7/dist-packages/huggingface_hub/utils/_deprecation.py:43: FutureWarning: Pass token='wav2vec2-base-timit-demo-google-colab' as keyword args. From version 0.7 passing these as positional arguments will result in an error\n",
            "  FutureWarning,\n",
            "/usr/local/lib/python3.7/dist-packages/huggingface_hub/hf_api.py:599: FutureWarning: `create_repo` now takes `token` as an optional positional argument. Be sure to adapt your code!\n",
            "  FutureWarning,\n",
            "Cloning https://huggingface.co/patrickvonplaten/wav2vec2-base-timit-demo-google-colab into local empty directory.\n",
            "tokenizer config file saved in wav2vec2-base-timit-demo-google-colab/tokenizer_config.json\n",
            "Special tokens file saved in wav2vec2-base-timit-demo-google-colab/special_tokens_map.json\n",
            "remote: Enforcing permissions...        \n",
            "remote: Allowed refs: all        \n",
            "To https://huggingface.co/patrickvonplaten/wav2vec2-base-timit-demo-google-colab\n",
            "   8803a78..293755a  main -> main\n",
            "\n"
          ]
        },
        {
          "data": {
            "application/vnd.google.colaboratory.intrinsic+json": {
              "type": "string"
            },
            "text/plain": [
              "'https://huggingface.co/patrickvonplaten/wav2vec2-base-timit-demo-google-colab/commit/293755a3628339986b575eb68038ecffe2789e5c'"
            ]
          },
          "execution_count": 67,
          "metadata": {},
          "output_type": "execute_result"
        }
      ],
      "source": [
        "tokenizer.push_to_hub(repo_name)"
      ]
    },
    {
      "cell_type": "markdown",
      "metadata": {
        "id": "KvL12DrNV4cx"
      },
      "source": [
        "Great, you can see the just created repository under `https://huggingface.co/<your-username>/wav2vec2-base-timit-demo-colab`"
      ]
    },
    {
      "cell_type": "markdown",
      "metadata": {
        "id": "mYcIiR2FQ96i"
      },
      "source": [
        "### Create Wav2Vec2 Feature Extractor"
      ]
    },
    {
      "cell_type": "markdown",
      "metadata": {
        "id": "Y6mDEyW719rx"
      },
      "source": [
        "Speech is a continuous signal and to be treated by computers, it first has to be discretized, which is usually called **sampling**. The sampling rate hereby plays an important role in that it defines how many data points of the speech signal are measured per second. Therefore, sampling with a higher sampling rate results in a better approximation of the *real* speech signal but also necessitates more values per second.\n",
        "\n",
        "A pretrained checkpoint expects its input data to have been sampled more or less from the same distribution as the data it was trained on. The same speech signals sampled at two different rates have a very different distribution, *e.g.*, doubling the sampling rate results in data points being twice as long. Thus,\n",
        "before fine-tuning a pretrained checkpoint of an ASR model, it is crucial to verify that the sampling rate of the data that was used to pretrain the model matches the sampling rate of the dataset used to fine-tune the model.\n",
        "\n",
        "Wav2Vec2 was pretrained on the audio data of [LibriSpeech](https://huggingface.co/datasets/librispeech_asr) and LibriVox which both were sampling with 16kHz. Our fine-tuning dataset, [Timit](hhtps://huggingface.co/datasets/timit_asr), was luckily also sampled with 16kHz. If the fine-tuning dataset would have been sampled with a rate lower or higher than 16kHz, we first would have had to up or downsample the speech signal to match the sampling rate of the data used for pretraining.\n",
        "\n"
      ]
    },
    {
      "cell_type": "markdown",
      "metadata": {
        "id": "KuUbPW7oV-B5"
      },
      "source": [
        "A Wav2Vec2 feature extractor object requires the following parameters to be instantiated:\n",
        "\n",
        "- `feature_size`: Speech models take a sequence of feature vectors as an input. While the length of this sequence obviously varies, the feature size should not. In the case of Wav2Vec2, the feature size is 1 because the model was trained on the raw speech signal ${}^2$.\n",
        "- `sampling_rate`: The sampling rate at which the model is trained on.\n",
        "- `padding_value`: For batched inference, shorter inputs need to be padded with a specific value\n",
        "- `do_normalize`: Whether the input should be *zero-mean-unit-variance* normalized or not. Usually, speech models perform better when normalizing the input\n",
        "- `return_attention_mask`: Whether the model should make use of an `attention_mask` for batched inference. In general, models should **always** make use of the `attention_mask` to mask padded tokens. However, due to a very specific design choice of `Wav2Vec2`'s \"base\" checkpoint, better results are achieved when using no `attention_mask`. This is **not** recommended for other speech models. For more information, one can take a look at [this](https://github.com/pytorch/fairseq/issues/3227) issue. **Important** If you want to use this notebook to fine-tune [large-lv60](https://huggingface.co/facebook/wav2vec2-large-lv60), this parameter should be set to `True`."
      ]
    },
    {
      "cell_type": "code",
      "execution_count": 24,
      "metadata": {
        "id": "kAR0-2KLkopp"
      },
      "outputs": [],
      "source": [
        "from transformers import Wav2Vec2FeatureExtractor\n",
        "\n",
        "feature_extractor = Wav2Vec2FeatureExtractor(feature_size=1, sampling_rate=16000, padding_value=0.0, do_normalize=True, return_attention_mask=False)"
      ]
    },
    {
      "cell_type": "markdown",
      "metadata": {
        "id": "qUETetgqYC3W"
      },
      "source": [
        "Great, Wav2Vec2's feature extraction pipeline is thereby fully defined!\n",
        "\n",
        "To make the usage of Wav2Vec2 as user-friendly as possible, the feature extractor and tokenizer are *wrapped* into a single `Wav2Vec2Processor` class so that one only needs a `model` and `processor` object."
      ]
    },
    {
      "cell_type": "code",
      "execution_count": 25,
      "metadata": {
        "id": "KYZtoW-tlZgl"
      },
      "outputs": [],
      "source": [
        "from transformers import Wav2Vec2Processor\n",
        "\n",
        "processor = Wav2Vec2Processor(feature_extractor=feature_extractor, tokenizer=tokenizer)"
      ]
    },
    {
      "cell_type": "markdown",
      "metadata": {
        "id": "DrKnYuvDIoOO"
      },
      "source": [
        "Next, we can prepare the dataset."
      ]
    },
    {
      "cell_type": "markdown",
      "metadata": {
        "id": "YFmShnl7RE35"
      },
      "source": [
        "### Preprocess Data\n",
        "\n",
        "So far, we have not looked at the actual values of the speech signal but just the transcription. In addition to `'text'`, our datasets include two more column names `'file'` and `'audio'`. `'file'` states the absolute path of the audio file. Let's take a look."
      ]
    },
    {
      "cell_type": "code",
      "execution_count": 26,
      "metadata": {
        "colab": {
          "base_uri": "https://localhost:8080/",
          "height": 36
        },
        "id": "TTCS7W6XJ9BG",
        "outputId": "fdf3468a-d37a-4931-c9a6-222fb18a2d77"
      },
      "outputs": [
        {
          "data": {
            "text/plain": [
              "'/home/rainism/.cache/huggingface/datasets/downloads/extracted/6e28299bb2f99e1c5a9ce65147fe67da45e96a246b3b1524f3362605cd74ced5/data/TRAIN/DR4/MMDM0/SI681.WAV'"
            ]
          },
          "execution_count": 26,
          "metadata": {},
          "output_type": "execute_result"
        }
      ],
      "source": [
        "timit[\"train\"][0][\"file\"]"
      ]
    },
    {
      "cell_type": "markdown",
      "metadata": {
        "id": "BwxprOw4Nzrl"
      },
      "source": [
        "`Wav2Vec2` expects the input in the format of a 1-dimensional array of 16 kHz. This means that the audio file has to be loaded and resampled.\n",
        "\n",
        " Thankfully, `datasets` does this automatically when calling the column `audio`. Let try it out."
      ]
    },
    {
      "cell_type": "code",
      "execution_count": 27,
      "metadata": {
        "colab": {
          "base_uri": "https://localhost:8080/"
        },
        "id": "mk9QHuSsN7lf",
        "outputId": "1d665477-2012-44d9-b884-c16b28d0b13d"
      },
      "outputs": [
        {
          "data": {
            "text/plain": [
              "{'path': '/home/rainism/.cache/huggingface/datasets/downloads/extracted/6e28299bb2f99e1c5a9ce65147fe67da45e96a246b3b1524f3362605cd74ced5/data/TRAIN/DR4/MMDM0/SI681.WAV',\n",
              " 'array': array([-2.1362305e-04,  6.1035156e-05,  3.0517578e-05, ...,\n",
              "        -3.0517578e-05, -9.1552734e-05, -6.1035156e-05], dtype=float32),\n",
              " 'sampling_rate': 16000}"
            ]
          },
          "execution_count": 27,
          "metadata": {},
          "output_type": "execute_result"
        }
      ],
      "source": [
        "timit[\"train\"][0][\"audio\"]"
      ]
    },
    {
      "cell_type": "markdown",
      "metadata": {
        "id": "wSBIGEiaKHMn"
      },
      "source": [
        "We can see that the audio file has automatically been loaded. This is thanks to the new [`\"Audio\"` feature](https://huggingface.co/docs/datasets/package_reference/main_classes.html?highlight=audio#datasets.Audio) introduced in `datasets == 4.13.3`, which loads and resamples audio files on-the-fly upon calling.\n",
        "\n",
        "The sampling rate is set to 16kHz which is what `Wav2Vec2` expects as an input."
      ]
    },
    {
      "cell_type": "markdown",
      "metadata": {
        "id": "SOckzFd4Mbzq"
      },
      "source": [
        "Great, let's listen to a couple of audio files to better understand the dataset and verify that the audio was correctly loaded.\n",
        "\n",
        "**Note**: *You can click the following cell a couple of times to listen to different speech samples.*"
      ]
    },
    {
      "cell_type": "code",
      "execution_count": 28,
      "metadata": {
        "colab": {
          "base_uri": "https://localhost:8080/",
          "height": 94
        },
        "id": "dueM6U7Ev0OA",
        "outputId": "4220aef7-b6ef-452f-e7f9-905198a5b497"
      },
      "outputs": [
        {
          "name": "stdout",
          "output_type": "stream",
          "text": [
            "she had your dark suit in greasy wash water all year \n"
          ]
        },
        {
          "data": {
            "text/html": [
              "\n",
              "                <audio  controls=\"controls\" autoplay=\"autoplay\">\n",
              "                    <source src=\"data:audio/wav;base64,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\" type=\"audio/wav\" />\n",
              "                    Your browser does not support the audio element.\n",
              "                </audio>\n",
              "              "
            ],
            "text/plain": [
              "<IPython.lib.display.Audio object>"
            ]
          },
          "execution_count": 28,
          "metadata": {},
          "output_type": "execute_result"
        }
      ],
      "source": [
        "import IPython.display as ipd\n",
        "import numpy as np\n",
        "import random\n",
        "\n",
        "rand_int = random.randint(0, len(timit[\"train\"]))\n",
        "\n",
        "print(timit[\"train\"][rand_int][\"text\"])\n",
        "ipd.Audio(data=np.asarray(timit[\"train\"][rand_int][\"audio\"][\"array\"]), autoplay=True, rate=16000)"
      ]
    },
    {
      "cell_type": "markdown",
      "metadata": {
        "id": "1MaL9J2dNVtG"
      },
      "source": [
        "It can be heard, that the speakers change along with their speaking rate, accent, etc. Overall, the recordings sound relatively clear though, which is to be expected from a read speech corpus.\n",
        "\n",
        "Let's do a final check that the data is correctly prepared, by printing the shape of the speech input, its transcription, and the corresponding sampling rate.\n",
        "\n",
        "**Note**: *You can click the following cell a couple of times to verify multiple samples.*"
      ]
    },
    {
      "cell_type": "code",
      "execution_count": 29,
      "metadata": {
        "colab": {
          "base_uri": "https://localhost:8080/"
        },
        "id": "1Po2g7YPuRTx",
        "outputId": "5a99494b-4cf6-46d2-a986-81ed4e1240dd"
      },
      "outputs": [
        {
          "name": "stdout",
          "output_type": "stream",
          "text": [
            "Target text: the barracuda recoiled from the serpent's poisonous fangs \n",
            "Input array shape: (72704,)\n",
            "Sampling rate: 16000\n"
          ]
        }
      ],
      "source": [
        "rand_int = random.randint(0, len(timit[\"train\"]))\n",
        "\n",
        "print(\"Target text:\", timit[\"train\"][rand_int][\"text\"])\n",
        "print(\"Input array shape:\", np.asarray(timit[\"train\"][rand_int][\"audio\"][\"array\"]).shape)\n",
        "print(\"Sampling rate:\", timit[\"train\"][rand_int][\"audio\"][\"sampling_rate\"])"
      ]
    },
    {
      "cell_type": "markdown",
      "metadata": {
        "id": "M9teZcSwOBJ4"
      },
      "source": [
        "Good! Everything looks fine - the data is a 1-dimensional array, the sampling rate always corresponds to 16kHz, and the target text is normalized."
      ]
    },
    {
      "cell_type": "markdown",
      "metadata": {
        "id": "k3Pbn5WvOYZF"
      },
      "source": [
        "Finally, we can process the dataset to the format expected by the model for training. We will make use of the `map(...)` function.\n",
        "\n",
        "First, we load and resample the audio data, simply by calling `batch[\"audio\"]`.\n",
        "Second, we extract the `input_values` from the loaded audio file. In our case, the `Wav2Vec2Processor` only normalizes the data. For other speech models, however, this step can include more complex feature extraction, such as [Log-Mel feature extraction](https://en.wikipedia.org/wiki/Mel-frequency_cepstrum).\n",
        "Third, we encode the transcriptions to label ids.\n",
        "\n",
        "**Note**: This mapping function is a good example of how the `Wav2Vec2Processor` class should be used. In \"normal\" context, calling `processor(...)` is redirected to `Wav2Vec2FeatureExtractor`'s call method. When wrapping the processor into the `as_target_processor` context, however, the same method is redirected to `Wav2Vec2CTCTokenizer`'s call method.\n",
        "For more information please check the [docs](https://huggingface.co/transformers/master/model_doc/wav2vec2.html#transformers.Wav2Vec2Processor.__call__)."
      ]
    },
    {
      "cell_type": "code",
      "execution_count": 30,
      "metadata": {
        "id": "eJY7I0XAwe9p"
      },
      "outputs": [],
      "source": [
        "def prepare_dataset(batch):\n",
        "    audio = batch[\"audio\"]\n",
        "\n",
        "    # batched output is \"un-batched\" to ensure mapping is correct\n",
        "    batch[\"input_values\"] = processor(audio[\"array\"], sampling_rate=audio[\"sampling_rate\"]).input_values[0]\n",
        "    batch[\"input_length\"] = len(batch[\"input_values\"])\n",
        "\n",
        "    with processor.as_target_processor():\n",
        "        batch[\"labels\"] = processor(batch[\"text\"]).input_ids\n",
        "    return batch"
      ]
    },
    {
      "cell_type": "markdown",
      "metadata": {
        "id": "hVMZhH4-nP8-"
      },
      "source": [
        "Let's apply the data preparation function to all examples."
      ]
    },
    {
      "cell_type": "code",
      "execution_count": 32,
      "metadata": {
        "colab": {
          "base_uri": "https://localhost:8080/"
        },
        "id": "-np9xYK-wl8q",
        "outputId": "da1c6465-a1e7-4408-e813-8d805a50cf3a"
      },
      "outputs": [
        {
          "name": "stderr",
          "output_type": "stream",
          "text": [
            " #0: 0ex [00:00, ?ex/s]\n",
            "\u001b[A\n",
            "\n",
            " #0: 1ex [00:01,  1.07s/ex]\n",
            "\u001b[A\n",
            "\n",
            " #0: 103ex [00:01, 120.81ex/s]\n",
            "\u001b[A\n",
            "\n",
            " #0: 192ex [00:01, 231.32ex/s]\n",
            "\u001b[A\n",
            "\n",
            " #0: 298ex [00:01, 372.09ex/s]\n",
            "\u001b[A\n",
            "\n",
            " #0: 400ex [00:01, 498.67ex/s]\n",
            "\u001b[A\n",
            "\n",
            " #0: 501ex [00:01, 610.28ex/s]\n",
            "\u001b[A\n",
            "\n",
            " #0: 606ex [00:01, 713.57ex/s]\n",
            "\u001b[A\n",
            "\n",
            " #0: 704ex [00:01, 769.65ex/s]\n",
            "\u001b[A\n",
            "\n",
            " #0: 810ex [00:01, 844.30ex/s]\n",
            "\u001b[A\n",
            "\n",
            " #0: 913ex [00:01, 893.06ex/s]\n",
            "\u001b[A\n",
            "\n",
            "\u001b[A\u001b[A\n",
            "\n",
            "\u001b[A\u001b[A/home/rainism/anaconda3/envs/w2v/lib/python3.9/site-packages/datasets/features/features.py:1131: FutureWarning: In the future `np.object` will be defined as the corresponding NumPy scalar.\n",
            "  [0] + [len(arr) for arr in l_arr], dtype=np.object\n",
            " #1: 999ex [00:02, 465.44ex/s]\n",
            "/home/rainism/anaconda3/envs/w2v/lib/python3.9/site-packages/datasets/features/features.py:1131: FutureWarning: In the future `np.object` will be defined as the corresponding NumPy scalar.\n",
            "  [0] + [len(arr) for arr in l_arr], dtype=np.object\n",
            " #0: 999ex [00:02, 462.96ex/s]\n",
            "/home/rainism/anaconda3/envs/w2v/lib/python3.9/site-packages/datasets/features/features.py:1131: FutureWarning: In the future `np.object` will be defined as the corresponding NumPy scalar.\n",
            "  [0] + [len(arr) for arr in l_arr], dtype=np.object\n",
            " #2: 999ex [00:02, 459.05ex/s]\n",
            "/home/rainism/anaconda3/envs/w2v/lib/python3.9/site-packages/datasets/features/features.py:1131: FutureWarning: In the future `np.object` will be defined as the corresponding NumPy scalar.\n",
            "  [0] + [len(arr) for arr in l_arr], dtype=np.object\n",
            " #3: 999ex [00:02, 446.26ex/s]\n"
          ]
        },
        {
          "ename": "AttributeError",
          "evalue": "module 'numpy' has no attribute 'object'.\n`np.object` was a deprecated alias for the builtin `object`. To avoid this error in existing code, use `object` by itself. Doing this will not modify any behavior and is safe. \nThe aliases was originally deprecated in NumPy 1.20; for more details and guidance see the original release note at:\n    https://numpy.org/devdocs/release/1.20.0-notes.html#deprecations",
          "output_type": "error",
          "traceback": [
            "\u001b[0;31m---------------------------------------------------------------------------\u001b[0m",
            "\u001b[0;31mRemoteTraceback\u001b[0m                           Traceback (most recent call last)",
            "\u001b[0;31mRemoteTraceback\u001b[0m: \n\"\"\"\nTraceback (most recent call last):\n  File \"/home/rainism/anaconda3/envs/w2v/lib/python3.9/site-packages/datasets/arrow_dataset.py\", line 2468, in _map_single\n    writer.write(example)\n  File \"/home/rainism/anaconda3/envs/w2v/lib/python3.9/site-packages/datasets/arrow_writer.py\", line 444, in write\n    self.write_examples_on_file()\n  File \"/home/rainism/anaconda3/envs/w2v/lib/python3.9/site-packages/datasets/arrow_writer.py\", line 402, in write_examples_on_file\n    self.write_batch(batch_examples=batch_examples)\n  File \"/home/rainism/anaconda3/envs/w2v/lib/python3.9/site-packages/datasets/arrow_writer.py\", line 495, in write_batch\n    arrays.append(pa.array(typed_sequence))\n  File \"pyarrow/array.pxi\", line 243, in pyarrow.lib.array\n  File \"pyarrow/array.pxi\", line 110, in pyarrow.lib._handle_arrow_array_protocol\n  File \"/home/rainism/anaconda3/envs/w2v/lib/python3.9/site-packages/datasets/arrow_writer.py\", line 185, in __arrow_array__\n    out = list_of_np_array_to_pyarrow_listarray(data)\n  File \"/home/rainism/anaconda3/envs/w2v/lib/python3.9/site-packages/datasets/features/features.py\", line 1142, in list_of_np_array_to_pyarrow_listarray\n    return list_of_pa_arrays_to_pyarrow_listarray(\n  File \"/home/rainism/anaconda3/envs/w2v/lib/python3.9/site-packages/datasets/features/features.py\", line 1131, in list_of_pa_arrays_to_pyarrow_listarray\n    [0] + [len(arr) for arr in l_arr], dtype=np.object\n  File \"/home/rainism/anaconda3/envs/w2v/lib/python3.9/site-packages/numpy/__init__.py\", line 319, in __getattr__\n    raise AttributeError(__former_attrs__[attr])\nAttributeError: module 'numpy' has no attribute 'object'.\n`np.object` was a deprecated alias for the builtin `object`. To avoid this error in existing code, use `object` by itself. Doing this will not modify any behavior and is safe. \nThe aliases was originally deprecated in NumPy 1.20; for more details and guidance see the original release note at:\n    https://numpy.org/devdocs/release/1.20.0-notes.html#deprecations\n\nDuring handling of the above exception, another exception occurred:\n\nTraceback (most recent call last):\n  File \"/home/rainism/anaconda3/envs/w2v/lib/python3.9/site-packages/multiprocess/pool.py\", line 125, in worker\n    result = (True, func(*args, **kwds))\n  File \"/home/rainism/anaconda3/envs/w2v/lib/python3.9/site-packages/datasets/arrow_dataset.py\", line 518, in wrapper\n    out: Union[\"Dataset\", \"DatasetDict\"] = func(self, *args, **kwargs)\n  File \"/home/rainism/anaconda3/envs/w2v/lib/python3.9/site-packages/datasets/arrow_dataset.py\", line 485, in wrapper\n    out: Union[\"Dataset\", \"DatasetDict\"] = func(self, *args, **kwargs)\n  File \"/home/rainism/anaconda3/envs/w2v/lib/python3.9/site-packages/datasets/fingerprint.py\", line 413, in wrapper\n    out = func(self, *args, **kwargs)\n  File \"/home/rainism/anaconda3/envs/w2v/lib/python3.9/site-packages/datasets/arrow_dataset.py\", line 2504, in _map_single\n    writer.finalize()\n  File \"/home/rainism/anaconda3/envs/w2v/lib/python3.9/site-packages/datasets/arrow_writer.py\", line 525, in finalize\n    self.write_examples_on_file()\n  File \"/home/rainism/anaconda3/envs/w2v/lib/python3.9/site-packages/datasets/arrow_writer.py\", line 402, in write_examples_on_file\n    self.write_batch(batch_examples=batch_examples)\n  File \"/home/rainism/anaconda3/envs/w2v/lib/python3.9/site-packages/datasets/arrow_writer.py\", line 495, in write_batch\n    arrays.append(pa.array(typed_sequence))\n  File \"pyarrow/array.pxi\", line 243, in pyarrow.lib.array\n  File \"pyarrow/array.pxi\", line 110, in pyarrow.lib._handle_arrow_array_protocol\n  File \"/home/rainism/anaconda3/envs/w2v/lib/python3.9/site-packages/datasets/arrow_writer.py\", line 185, in __arrow_array__\n    out = list_of_np_array_to_pyarrow_listarray(data)\n  File \"/home/rainism/anaconda3/envs/w2v/lib/python3.9/site-packages/datasets/features/features.py\", line 1142, in list_of_np_array_to_pyarrow_listarray\n    return list_of_pa_arrays_to_pyarrow_listarray(\n  File \"/home/rainism/anaconda3/envs/w2v/lib/python3.9/site-packages/datasets/features/features.py\", line 1131, in list_of_pa_arrays_to_pyarrow_listarray\n    [0] + [len(arr) for arr in l_arr], dtype=np.object\n  File \"/home/rainism/anaconda3/envs/w2v/lib/python3.9/site-packages/numpy/__init__.py\", line 319, in __getattr__\n    raise AttributeError(__former_attrs__[attr])\nAttributeError: module 'numpy' has no attribute 'object'.\n`np.object` was a deprecated alias for the builtin `object`. To avoid this error in existing code, use `object` by itself. Doing this will not modify any behavior and is safe. \nThe aliases was originally deprecated in NumPy 1.20; for more details and guidance see the original release note at:\n    https://numpy.org/devdocs/release/1.20.0-notes.html#deprecations\n\"\"\"",
            "\nThe above exception was the direct cause of the following exception:\n",
            "\u001b[0;31mAttributeError\u001b[0m                            Traceback (most recent call last)",
            "Cell \u001b[0;32mIn[32], line 1\u001b[0m\n\u001b[0;32m----> 1\u001b[0m timit \u001b[39m=\u001b[39m timit\u001b[39m.\u001b[39;49mmap(prepare_dataset, remove_columns\u001b[39m=\u001b[39;49mtimit\u001b[39m.\u001b[39;49mcolumn_names[\u001b[39m\"\u001b[39;49m\u001b[39mtrain\u001b[39;49m\u001b[39m\"\u001b[39;49m], num_proc\u001b[39m=\u001b[39;49m\u001b[39m4\u001b[39;49m)\n",
            "File \u001b[0;32m~/anaconda3/envs/w2v/lib/python3.9/site-packages/datasets/dataset_dict.py:494\u001b[0m, in \u001b[0;36mDatasetDict.map\u001b[0;34m(self, function, with_indices, input_columns, batched, batch_size, remove_columns, keep_in_memory, load_from_cache_file, cache_file_names, writer_batch_size, features, disable_nullable, fn_kwargs, num_proc, desc)\u001b[0m\n\u001b[1;32m    491\u001b[0m \u001b[39mif\u001b[39;00m cache_file_names \u001b[39mis\u001b[39;00m \u001b[39mNone\u001b[39;00m:\n\u001b[1;32m    492\u001b[0m     cache_file_names \u001b[39m=\u001b[39m {k: \u001b[39mNone\u001b[39;00m \u001b[39mfor\u001b[39;00m k \u001b[39min\u001b[39;00m \u001b[39mself\u001b[39m}\n\u001b[1;32m    493\u001b[0m \u001b[39mreturn\u001b[39;00m DatasetDict(\n\u001b[0;32m--> 494\u001b[0m     {\n\u001b[1;32m    495\u001b[0m         k: dataset\u001b[39m.\u001b[39mmap(\n\u001b[1;32m    496\u001b[0m             function\u001b[39m=\u001b[39mfunction,\n\u001b[1;32m    497\u001b[0m             with_indices\u001b[39m=\u001b[39mwith_indices,\n\u001b[1;32m    498\u001b[0m             input_columns\u001b[39m=\u001b[39minput_columns,\n\u001b[1;32m    499\u001b[0m             batched\u001b[39m=\u001b[39mbatched,\n\u001b[1;32m    500\u001b[0m             batch_size\u001b[39m=\u001b[39mbatch_size,\n\u001b[1;32m    501\u001b[0m             remove_columns\u001b[39m=\u001b[39mremove_columns,\n\u001b[1;32m    502\u001b[0m             keep_in_memory\u001b[39m=\u001b[39mkeep_in_memory,\n\u001b[1;32m    503\u001b[0m             load_from_cache_file\u001b[39m=\u001b[39mload_from_cache_file,\n\u001b[1;32m    504\u001b[0m             cache_file_name\u001b[39m=\u001b[39mcache_file_names[k],\n\u001b[1;32m    505\u001b[0m             writer_batch_size\u001b[39m=\u001b[39mwriter_batch_size,\n\u001b[1;32m    506\u001b[0m             features\u001b[39m=\u001b[39mfeatures,\n\u001b[1;32m    507\u001b[0m             disable_nullable\u001b[39m=\u001b[39mdisable_nullable,\n\u001b[1;32m    508\u001b[0m             fn_kwargs\u001b[39m=\u001b[39mfn_kwargs,\n\u001b[1;32m    509\u001b[0m             num_proc\u001b[39m=\u001b[39mnum_proc,\n\u001b[1;32m    510\u001b[0m             desc\u001b[39m=\u001b[39mdesc,\n\u001b[1;32m    511\u001b[0m         )\n\u001b[1;32m    512\u001b[0m         \u001b[39mfor\u001b[39;00m k, dataset \u001b[39min\u001b[39;00m \u001b[39mself\u001b[39m\u001b[39m.\u001b[39mitems()\n\u001b[1;32m    513\u001b[0m     }\n\u001b[1;32m    514\u001b[0m )\n",
            "File \u001b[0;32m~/anaconda3/envs/w2v/lib/python3.9/site-packages/datasets/dataset_dict.py:495\u001b[0m, in \u001b[0;36m<dictcomp>\u001b[0;34m(.0)\u001b[0m\n\u001b[1;32m    491\u001b[0m \u001b[39mif\u001b[39;00m cache_file_names \u001b[39mis\u001b[39;00m \u001b[39mNone\u001b[39;00m:\n\u001b[1;32m    492\u001b[0m     cache_file_names \u001b[39m=\u001b[39m {k: \u001b[39mNone\u001b[39;00m \u001b[39mfor\u001b[39;00m k \u001b[39min\u001b[39;00m \u001b[39mself\u001b[39m}\n\u001b[1;32m    493\u001b[0m \u001b[39mreturn\u001b[39;00m DatasetDict(\n\u001b[1;32m    494\u001b[0m     {\n\u001b[0;32m--> 495\u001b[0m         k: dataset\u001b[39m.\u001b[39;49mmap(\n\u001b[1;32m    496\u001b[0m             function\u001b[39m=\u001b[39;49mfunction,\n\u001b[1;32m    497\u001b[0m             with_indices\u001b[39m=\u001b[39;49mwith_indices,\n\u001b[1;32m    498\u001b[0m             input_columns\u001b[39m=\u001b[39;49minput_columns,\n\u001b[1;32m    499\u001b[0m             batched\u001b[39m=\u001b[39;49mbatched,\n\u001b[1;32m    500\u001b[0m             batch_size\u001b[39m=\u001b[39;49mbatch_size,\n\u001b[1;32m    501\u001b[0m             remove_columns\u001b[39m=\u001b[39;49mremove_columns,\n\u001b[1;32m    502\u001b[0m             keep_in_memory\u001b[39m=\u001b[39;49mkeep_in_memory,\n\u001b[1;32m    503\u001b[0m             load_from_cache_file\u001b[39m=\u001b[39;49mload_from_cache_file,\n\u001b[1;32m    504\u001b[0m             cache_file_name\u001b[39m=\u001b[39;49mcache_file_names[k],\n\u001b[1;32m    505\u001b[0m             writer_batch_size\u001b[39m=\u001b[39;49mwriter_batch_size,\n\u001b[1;32m    506\u001b[0m             features\u001b[39m=\u001b[39;49mfeatures,\n\u001b[1;32m    507\u001b[0m             disable_nullable\u001b[39m=\u001b[39;49mdisable_nullable,\n\u001b[1;32m    508\u001b[0m             fn_kwargs\u001b[39m=\u001b[39;49mfn_kwargs,\n\u001b[1;32m    509\u001b[0m             num_proc\u001b[39m=\u001b[39;49mnum_proc,\n\u001b[1;32m    510\u001b[0m             desc\u001b[39m=\u001b[39;49mdesc,\n\u001b[1;32m    511\u001b[0m         )\n\u001b[1;32m    512\u001b[0m         \u001b[39mfor\u001b[39;00m k, dataset \u001b[39min\u001b[39;00m \u001b[39mself\u001b[39m\u001b[39m.\u001b[39mitems()\n\u001b[1;32m    513\u001b[0m     }\n\u001b[1;32m    514\u001b[0m )\n",
            "File \u001b[0;32m~/anaconda3/envs/w2v/lib/python3.9/site-packages/datasets/arrow_dataset.py:2215\u001b[0m, in \u001b[0;36mDataset.map\u001b[0;34m(self, function, with_indices, with_rank, input_columns, batched, batch_size, drop_last_batch, remove_columns, keep_in_memory, load_from_cache_file, cache_file_name, writer_batch_size, features, disable_nullable, fn_kwargs, num_proc, suffix_template, new_fingerprint, desc)\u001b[0m\n\u001b[1;32m   2210\u001b[0m         \u001b[39massert\u001b[39;00m (\n\u001b[1;32m   2211\u001b[0m             \u001b[39mlen\u001b[39m(results) \u001b[39m==\u001b[39m nb_of_missing_shards\n\u001b[1;32m   2212\u001b[0m         ), \u001b[39m\"\u001b[39m\u001b[39mThe number of missing cached shards needs to correspond to the number of `_map_single` we\u001b[39m\u001b[39m'\u001b[39m\u001b[39mre running\u001b[39m\u001b[39m\"\u001b[39m\n\u001b[1;32m   2214\u001b[0m         \u001b[39mfor\u001b[39;00m index, async_result \u001b[39min\u001b[39;00m results\u001b[39m.\u001b[39mitems():\n\u001b[0;32m-> 2215\u001b[0m             transformed_shards[index] \u001b[39m=\u001b[39m async_result\u001b[39m.\u001b[39;49mget()\n\u001b[1;32m   2217\u001b[0m \u001b[39massert\u001b[39;00m (\n\u001b[1;32m   2218\u001b[0m     transformed_shards\u001b[39m.\u001b[39mcount(\u001b[39mNone\u001b[39;00m) \u001b[39m==\u001b[39m \u001b[39m0\u001b[39m\n\u001b[1;32m   2219\u001b[0m ), \u001b[39m\"\u001b[39m\u001b[39mAll shards have to be defined Datasets, none should still be missing.\u001b[39m\u001b[39m\"\u001b[39m\n\u001b[1;32m   2221\u001b[0m logger\u001b[39m.\u001b[39minfo(\u001b[39mf\u001b[39m\u001b[39m\"\u001b[39m\u001b[39mConcatenating \u001b[39m\u001b[39m{\u001b[39;00mnum_proc\u001b[39m}\u001b[39;00m\u001b[39m shards\u001b[39m\u001b[39m\"\u001b[39m)\n",
            "File \u001b[0;32m~/anaconda3/envs/w2v/lib/python3.9/site-packages/multiprocess/pool.py:771\u001b[0m, in \u001b[0;36mApplyResult.get\u001b[0;34m(self, timeout)\u001b[0m\n\u001b[1;32m    769\u001b[0m     \u001b[39mreturn\u001b[39;00m \u001b[39mself\u001b[39m\u001b[39m.\u001b[39m_value\n\u001b[1;32m    770\u001b[0m \u001b[39melse\u001b[39;00m:\n\u001b[0;32m--> 771\u001b[0m     \u001b[39mraise\u001b[39;00m \u001b[39mself\u001b[39m\u001b[39m.\u001b[39m_value\n",
            "\u001b[0;31mAttributeError\u001b[0m: module 'numpy' has no attribute 'object'.\n`np.object` was a deprecated alias for the builtin `object`. To avoid this error in existing code, use `object` by itself. Doing this will not modify any behavior and is safe. \nThe aliases was originally deprecated in NumPy 1.20; for more details and guidance see the original release note at:\n    https://numpy.org/devdocs/release/1.20.0-notes.html#deprecations"
          ]
        }
      ],
      "source": [
        "timit = timit.map(prepare_dataset, remove_columns=timit.column_names[\"train\"], num_proc=4)"
      ]
    },
    {
      "cell_type": "markdown",
      "metadata": {
        "id": "p_MuJSH8nTuQ"
      },
      "source": [
        "**Note**: Currently `datasets` make use of [`torchaudio`](https://pytorch.org/audio/stable/index.html) and [`librosa`](https://librosa.org/doc/latest/index.html) for audio loading and resampling. If you wish to implement your own costumized data loading/sampling, feel free to just make use of the `\"path\"` column instead and disregard the `\"audio\"` column."
      ]
    },
    {
      "cell_type": "markdown",
      "metadata": {
        "id": "M4J0bU1WsvAg"
      },
      "source": [
        "Long input sequences require a lot of memory. Since `Wav2Vec2` is based on `self-attention` the memory requirement scales quadratically with the input length for long input sequences (*cf.* with [this](https://www.reddit.com/r/MachineLearning/comments/genjvb/d_why_is_the_maximum_input_sequence_length_of/) reddit post). For this demo, let's filter all sequences that are longer than 4 seconds out of the training dataset."
      ]
    },
    {
      "cell_type": "code",
      "execution_count": null,
      "metadata": {
        "colab": {
          "base_uri": "https://localhost:8080/"
        },
        "id": "nqGobEPUvG3v",
        "outputId": "0cae58f9-2cd9-405a-ad60-7bb31e649911"
      },
      "outputs": [
        {
          "name": "stderr",
          "output_type": "stream",
          "text": [
            "Loading cached processed dataset at /root/.cache/huggingface/datasets/timit_asr/clean/2.0.1/b11b576ddcccbcefa7c9f0c4e6c2a43756f3033adffe0fb686aa61043d0450ad/cache-27a077ffa2911470.arrow\n"
          ]
        }
      ],
      "source": [
        "max_input_length_in_sec = 4.0\n",
        "timit[\"train\"] = timit[\"train\"].filter(lambda x: x < max_input_length_in_sec * processor.feature_extractor.sampling_rate, input_columns=[\"input_length\"])"
      ]
    },
    {
      "cell_type": "markdown",
      "metadata": {
        "id": "25Genil2v_Br"
      },
      "source": [
        "Awesome, now we are ready to start training!"
      ]
    },
    {
      "cell_type": "markdown",
      "metadata": {
        "id": "gYlQkKVoRUos"
      },
      "source": [
        "## Training & Evaluation\n",
        "\n",
        "The data is processed so that we are ready to start setting up the training pipeline. We will make use of 🤗's [Trainer](https://huggingface.co/transformers/master/main_classes/trainer.html?highlight=trainer) for which we essentially need to do the following:\n",
        "\n",
        "- Define a data collator. In contrast to most NLP models, Wav2Vec2 has a much larger input length than output length. *E.g.*, a sample of input length 50000 has an output length of no more than 100. Given the large input sizes, it is much more efficient to pad the training batches dynamically meaning that all training samples should only be padded to the longest sample in their batch and not the overall longest sample. Therefore, fine-tuning Wav2Vec2 requires a special padding data collator, which we will define below\n",
        "\n",
        "- Evaluation metric. During training, the model should be evaluated on the word error rate. We should define a `compute_metrics` function accordingly\n",
        "\n",
        "- Load a pretrained checkpoint. We need to load a pretrained checkpoint and configure it correctly for training.\n",
        "\n",
        "- Define the training configuration.\n",
        "\n",
        "After having fine-tuned the model, we will correctly evaluate it on the test data and verify that it has indeed learned to correctly transcribe speech."
      ]
    },
    {
      "cell_type": "markdown",
      "metadata": {
        "id": "Slk403unUS91"
      },
      "source": [
        "### Set-up Trainer\n",
        "\n",
        "Let's start by defining the data collator. The code for the data collator was copied from [this example](https://github.com/huggingface/transformers/blob/9a06b6b11bdfc42eea08fa91d0c737d1863c99e3/examples/research_projects/wav2vec2/run_asr.py#L81).\n",
        "\n",
        "Without going into too many details, in contrast to the common data collators, this data collator treats the `input_values` and `labels` differently and thus applies to separate padding functions on them (again making use of Wav2Vec2's context manager). This is necessary because in speech input and output are of different modalities meaning that they should not be treated by the same padding function.\n",
        "Analogous to the common data collators, the padding tokens in the labels with `-100` so that those tokens are **not** taken into account when computing the loss."
      ]
    },
    {
      "cell_type": "code",
      "execution_count": null,
      "metadata": {
        "id": "tborvC9hx88e"
      },
      "outputs": [],
      "source": [
        "import torch\n",
        "\n",
        "from dataclasses import dataclass, field\n",
        "from typing import Any, Dict, List, Optional, Union\n",
        "\n",
        "@dataclass\n",
        "class DataCollatorCTCWithPadding:\n",
        "    \"\"\"\n",
        "    Data collator that will dynamically pad the inputs received.\n",
        "    Args:\n",
        "        processor (:class:`~transformers.Wav2Vec2Processor`)\n",
        "            The processor used for proccessing the data.\n",
        "        padding (:obj:`bool`, :obj:`str` or :class:`~transformers.tokenization_utils_base.PaddingStrategy`, `optional`, defaults to :obj:`True`):\n",
        "            Select a strategy to pad the returned sequences (according to the model's padding side and padding index)\n",
        "            among:\n",
        "            * :obj:`True` or :obj:`'longest'`: Pad to the longest sequence in the batch (or no padding if only a single\n",
        "              sequence if provided).\n",
        "            * :obj:`'max_length'`: Pad to a maximum length specified with the argument :obj:`max_length` or to the\n",
        "              maximum acceptable input length for the model if that argument is not provided.\n",
        "            * :obj:`False` or :obj:`'do_not_pad'` (default): No padding (i.e., can output a batch with sequences of\n",
        "              different lengths).\n",
        "    \"\"\"\n",
        "\n",
        "    processor: Wav2Vec2Processor\n",
        "    padding: Union[bool, str] = True\n",
        "\n",
        "    def __call__(self, features: List[Dict[str, Union[List[int], torch.Tensor]]]) -> Dict[str, torch.Tensor]:\n",
        "        # split inputs and labels since they have to be of different lenghts and need\n",
        "        # different padding methods\n",
        "        input_features = [{\"input_values\": feature[\"input_values\"]} for feature in features]\n",
        "        label_features = [{\"input_ids\": feature[\"labels\"]} for feature in features]\n",
        "\n",
        "        batch = self.processor.pad(\n",
        "            input_features,\n",
        "            padding=self.padding,\n",
        "            return_tensors=\"pt\",\n",
        "        )\n",
        "        with self.processor.as_target_processor():\n",
        "            labels_batch = self.processor.pad(\n",
        "                label_features,\n",
        "                padding=self.padding,\n",
        "                return_tensors=\"pt\",\n",
        "            )\n",
        "\n",
        "        # replace padding with -100 to ignore loss correctly\n",
        "        labels = labels_batch[\"input_ids\"].masked_fill(labels_batch.attention_mask.ne(1), -100)\n",
        "\n",
        "        batch[\"labels\"] = labels\n",
        "\n",
        "        return batch"
      ]
    },
    {
      "cell_type": "code",
      "execution_count": null,
      "metadata": {
        "id": "lbQf5GuZyQ4_"
      },
      "outputs": [],
      "source": [
        "data_collator = DataCollatorCTCWithPadding(processor=processor, padding=True)"
      ]
    },
    {
      "cell_type": "markdown",
      "metadata": {
        "id": "xO-Zdj-5cxXp"
      },
      "source": [
        "Next, the evaluation metric is defined. As mentioned earlier, the\n",
        "predominant metric in ASR is the word error rate (WER), hence we will use it in this notebook as well."
      ]
    },
    {
      "cell_type": "code",
      "execution_count": null,
      "metadata": {
        "id": "9Xsux2gmyXso"
      },
      "outputs": [],
      "source": [
        "wer_metric = load_metric(\"wer\")"
      ]
    },
    {
      "cell_type": "markdown",
      "metadata": {
        "id": "E1qZU5p-deqB"
      },
      "source": [
        "The model will return a sequence of logit vectors:\n",
        "$\\mathbf{y}_1, \\ldots, \\mathbf{y}_m$ with $\\mathbf{y}_1 = f_{\\theta}(x_1, \\ldots, x_n)[0]$ and $n >> m$.\n",
        "\n",
        "A logit vector $\\mathbf{y}_1$ contains the log-odds for each word in the vocabulary we defined earlier, thus $\\text{len}(\\mathbf{y}_i) =$ `config.vocab_size`. We are interested in the most likely prediction of the model and thus take the `argmax(...)` of the logits. Also, we transform the encoded labels back to the original string by replacing `-100` with the `pad_token_id` and decoding the ids while making sure that consecutive tokens are **not** grouped to the same token in CTC style ${}^1$."
      ]
    },
    {
      "cell_type": "code",
      "execution_count": null,
      "metadata": {
        "id": "1XZ-kjweyTy_"
      },
      "outputs": [],
      "source": [
        "def compute_metrics(pred):\n",
        "    pred_logits = pred.predictions\n",
        "    pred_ids = np.argmax(pred_logits, axis=-1)\n",
        "\n",
        "    pred.label_ids[pred.label_ids == -100] = processor.tokenizer.pad_token_id\n",
        "\n",
        "    pred_str = processor.batch_decode(pred_ids)\n",
        "    # we do not want to group tokens when computing the metrics\n",
        "    label_str = processor.batch_decode(pred.label_ids, group_tokens=False)\n",
        "\n",
        "    wer = wer_metric.compute(predictions=pred_str, references=label_str)\n",
        "\n",
        "    return {\"wer\": wer}"
      ]
    },
    {
      "cell_type": "markdown",
      "metadata": {
        "id": "Xmgrx4bRwLIH"
      },
      "source": [
        "Now, we can load the pretrained `Wav2Vec2` checkpoint. The tokenizer's `pad_token_id` must be to define the model's `pad_token_id` or in the case of `Wav2Vec2ForCTC` also CTC's *blank token* ${}^2$. To save GPU memory, we enable PyTorch's [gradient checkpointing](https://pytorch.org/docs/stable/checkpoint.html) and also set the loss reduction to \"*mean*\"."
      ]
    },
    {
      "cell_type": "code",
      "execution_count": null,
      "metadata": {
        "colab": {
          "base_uri": "https://localhost:8080/"
        },
        "id": "e7cqAWIayn6w",
        "outputId": "0b87744a-98a0-4198-c9f6-2a0f46365058"
      },
      "outputs": [
        {
          "name": "stderr",
          "output_type": "stream",
          "text": [
            "loading configuration file https://huggingface.co/facebook/wav2vec2-base/resolve/main/config.json from cache at /root/.cache/huggingface/transformers/c7746642f045322fd01afa31271dd490e677ea11999e68660a92619ec7c892b4.ce1f96bfaf3d7475cb8187b9668c7f19437ade45fb9ceb78d2b06a2cec198015\n",
            "/usr/local/lib/python3.7/dist-packages/transformers/configuration_utils.py:357: UserWarning: Passing `gradient_checkpointing` to a config initialization is deprecated and will be removed in v5 Transformers. Using `model.gradient_checkpointing_enable()` instead, or if you are using the `Trainer` API, pass `gradient_checkpointing=True` in your `TrainingArguments`.\n",
            "  \"Passing `gradient_checkpointing` to a config initialization is deprecated and will be removed in v5 \"\n",
            "Model config Wav2Vec2Config {\n",
            "  \"activation_dropout\": 0.0,\n",
            "  \"adapter_kernel_size\": 3,\n",
            "  \"adapter_stride\": 2,\n",
            "  \"add_adapter\": false,\n",
            "  \"apply_spec_augment\": true,\n",
            "  \"architectures\": [\n",
            "    \"Wav2Vec2ForPreTraining\"\n",
            "  ],\n",
            "  \"attention_dropout\": 0.1,\n",
            "  \"bos_token_id\": 1,\n",
            "  \"classifier_proj_size\": 256,\n",
            "  \"codevector_dim\": 256,\n",
            "  \"contrastive_logits_temperature\": 0.1,\n",
            "  \"conv_bias\": false,\n",
            "  \"conv_dim\": [\n",
            "    512,\n",
            "    512,\n",
            "    512,\n",
            "    512,\n",
            "    512,\n",
            "    512,\n",
            "    512\n",
            "  ],\n",
            "  \"conv_kernel\": [\n",
            "    10,\n",
            "    3,\n",
            "    3,\n",
            "    3,\n",
            "    3,\n",
            "    2,\n",
            "    2\n",
            "  ],\n",
            "  \"conv_stride\": [\n",
            "    5,\n",
            "    2,\n",
            "    2,\n",
            "    2,\n",
            "    2,\n",
            "    2,\n",
            "    2\n",
            "  ],\n",
            "  \"ctc_loss_reduction\": \"mean\",\n",
            "  \"ctc_zero_infinity\": false,\n",
            "  \"diversity_loss_weight\": 0.1,\n",
            "  \"do_stable_layer_norm\": false,\n",
            "  \"eos_token_id\": 2,\n",
            "  \"feat_extract_activation\": \"gelu\",\n",
            "  \"feat_extract_norm\": \"group\",\n",
            "  \"feat_proj_dropout\": 0.1,\n",
            "  \"feat_quantizer_dropout\": 0.0,\n",
            "  \"final_dropout\": 0.0,\n",
            "  \"freeze_feat_extract_train\": true,\n",
            "  \"gradient_checkpointing\": true,\n",
            "  \"hidden_act\": \"gelu\",\n",
            "  \"hidden_dropout\": 0.1,\n",
            "  \"hidden_size\": 768,\n",
            "  \"initializer_range\": 0.02,\n",
            "  \"intermediate_size\": 3072,\n",
            "  \"layer_norm_eps\": 1e-05,\n",
            "  \"layerdrop\": 0.0,\n",
            "  \"mask_channel_length\": 10,\n",
            "  \"mask_channel_min_space\": 1,\n",
            "  \"mask_channel_other\": 0.0,\n",
            "  \"mask_channel_prob\": 0.0,\n",
            "  \"mask_channel_selection\": \"static\",\n",
            "  \"mask_feature_length\": 10,\n",
            "  \"mask_feature_min_masks\": 0,\n",
            "  \"mask_feature_prob\": 0.0,\n",
            "  \"mask_time_length\": 10,\n",
            "  \"mask_time_min_masks\": 2,\n",
            "  \"mask_time_min_space\": 1,\n",
            "  \"mask_time_other\": 0.0,\n",
            "  \"mask_time_prob\": 0.05,\n",
            "  \"mask_time_selection\": \"static\",\n",
            "  \"model_type\": \"wav2vec2\",\n",
            "  \"no_mask_channel_overlap\": false,\n",
            "  \"no_mask_time_overlap\": false,\n",
            "  \"num_adapter_layers\": 3,\n",
            "  \"num_attention_heads\": 12,\n",
            "  \"num_codevector_groups\": 2,\n",
            "  \"num_codevectors_per_group\": 320,\n",
            "  \"num_conv_pos_embedding_groups\": 16,\n",
            "  \"num_conv_pos_embeddings\": 128,\n",
            "  \"num_feat_extract_layers\": 7,\n",
            "  \"num_hidden_layers\": 12,\n",
            "  \"num_negatives\": 100,\n",
            "  \"output_hidden_size\": 768,\n",
            "  \"pad_token_id\": 29,\n",
            "  \"proj_codevector_dim\": 256,\n",
            "  \"tdnn_dilation\": [\n",
            "    1,\n",
            "    2,\n",
            "    3,\n",
            "    1,\n",
            "    1\n",
            "  ],\n",
            "  \"tdnn_dim\": [\n",
            "    512,\n",
            "    512,\n",
            "    512,\n",
            "    512,\n",
            "    1500\n",
            "  ],\n",
            "  \"tdnn_kernel\": [\n",
            "    5,\n",
            "    3,\n",
            "    3,\n",
            "    1,\n",
            "    1\n",
            "  ],\n",
            "  \"transformers_version\": \"4.17.0\",\n",
            "  \"use_weighted_layer_sum\": false,\n",
            "  \"vocab_size\": 32,\n",
            "  \"xvector_output_dim\": 512\n",
            "}\n",
            "\n",
            "loading weights file https://huggingface.co/facebook/wav2vec2-base/resolve/main/pytorch_model.bin from cache at /root/.cache/huggingface/transformers/ef45231897ce572a660ebc5a63d3702f1a6041c4c5fb78cbec330708531939b3.fcae05302a685f7904c551c8ea571e8bc2a2c4a1777ea81ad66e47f7883a650a\n",
            "Some weights of the model checkpoint at facebook/wav2vec2-base were not used when initializing Wav2Vec2ForCTC: ['project_q.weight', 'quantizer.weight_proj.bias', 'project_hid.bias', 'project_q.bias', 'quantizer.weight_proj.weight', 'project_hid.weight', 'quantizer.codevectors']\n",
            "- This IS expected if you are initializing Wav2Vec2ForCTC from the checkpoint of a model trained on another task or with another architecture (e.g. initializing a BertForSequenceClassification model from a BertForPreTraining model).\n",
            "- This IS NOT expected if you are initializing Wav2Vec2ForCTC from the checkpoint of a model that you expect to be exactly identical (initializing a BertForSequenceClassification model from a BertForSequenceClassification model).\n",
            "Some weights of Wav2Vec2ForCTC were not initialized from the model checkpoint at facebook/wav2vec2-base and are newly initialized: ['lm_head.weight', 'lm_head.bias']\n",
            "You should probably TRAIN this model on a down-stream task to be able to use it for predictions and inference.\n"
          ]
        }
      ],
      "source": [
        "from transformers import Wav2Vec2ForCTC\n",
        "\n",
        "model = Wav2Vec2ForCTC.from_pretrained(\n",
        "    \"facebook/wav2vec2-base\",\n",
        "    ctc_loss_reduction=\"mean\",\n",
        "    pad_token_id=processor.tokenizer.pad_token_id,\n",
        ")"
      ]
    },
    {
      "cell_type": "markdown",
      "metadata": {
        "id": "1DwR3XLSzGDD"
      },
      "source": [
        "The first component of Wav2Vec2 consists of a stack of CNN layers that are used to extract acoustically meaningful - but contextually independent - features from the raw speech signal. This part of the model has already been sufficiently trained during pretrainind and as stated in the [paper](https://arxiv.org/abs/2006.11477) does not need to be fine-tuned anymore.\n",
        "Thus, we can set the `requires_grad` to `False` for all parameters of the *feature extraction* part."
      ]
    },
    {
      "cell_type": "code",
      "execution_count": null,
      "metadata": {
        "id": "Et_NUAZjWppc"
      },
      "outputs": [],
      "source": [
        "model.freeze_feature_encoder()"
      ]
    },
    {
      "cell_type": "markdown",
      "metadata": {
        "id": "lD4aGhQM0K-D"
      },
      "source": [
        "In a final step, we define all parameters related to training.\n",
        "To give more explanation on some of the parameters:\n",
        "- `group_by_length` makes training more efficient by grouping training samples of similar input length into one batch. This can significantly speed up training time by heavily reducing the overall number of useless padding tokens that are passed through the model\n",
        "- `learning_rate` and `weight_decay` were heuristically tuned until fine-tuning has become stable. Note that those parameters strongly depend on the Timit dataset and might be suboptimal for other speech datasets.\n",
        "\n",
        "For more explanations on other parameters, one can take a look at the [docs](https://huggingface.co/transformers/master/main_classes/trainer.html?highlight=trainer#trainingarguments).\n",
        "\n",
        "During training, a checkpoint will be uploaded asynchronously to the hub every 400 training steps. It allows you to also play around with the demo widget even while your model is still training.\n",
        "\n",
        "**Note**: If one does not want to upload the model checkpoints to the hub, simply set `push_to_hub=False`."
      ]
    },
    {
      "cell_type": "code",
      "execution_count": null,
      "metadata": {
        "colab": {
          "base_uri": "https://localhost:8080/"
        },
        "id": "KbeKSV7uzGPP",
        "outputId": "502e0963-4b94-40c9-915a-531b35ef7e8a"
      },
      "outputs": [
        {
          "name": "stderr",
          "output_type": "stream",
          "text": [
            "PyTorch: setting up devices\n",
            "The default value for the training argument `--report_to` will change in v5 (from all installed integrations to none). In v5, you will need to use `--report_to all` to get the same behavior as now. You should start updating your code and make this info disappear :-).\n"
          ]
        }
      ],
      "source": [
        "from transformers import TrainingArguments\n",
        "\n",
        "training_args = TrainingArguments(\n",
        "  output_dir=repo_name,\n",
        "  group_by_length=True,\n",
        "  per_device_train_batch_size=8,\n",
        "  evaluation_strategy=\"steps\",\n",
        "  num_train_epochs=30,\n",
        "  fp16=True,\n",
        "  gradient_checkpointing=True,\n",
        "  save_steps=500,\n",
        "  eval_steps=500,\n",
        "  logging_steps=500,\n",
        "  learning_rate=1e-4,\n",
        "  weight_decay=0.005,\n",
        "  warmup_steps=1000,\n",
        "  save_total_limit=2,\n",
        ")"
      ]
    },
    {
      "cell_type": "markdown",
      "metadata": {
        "id": "OsW-WZcL1ZtN"
      },
      "source": [
        "Now, all instances can be passed to Trainer and we are ready to start training!"
      ]
    },
    {
      "cell_type": "code",
      "execution_count": null,
      "metadata": {
        "colab": {
          "base_uri": "https://localhost:8080/"
        },
        "id": "rY7vBmFCPFgC",
        "outputId": "7d004e64-8aa4-49d1-8635-f6dd920470b1"
      },
      "outputs": [
        {
          "name": "stderr",
          "output_type": "stream",
          "text": [
            "Using amp half precision backend\n"
          ]
        }
      ],
      "source": [
        "from transformers import Trainer\n",
        "\n",
        "trainer = Trainer(\n",
        "    model=model,\n",
        "    data_collator=data_collator,\n",
        "    args=training_args,\n",
        "    compute_metrics=compute_metrics,\n",
        "    train_dataset=timit[\"train\"],\n",
        "    eval_dataset=timit[\"test\"],\n",
        "    tokenizer=processor.feature_extractor,\n",
        ")"
      ]
    },
    {
      "cell_type": "markdown",
      "metadata": {
        "id": "UoXBx1JAA0DX"
      },
      "source": [
        "\n",
        "\n",
        "---\n",
        "\n",
        "${}^1$ To allow models to become independent of the speaker rate, in CTC, consecutive tokens that are identical are simply grouped as a single token. However, the encoded labels should not be grouped when decoding since they don't correspond to the predicted tokens of the model, which is why the `group_tokens=False` parameter has to be passed. If we wouldn't pass this parameter a word like `\"hello\"` would incorrectly be encoded, and decoded as `\"helo\"`.\n",
        "\n",
        "${}^2$ The blank token allows the model to predict a word, such as `\"hello\"` by forcing it to insert the blank token between the two l's. A CTC-conform prediction of `\"hello\"` of our model would be `[PAD] [PAD] \"h\" \"e\" \"e\" \"l\" \"l\" [PAD] \"l\" \"o\" \"o\" [PAD]`."
      ]
    },
    {
      "cell_type": "markdown",
      "metadata": {
        "id": "rpvZHM1xReIW"
      },
      "source": [
        "### Training"
      ]
    },
    {
      "cell_type": "markdown",
      "metadata": {
        "id": "j-3oKSzZ1hGq"
      },
      "source": [
        "Training will take between 90 and 270 minutes depending on the GPU allocated to this notebook. While the trained model yields satisfying results on *Timit*'s test data, it is by no means an optimally fine-tuned model. The purpose of this notebook is to demonstrate how Wav2Vec2's [base](https://huggingface.co/facebook/wav2vec2-base), [large](https://huggingface.co/facebook/wav2vec2-large), and [large-lv60](https://huggingface.co/facebook/wav2vec2-large-lv60) checkpoints can be fine-tuned on any English dataset.\n",
        "\n",
        "In case you want to use this google colab to fine-tune your model, you should make sure that your training doesn't stop due to inactivity. A simple hack to prevent this is to paste the following code into the console of this tab (*right mouse click -> inspect -> Console tab and insert code*)."
      ]
    },
    {
      "cell_type": "markdown",
      "metadata": {
        "id": "VYYAvgkW4P0m"
      },
      "source": [
        "```javascript\n",
        "function ConnectButton(){\n",
        "    console.log(\"Connect pushed\");\n",
        "    document.querySelector(\"#top-toolbar > colab-connect-button\").shadowRoot.querySelector(\"#connect\").click()\n",
        "}\n",
        "setInterval(ConnectButton,60000);\n",
        "```"
      ]
    },
    {
      "cell_type": "markdown",
      "metadata": {
        "id": "PmY6yqd1zvzU"
      },
      "source": [
        "Depending on what GPU was allocated to your google colab it might be possible that you are seeing an `\"out-of-memory\"` error here. In this case, it's probably best to reduce `per_device_train_batch_size` to 16 or even less and eventually make use of [`gradient_accumulation`](https://huggingface.co/transformers/master/main_classes/trainer.html#trainingarguments)."
      ]
    },
    {
      "cell_type": "code",
      "execution_count": null,
      "metadata": {
        "colab": {
          "base_uri": "https://localhost:8080/",
          "height": 1000
        },
        "id": "_UEjJqGsQw24",
        "outputId": "ef86cb55-632e-44fd-b9b2-6b804e7808df"
      },
      "outputs": [
        {
          "name": "stderr",
          "output_type": "stream",
          "text": [
            "The following columns in the training set  don't have a corresponding argument in `Wav2Vec2ForCTC.forward` and have been ignored: input_length. If input_length are not expected by `Wav2Vec2ForCTC.forward`,  you can safely ignore this message.\n",
            "/usr/local/lib/python3.7/dist-packages/transformers/optimization.py:309: FutureWarning: This implementation of AdamW is deprecated and will be removed in a future version. Use the PyTorch implementation torch.optim.AdamW instead, or set `no_deprecation_warning=True` to disable this warning\n",
            "  FutureWarning,\n",
            "***** Running training *****\n",
            "  Num examples = 3978\n",
            "  Num Epochs = 30\n",
            "  Instantaneous batch size per device = 8\n",
            "  Total train batch size (w. parallel, distributed & accumulation) = 8\n",
            "  Gradient Accumulation steps = 1\n",
            "  Total optimization steps = 14940\n"
          ]
        },
        {
          "data": {
            "text/html": [
              "\n",
              "    <div>\n",
              "      \n",
              "      <progress value='14940' max='14940' style='width:300px; height:20px; vertical-align: middle;'></progress>\n",
              "      [14940/14940 1:24:12, Epoch 30/30]\n",
              "    </div>\n",
              "    <table border=\"1\" class=\"dataframe\">\n",
              "  <thead>\n",
              " <tr style=\"text-align: left;\">\n",
              "      <th>Step</th>\n",
              "      <th>Training Loss</th>\n",
              "      <th>Validation Loss</th>\n",
              "      <th>Wer</th>\n",
              "    </tr>\n",
              "  </thead>\n",
              "  <tbody>\n",
              "    <tr>\n",
              "      <td>500</td>\n",
              "      <td>3.513700</td>\n",
              "      <td>1.671889</td>\n",
              "      <td>0.958032</td>\n",
              "    </tr>\n",
              "    <tr>\n",
              "      <td>1000</td>\n",
              "      <td>0.832400</td>\n",
              "      <td>0.554610</td>\n",
              "      <td>0.534147</td>\n",
              "    </tr>\n",
              "    <tr>\n",
              "      <td>1500</td>\n",
              "      <td>0.436500</td>\n",
              "      <td>0.456734</td>\n",
              "      <td>0.463510</td>\n",
              "    </tr>\n",
              "    <tr>\n",
              "      <td>2000</td>\n",
              "      <td>0.305800</td>\n",
              "      <td>0.442902</td>\n",
              "      <td>0.445386</td>\n",
              "    </tr>\n",
              "    <tr>\n",
              "      <td>2500</td>\n",
              "      <td>0.228400</td>\n",
              "      <td>0.473383</td>\n",
              "      <td>0.418648</td>\n",
              "    </tr>\n",
              "    <tr>\n",
              "      <td>3000</td>\n",
              "      <td>0.189200</td>\n",
              "      <td>0.419089</td>\n",
              "      <td>0.403005</td>\n",
              "    </tr>\n",
              "    <tr>\n",
              "      <td>3500</td>\n",
              "      <td>0.154200</td>\n",
              "      <td>0.452161</td>\n",
              "      <td>0.398456</td>\n",
              "    </tr>\n",
              "    <tr>\n",
              "      <td>4000</td>\n",
              "      <td>0.136400</td>\n",
              "      <td>0.474920</td>\n",
              "      <td>0.392185</td>\n",
              "    </tr>\n",
              "    <tr>\n",
              "      <td>4500</td>\n",
              "      <td>0.123900</td>\n",
              "      <td>0.495003</td>\n",
              "      <td>0.397698</td>\n",
              "    </tr>\n",
              "    <tr>\n",
              "      <td>5000</td>\n",
              "      <td>0.109200</td>\n",
              "      <td>0.446769</td>\n",
              "      <td>0.377851</td>\n",
              "    </tr>\n",
              "    <tr>\n",
              "      <td>5500</td>\n",
              "      <td>0.095600</td>\n",
              "      <td>0.489680</td>\n",
              "      <td>0.378885</td>\n",
              "    </tr>\n",
              "    <tr>\n",
              "      <td>6000</td>\n",
              "      <td>0.089700</td>\n",
              "      <td>0.492681</td>\n",
              "      <td>0.371787</td>\n",
              "    </tr>\n",
              "    <tr>\n",
              "      <td>6500</td>\n",
              "      <td>0.079200</td>\n",
              "      <td>0.524202</td>\n",
              "      <td>0.369926</td>\n",
              "    </tr>\n",
              "    <tr>\n",
              "      <td>7000</td>\n",
              "      <td>0.073100</td>\n",
              "      <td>0.520223</td>\n",
              "      <td>0.377162</td>\n",
              "    </tr>\n",
              "    <tr>\n",
              "      <td>7500</td>\n",
              "      <td>0.068100</td>\n",
              "      <td>0.504624</td>\n",
              "      <td>0.363724</td>\n",
              "    </tr>\n",
              "    <tr>\n",
              "      <td>8000</td>\n",
              "      <td>0.062000</td>\n",
              "      <td>0.533646</td>\n",
              "      <td>0.366412</td>\n",
              "    </tr>\n",
              "    <tr>\n",
              "      <td>8500</td>\n",
              "      <td>0.055600</td>\n",
              "      <td>0.501713</td>\n",
              "      <td>0.363311</td>\n",
              "    </tr>\n",
              "    <tr>\n",
              "      <td>9000</td>\n",
              "      <td>0.055600</td>\n",
              "      <td>0.546627</td>\n",
              "      <td>0.373648</td>\n",
              "    </tr>\n",
              "    <tr>\n",
              "      <td>9500</td>\n",
              "      <td>0.046100</td>\n",
              "      <td>0.548935</td>\n",
              "      <td>0.356626</td>\n",
              "    </tr>\n",
              "    <tr>\n",
              "      <td>10000</td>\n",
              "      <td>0.043900</td>\n",
              "      <td>0.539872</td>\n",
              "      <td>0.355937</td>\n",
              "    </tr>\n",
              "    <tr>\n",
              "      <td>10500</td>\n",
              "      <td>0.039700</td>\n",
              "      <td>0.515413</td>\n",
              "      <td>0.353938</td>\n",
              "    </tr>\n",
              "    <tr>\n",
              "      <td>11000</td>\n",
              "      <td>0.034600</td>\n",
              "      <td>0.517013</td>\n",
              "      <td>0.351251</td>\n",
              "    </tr>\n",
              "    <tr>\n",
              "      <td>11500</td>\n",
              "      <td>0.033800</td>\n",
              "      <td>0.523557</td>\n",
              "      <td>0.349183</td>\n",
              "    </tr>\n",
              "    <tr>\n",
              "      <td>12000</td>\n",
              "      <td>0.034200</td>\n",
              "      <td>0.528785</td>\n",
              "      <td>0.349252</td>\n",
              "    </tr>\n",
              "    <tr>\n",
              "      <td>12500</td>\n",
              "      <td>0.028200</td>\n",
              "      <td>0.514678</td>\n",
              "      <td>0.344911</td>\n",
              "    </tr>\n",
              "    <tr>\n",
              "      <td>13000</td>\n",
              "      <td>0.025100</td>\n",
              "      <td>0.509152</td>\n",
              "      <td>0.344222</td>\n",
              "    </tr>\n",
              "    <tr>\n",
              "      <td>13500</td>\n",
              "      <td>0.026800</td>\n",
              "      <td>0.509325</td>\n",
              "      <td>0.341327</td>\n",
              "    </tr>\n",
              "    <tr>\n",
              "      <td>14000</td>\n",
              "      <td>0.021000</td>\n",
              "      <td>0.530961</td>\n",
              "      <td>0.339880</td>\n",
              "    </tr>\n",
              "    <tr>\n",
              "      <td>14500</td>\n",
              "      <td>0.022000</td>\n",
              "      <td>0.518533</td>\n",
              "      <td>0.336986</td>\n",
              "    </tr>\n",
              "  </tbody>\n",
              "</table><p>"
            ],
            "text/plain": [
              "<IPython.core.display.HTML object>"
            ]
          },
          "metadata": {},
          "output_type": "display_data"
        },
        {
          "name": "stderr",
          "output_type": "stream",
          "text": [
            "The following columns in the evaluation set  don't have a corresponding argument in `Wav2Vec2ForCTC.forward` and have been ignored: input_length. If input_length are not expected by `Wav2Vec2ForCTC.forward`,  you can safely ignore this message.\n",
            "***** Running Evaluation *****\n",
            "  Num examples = 1680\n",
            "  Batch size = 8\n",
            "Saving model checkpoint to wav2vec2-base-timit-demo-google-colab/checkpoint-500\n",
            "Configuration saved in wav2vec2-base-timit-demo-google-colab/checkpoint-500/config.json\n",
            "Model weights saved in wav2vec2-base-timit-demo-google-colab/checkpoint-500/pytorch_model.bin\n",
            "Feature extractor saved in wav2vec2-base-timit-demo-google-colab/checkpoint-500/preprocessor_config.json\n",
            "The following columns in the evaluation set  don't have a corresponding argument in `Wav2Vec2ForCTC.forward` and have been ignored: input_length. If input_length are not expected by `Wav2Vec2ForCTC.forward`,  you can safely ignore this message.\n",
            "***** Running Evaluation *****\n",
            "  Num examples = 1680\n",
            "  Batch size = 8\n",
            "Saving model checkpoint to wav2vec2-base-timit-demo-google-colab/checkpoint-1000\n",
            "Configuration saved in wav2vec2-base-timit-demo-google-colab/checkpoint-1000/config.json\n",
            "Model weights saved in wav2vec2-base-timit-demo-google-colab/checkpoint-1000/pytorch_model.bin\n",
            "Feature extractor saved in wav2vec2-base-timit-demo-google-colab/checkpoint-1000/preprocessor_config.json\n",
            "The following columns in the evaluation set  don't have a corresponding argument in `Wav2Vec2ForCTC.forward` and have been ignored: input_length. If input_length are not expected by `Wav2Vec2ForCTC.forward`,  you can safely ignore this message.\n",
            "***** Running Evaluation *****\n",
            "  Num examples = 1680\n",
            "  Batch size = 8\n",
            "Saving model checkpoint to wav2vec2-base-timit-demo-google-colab/checkpoint-1500\n",
            "Configuration saved in wav2vec2-base-timit-demo-google-colab/checkpoint-1500/config.json\n",
            "Model weights saved in wav2vec2-base-timit-demo-google-colab/checkpoint-1500/pytorch_model.bin\n",
            "Feature extractor saved in wav2vec2-base-timit-demo-google-colab/checkpoint-1500/preprocessor_config.json\n",
            "Deleting older checkpoint [wav2vec2-base-timit-demo-google-colab/checkpoint-500] due to args.save_total_limit\n",
            "The following columns in the evaluation set  don't have a corresponding argument in `Wav2Vec2ForCTC.forward` and have been ignored: input_length. If input_length are not expected by `Wav2Vec2ForCTC.forward`,  you can safely ignore this message.\n",
            "***** Running Evaluation *****\n",
            "  Num examples = 1680\n",
            "  Batch size = 8\n",
            "Saving model checkpoint to wav2vec2-base-timit-demo-google-colab/checkpoint-2000\n",
            "Configuration saved in wav2vec2-base-timit-demo-google-colab/checkpoint-2000/config.json\n",
            "Model weights saved in wav2vec2-base-timit-demo-google-colab/checkpoint-2000/pytorch_model.bin\n",
            "Feature extractor saved in wav2vec2-base-timit-demo-google-colab/checkpoint-2000/preprocessor_config.json\n",
            "Deleting older checkpoint [wav2vec2-base-timit-demo-google-colab/checkpoint-1000] due to args.save_total_limit\n",
            "The following columns in the evaluation set  don't have a corresponding argument in `Wav2Vec2ForCTC.forward` and have been ignored: input_length. If input_length are not expected by `Wav2Vec2ForCTC.forward`,  you can safely ignore this message.\n",
            "***** Running Evaluation *****\n",
            "  Num examples = 1680\n",
            "  Batch size = 8\n",
            "Saving model checkpoint to wav2vec2-base-timit-demo-google-colab/checkpoint-2500\n",
            "Configuration saved in wav2vec2-base-timit-demo-google-colab/checkpoint-2500/config.json\n",
            "Model weights saved in wav2vec2-base-timit-demo-google-colab/checkpoint-2500/pytorch_model.bin\n",
            "Feature extractor saved in wav2vec2-base-timit-demo-google-colab/checkpoint-2500/preprocessor_config.json\n",
            "Deleting older checkpoint [wav2vec2-base-timit-demo-google-colab/checkpoint-1500] due to args.save_total_limit\n",
            "The following columns in the evaluation set  don't have a corresponding argument in `Wav2Vec2ForCTC.forward` and have been ignored: input_length. If input_length are not expected by `Wav2Vec2ForCTC.forward`,  you can safely ignore this message.\n",
            "***** Running Evaluation *****\n",
            "  Num examples = 1680\n",
            "  Batch size = 8\n",
            "Saving model checkpoint to wav2vec2-base-timit-demo-google-colab/checkpoint-3000\n",
            "Configuration saved in wav2vec2-base-timit-demo-google-colab/checkpoint-3000/config.json\n",
            "Model weights saved in wav2vec2-base-timit-demo-google-colab/checkpoint-3000/pytorch_model.bin\n",
            "Feature extractor saved in wav2vec2-base-timit-demo-google-colab/checkpoint-3000/preprocessor_config.json\n",
            "Deleting older checkpoint [wav2vec2-base-timit-demo-google-colab/checkpoint-2000] due to args.save_total_limit\n",
            "The following columns in the evaluation set  don't have a corresponding argument in `Wav2Vec2ForCTC.forward` and have been ignored: input_length. If input_length are not expected by `Wav2Vec2ForCTC.forward`,  you can safely ignore this message.\n",
            "***** Running Evaluation *****\n",
            "  Num examples = 1680\n",
            "  Batch size = 8\n",
            "Saving model checkpoint to wav2vec2-base-timit-demo-google-colab/checkpoint-3500\n",
            "Configuration saved in wav2vec2-base-timit-demo-google-colab/checkpoint-3500/config.json\n",
            "Model weights saved in wav2vec2-base-timit-demo-google-colab/checkpoint-3500/pytorch_model.bin\n",
            "Feature extractor saved in wav2vec2-base-timit-demo-google-colab/checkpoint-3500/preprocessor_config.json\n",
            "Deleting older checkpoint [wav2vec2-base-timit-demo-google-colab/checkpoint-2500] due to args.save_total_limit\n",
            "The following columns in the evaluation set  don't have a corresponding argument in `Wav2Vec2ForCTC.forward` and have been ignored: input_length. If input_length are not expected by `Wav2Vec2ForCTC.forward`,  you can safely ignore this message.\n",
            "***** Running Evaluation *****\n",
            "  Num examples = 1680\n",
            "  Batch size = 8\n",
            "Saving model checkpoint to wav2vec2-base-timit-demo-google-colab/checkpoint-4000\n",
            "Configuration saved in wav2vec2-base-timit-demo-google-colab/checkpoint-4000/config.json\n",
            "Model weights saved in wav2vec2-base-timit-demo-google-colab/checkpoint-4000/pytorch_model.bin\n",
            "Feature extractor saved in wav2vec2-base-timit-demo-google-colab/checkpoint-4000/preprocessor_config.json\n",
            "Deleting older checkpoint [wav2vec2-base-timit-demo-google-colab/checkpoint-3000] due to args.save_total_limit\n",
            "The following columns in the evaluation set  don't have a corresponding argument in `Wav2Vec2ForCTC.forward` and have been ignored: input_length. If input_length are not expected by `Wav2Vec2ForCTC.forward`,  you can safely ignore this message.\n",
            "***** Running Evaluation *****\n",
            "  Num examples = 1680\n",
            "  Batch size = 8\n",
            "Saving model checkpoint to wav2vec2-base-timit-demo-google-colab/checkpoint-4500\n",
            "Configuration saved in wav2vec2-base-timit-demo-google-colab/checkpoint-4500/config.json\n",
            "Model weights saved in wav2vec2-base-timit-demo-google-colab/checkpoint-4500/pytorch_model.bin\n",
            "Feature extractor saved in wav2vec2-base-timit-demo-google-colab/checkpoint-4500/preprocessor_config.json\n",
            "Deleting older checkpoint [wav2vec2-base-timit-demo-google-colab/checkpoint-3500] due to args.save_total_limit\n",
            "The following columns in the evaluation set  don't have a corresponding argument in `Wav2Vec2ForCTC.forward` and have been ignored: input_length. If input_length are not expected by `Wav2Vec2ForCTC.forward`,  you can safely ignore this message.\n",
            "***** Running Evaluation *****\n",
            "  Num examples = 1680\n",
            "  Batch size = 8\n",
            "Saving model checkpoint to wav2vec2-base-timit-demo-google-colab/checkpoint-5000\n",
            "Configuration saved in wav2vec2-base-timit-demo-google-colab/checkpoint-5000/config.json\n",
            "Model weights saved in wav2vec2-base-timit-demo-google-colab/checkpoint-5000/pytorch_model.bin\n",
            "Feature extractor saved in wav2vec2-base-timit-demo-google-colab/checkpoint-5000/preprocessor_config.json\n",
            "Deleting older checkpoint [wav2vec2-base-timit-demo-google-colab/checkpoint-4000] due to args.save_total_limit\n",
            "The following columns in the evaluation set  don't have a corresponding argument in `Wav2Vec2ForCTC.forward` and have been ignored: input_length. If input_length are not expected by `Wav2Vec2ForCTC.forward`,  you can safely ignore this message.\n",
            "***** Running Evaluation *****\n",
            "  Num examples = 1680\n",
            "  Batch size = 8\n",
            "Saving model checkpoint to wav2vec2-base-timit-demo-google-colab/checkpoint-5500\n",
            "Configuration saved in wav2vec2-base-timit-demo-google-colab/checkpoint-5500/config.json\n",
            "Model weights saved in wav2vec2-base-timit-demo-google-colab/checkpoint-5500/pytorch_model.bin\n",
            "Feature extractor saved in wav2vec2-base-timit-demo-google-colab/checkpoint-5500/preprocessor_config.json\n",
            "Deleting older checkpoint [wav2vec2-base-timit-demo-google-colab/checkpoint-4500] due to args.save_total_limit\n",
            "The following columns in the evaluation set  don't have a corresponding argument in `Wav2Vec2ForCTC.forward` and have been ignored: input_length. If input_length are not expected by `Wav2Vec2ForCTC.forward`,  you can safely ignore this message.\n",
            "***** Running Evaluation *****\n",
            "  Num examples = 1680\n",
            "  Batch size = 8\n",
            "Saving model checkpoint to wav2vec2-base-timit-demo-google-colab/checkpoint-6000\n",
            "Configuration saved in wav2vec2-base-timit-demo-google-colab/checkpoint-6000/config.json\n",
            "Model weights saved in wav2vec2-base-timit-demo-google-colab/checkpoint-6000/pytorch_model.bin\n",
            "Feature extractor saved in wav2vec2-base-timit-demo-google-colab/checkpoint-6000/preprocessor_config.json\n",
            "Deleting older checkpoint [wav2vec2-base-timit-demo-google-colab/checkpoint-5000] due to args.save_total_limit\n",
            "The following columns in the evaluation set  don't have a corresponding argument in `Wav2Vec2ForCTC.forward` and have been ignored: input_length. If input_length are not expected by `Wav2Vec2ForCTC.forward`,  you can safely ignore this message.\n",
            "***** Running Evaluation *****\n",
            "  Num examples = 1680\n",
            "  Batch size = 8\n",
            "Saving model checkpoint to wav2vec2-base-timit-demo-google-colab/checkpoint-6500\n",
            "Configuration saved in wav2vec2-base-timit-demo-google-colab/checkpoint-6500/config.json\n",
            "Model weights saved in wav2vec2-base-timit-demo-google-colab/checkpoint-6500/pytorch_model.bin\n",
            "Feature extractor saved in wav2vec2-base-timit-demo-google-colab/checkpoint-6500/preprocessor_config.json\n",
            "Deleting older checkpoint [wav2vec2-base-timit-demo-google-colab/checkpoint-5500] due to args.save_total_limit\n",
            "The following columns in the evaluation set  don't have a corresponding argument in `Wav2Vec2ForCTC.forward` and have been ignored: input_length. If input_length are not expected by `Wav2Vec2ForCTC.forward`,  you can safely ignore this message.\n",
            "***** Running Evaluation *****\n",
            "  Num examples = 1680\n",
            "  Batch size = 8\n",
            "Saving model checkpoint to wav2vec2-base-timit-demo-google-colab/checkpoint-7000\n",
            "Configuration saved in wav2vec2-base-timit-demo-google-colab/checkpoint-7000/config.json\n",
            "Model weights saved in wav2vec2-base-timit-demo-google-colab/checkpoint-7000/pytorch_model.bin\n",
            "Feature extractor saved in wav2vec2-base-timit-demo-google-colab/checkpoint-7000/preprocessor_config.json\n",
            "Deleting older checkpoint [wav2vec2-base-timit-demo-google-colab/checkpoint-6000] due to args.save_total_limit\n",
            "The following columns in the evaluation set  don't have a corresponding argument in `Wav2Vec2ForCTC.forward` and have been ignored: input_length. If input_length are not expected by `Wav2Vec2ForCTC.forward`,  you can safely ignore this message.\n",
            "***** Running Evaluation *****\n",
            "  Num examples = 1680\n",
            "  Batch size = 8\n",
            "Saving model checkpoint to wav2vec2-base-timit-demo-google-colab/checkpoint-7500\n",
            "Configuration saved in wav2vec2-base-timit-demo-google-colab/checkpoint-7500/config.json\n",
            "Model weights saved in wav2vec2-base-timit-demo-google-colab/checkpoint-7500/pytorch_model.bin\n",
            "Feature extractor saved in wav2vec2-base-timit-demo-google-colab/checkpoint-7500/preprocessor_config.json\n",
            "Deleting older checkpoint [wav2vec2-base-timit-demo-google-colab/checkpoint-6500] due to args.save_total_limit\n",
            "The following columns in the evaluation set  don't have a corresponding argument in `Wav2Vec2ForCTC.forward` and have been ignored: input_length. If input_length are not expected by `Wav2Vec2ForCTC.forward`,  you can safely ignore this message.\n",
            "***** Running Evaluation *****\n",
            "  Num examples = 1680\n",
            "  Batch size = 8\n",
            "Saving model checkpoint to wav2vec2-base-timit-demo-google-colab/checkpoint-8000\n",
            "Configuration saved in wav2vec2-base-timit-demo-google-colab/checkpoint-8000/config.json\n",
            "Model weights saved in wav2vec2-base-timit-demo-google-colab/checkpoint-8000/pytorch_model.bin\n",
            "Feature extractor saved in wav2vec2-base-timit-demo-google-colab/checkpoint-8000/preprocessor_config.json\n",
            "Deleting older checkpoint [wav2vec2-base-timit-demo-google-colab/checkpoint-7000] due to args.save_total_limit\n",
            "The following columns in the evaluation set  don't have a corresponding argument in `Wav2Vec2ForCTC.forward` and have been ignored: input_length. If input_length are not expected by `Wav2Vec2ForCTC.forward`,  you can safely ignore this message.\n",
            "***** Running Evaluation *****\n",
            "  Num examples = 1680\n",
            "  Batch size = 8\n",
            "Saving model checkpoint to wav2vec2-base-timit-demo-google-colab/checkpoint-8500\n",
            "Configuration saved in wav2vec2-base-timit-demo-google-colab/checkpoint-8500/config.json\n",
            "Model weights saved in wav2vec2-base-timit-demo-google-colab/checkpoint-8500/pytorch_model.bin\n",
            "Feature extractor saved in wav2vec2-base-timit-demo-google-colab/checkpoint-8500/preprocessor_config.json\n",
            "Deleting older checkpoint [wav2vec2-base-timit-demo-google-colab/checkpoint-7500] due to args.save_total_limit\n",
            "The following columns in the evaluation set  don't have a corresponding argument in `Wav2Vec2ForCTC.forward` and have been ignored: input_length. If input_length are not expected by `Wav2Vec2ForCTC.forward`,  you can safely ignore this message.\n",
            "***** Running Evaluation *****\n",
            "  Num examples = 1680\n",
            "  Batch size = 8\n",
            "Saving model checkpoint to wav2vec2-base-timit-demo-google-colab/checkpoint-9000\n",
            "Configuration saved in wav2vec2-base-timit-demo-google-colab/checkpoint-9000/config.json\n",
            "Model weights saved in wav2vec2-base-timit-demo-google-colab/checkpoint-9000/pytorch_model.bin\n",
            "Feature extractor saved in wav2vec2-base-timit-demo-google-colab/checkpoint-9000/preprocessor_config.json\n",
            "Deleting older checkpoint [wav2vec2-base-timit-demo-google-colab/checkpoint-8000] due to args.save_total_limit\n",
            "The following columns in the evaluation set  don't have a corresponding argument in `Wav2Vec2ForCTC.forward` and have been ignored: input_length. If input_length are not expected by `Wav2Vec2ForCTC.forward`,  you can safely ignore this message.\n",
            "***** Running Evaluation *****\n",
            "  Num examples = 1680\n",
            "  Batch size = 8\n",
            "Saving model checkpoint to wav2vec2-base-timit-demo-google-colab/checkpoint-9500\n",
            "Configuration saved in wav2vec2-base-timit-demo-google-colab/checkpoint-9500/config.json\n",
            "Model weights saved in wav2vec2-base-timit-demo-google-colab/checkpoint-9500/pytorch_model.bin\n",
            "Feature extractor saved in wav2vec2-base-timit-demo-google-colab/checkpoint-9500/preprocessor_config.json\n",
            "Deleting older checkpoint [wav2vec2-base-timit-demo-google-colab/checkpoint-8500] due to args.save_total_limit\n",
            "The following columns in the evaluation set  don't have a corresponding argument in `Wav2Vec2ForCTC.forward` and have been ignored: input_length. If input_length are not expected by `Wav2Vec2ForCTC.forward`,  you can safely ignore this message.\n",
            "***** Running Evaluation *****\n",
            "  Num examples = 1680\n",
            "  Batch size = 8\n",
            "Saving model checkpoint to wav2vec2-base-timit-demo-google-colab/checkpoint-10000\n",
            "Configuration saved in wav2vec2-base-timit-demo-google-colab/checkpoint-10000/config.json\n",
            "Model weights saved in wav2vec2-base-timit-demo-google-colab/checkpoint-10000/pytorch_model.bin\n",
            "Feature extractor saved in wav2vec2-base-timit-demo-google-colab/checkpoint-10000/preprocessor_config.json\n",
            "Deleting older checkpoint [wav2vec2-base-timit-demo-google-colab/checkpoint-9000] due to args.save_total_limit\n",
            "The following columns in the evaluation set  don't have a corresponding argument in `Wav2Vec2ForCTC.forward` and have been ignored: input_length. If input_length are not expected by `Wav2Vec2ForCTC.forward`,  you can safely ignore this message.\n",
            "***** Running Evaluation *****\n",
            "  Num examples = 1680\n",
            "  Batch size = 8\n",
            "Saving model checkpoint to wav2vec2-base-timit-demo-google-colab/checkpoint-10500\n",
            "Configuration saved in wav2vec2-base-timit-demo-google-colab/checkpoint-10500/config.json\n",
            "Model weights saved in wav2vec2-base-timit-demo-google-colab/checkpoint-10500/pytorch_model.bin\n",
            "Feature extractor saved in wav2vec2-base-timit-demo-google-colab/checkpoint-10500/preprocessor_config.json\n",
            "Deleting older checkpoint [wav2vec2-base-timit-demo-google-colab/checkpoint-9500] due to args.save_total_limit\n",
            "The following columns in the evaluation set  don't have a corresponding argument in `Wav2Vec2ForCTC.forward` and have been ignored: input_length. If input_length are not expected by `Wav2Vec2ForCTC.forward`,  you can safely ignore this message.\n",
            "***** Running Evaluation *****\n",
            "  Num examples = 1680\n",
            "  Batch size = 8\n",
            "Saving model checkpoint to wav2vec2-base-timit-demo-google-colab/checkpoint-11000\n",
            "Configuration saved in wav2vec2-base-timit-demo-google-colab/checkpoint-11000/config.json\n",
            "Model weights saved in wav2vec2-base-timit-demo-google-colab/checkpoint-11000/pytorch_model.bin\n",
            "Feature extractor saved in wav2vec2-base-timit-demo-google-colab/checkpoint-11000/preprocessor_config.json\n",
            "Deleting older checkpoint [wav2vec2-base-timit-demo-google-colab/checkpoint-10000] due to args.save_total_limit\n",
            "The following columns in the evaluation set  don't have a corresponding argument in `Wav2Vec2ForCTC.forward` and have been ignored: input_length. If input_length are not expected by `Wav2Vec2ForCTC.forward`,  you can safely ignore this message.\n",
            "***** Running Evaluation *****\n",
            "  Num examples = 1680\n",
            "  Batch size = 8\n",
            "Saving model checkpoint to wav2vec2-base-timit-demo-google-colab/checkpoint-11500\n",
            "Configuration saved in wav2vec2-base-timit-demo-google-colab/checkpoint-11500/config.json\n",
            "Model weights saved in wav2vec2-base-timit-demo-google-colab/checkpoint-11500/pytorch_model.bin\n",
            "Feature extractor saved in wav2vec2-base-timit-demo-google-colab/checkpoint-11500/preprocessor_config.json\n",
            "Deleting older checkpoint [wav2vec2-base-timit-demo-google-colab/checkpoint-10500] due to args.save_total_limit\n",
            "The following columns in the evaluation set  don't have a corresponding argument in `Wav2Vec2ForCTC.forward` and have been ignored: input_length. If input_length are not expected by `Wav2Vec2ForCTC.forward`,  you can safely ignore this message.\n",
            "***** Running Evaluation *****\n",
            "  Num examples = 1680\n",
            "  Batch size = 8\n",
            "Saving model checkpoint to wav2vec2-base-timit-demo-google-colab/checkpoint-12000\n",
            "Configuration saved in wav2vec2-base-timit-demo-google-colab/checkpoint-12000/config.json\n",
            "Model weights saved in wav2vec2-base-timit-demo-google-colab/checkpoint-12000/pytorch_model.bin\n",
            "Feature extractor saved in wav2vec2-base-timit-demo-google-colab/checkpoint-12000/preprocessor_config.json\n",
            "Deleting older checkpoint [wav2vec2-base-timit-demo-google-colab/checkpoint-11000] due to args.save_total_limit\n",
            "The following columns in the evaluation set  don't have a corresponding argument in `Wav2Vec2ForCTC.forward` and have been ignored: input_length. If input_length are not expected by `Wav2Vec2ForCTC.forward`,  you can safely ignore this message.\n",
            "***** Running Evaluation *****\n",
            "  Num examples = 1680\n",
            "  Batch size = 8\n",
            "Saving model checkpoint to wav2vec2-base-timit-demo-google-colab/checkpoint-12500\n",
            "Configuration saved in wav2vec2-base-timit-demo-google-colab/checkpoint-12500/config.json\n",
            "Model weights saved in wav2vec2-base-timit-demo-google-colab/checkpoint-12500/pytorch_model.bin\n",
            "Feature extractor saved in wav2vec2-base-timit-demo-google-colab/checkpoint-12500/preprocessor_config.json\n",
            "Deleting older checkpoint [wav2vec2-base-timit-demo-google-colab/checkpoint-11500] due to args.save_total_limit\n",
            "The following columns in the evaluation set  don't have a corresponding argument in `Wav2Vec2ForCTC.forward` and have been ignored: input_length. If input_length are not expected by `Wav2Vec2ForCTC.forward`,  you can safely ignore this message.\n",
            "***** Running Evaluation *****\n",
            "  Num examples = 1680\n",
            "  Batch size = 8\n",
            "Saving model checkpoint to wav2vec2-base-timit-demo-google-colab/checkpoint-13000\n",
            "Configuration saved in wav2vec2-base-timit-demo-google-colab/checkpoint-13000/config.json\n",
            "Model weights saved in wav2vec2-base-timit-demo-google-colab/checkpoint-13000/pytorch_model.bin\n",
            "Feature extractor saved in wav2vec2-base-timit-demo-google-colab/checkpoint-13000/preprocessor_config.json\n",
            "Deleting older checkpoint [wav2vec2-base-timit-demo-google-colab/checkpoint-12000] due to args.save_total_limit\n",
            "The following columns in the evaluation set  don't have a corresponding argument in `Wav2Vec2ForCTC.forward` and have been ignored: input_length. If input_length are not expected by `Wav2Vec2ForCTC.forward`,  you can safely ignore this message.\n",
            "***** Running Evaluation *****\n",
            "  Num examples = 1680\n",
            "  Batch size = 8\n",
            "Saving model checkpoint to wav2vec2-base-timit-demo-google-colab/checkpoint-13500\n",
            "Configuration saved in wav2vec2-base-timit-demo-google-colab/checkpoint-13500/config.json\n",
            "Model weights saved in wav2vec2-base-timit-demo-google-colab/checkpoint-13500/pytorch_model.bin\n",
            "Feature extractor saved in wav2vec2-base-timit-demo-google-colab/checkpoint-13500/preprocessor_config.json\n",
            "Deleting older checkpoint [wav2vec2-base-timit-demo-google-colab/checkpoint-12500] due to args.save_total_limit\n",
            "The following columns in the evaluation set  don't have a corresponding argument in `Wav2Vec2ForCTC.forward` and have been ignored: input_length. If input_length are not expected by `Wav2Vec2ForCTC.forward`,  you can safely ignore this message.\n",
            "***** Running Evaluation *****\n",
            "  Num examples = 1680\n",
            "  Batch size = 8\n",
            "Saving model checkpoint to wav2vec2-base-timit-demo-google-colab/checkpoint-14000\n",
            "Configuration saved in wav2vec2-base-timit-demo-google-colab/checkpoint-14000/config.json\n",
            "Model weights saved in wav2vec2-base-timit-demo-google-colab/checkpoint-14000/pytorch_model.bin\n",
            "Feature extractor saved in wav2vec2-base-timit-demo-google-colab/checkpoint-14000/preprocessor_config.json\n",
            "Deleting older checkpoint [wav2vec2-base-timit-demo-google-colab/checkpoint-13000] due to args.save_total_limit\n",
            "The following columns in the evaluation set  don't have a corresponding argument in `Wav2Vec2ForCTC.forward` and have been ignored: input_length. If input_length are not expected by `Wav2Vec2ForCTC.forward`,  you can safely ignore this message.\n",
            "***** Running Evaluation *****\n",
            "  Num examples = 1680\n",
            "  Batch size = 8\n",
            "Saving model checkpoint to wav2vec2-base-timit-demo-google-colab/checkpoint-14500\n",
            "Configuration saved in wav2vec2-base-timit-demo-google-colab/checkpoint-14500/config.json\n",
            "Model weights saved in wav2vec2-base-timit-demo-google-colab/checkpoint-14500/pytorch_model.bin\n",
            "Feature extractor saved in wav2vec2-base-timit-demo-google-colab/checkpoint-14500/preprocessor_config.json\n",
            "Deleting older checkpoint [wav2vec2-base-timit-demo-google-colab/checkpoint-13500] due to args.save_total_limit\n",
            "\n",
            "\n",
            "Training completed. Do not forget to share your model on huggingface.co/models =)\n",
            "\n",
            "\n"
          ]
        },
        {
          "data": {
            "text/plain": [
              "TrainOutput(global_step=14940, training_loss=0.23359869193520091, metrics={'train_runtime': 5052.3634, 'train_samples_per_second': 23.621, 'train_steps_per_second': 2.957, 'total_flos': 3.0766610595969556e+18, 'train_loss': 0.23359869193520091, 'epoch': 30.0})"
            ]
          },
          "execution_count": 85,
          "metadata": {},
          "output_type": "execute_result"
        }
      ],
      "source": [
        "trainer.train()"
      ]
    },
    {
      "cell_type": "markdown",
      "metadata": {
        "id": "UCyp-v3n4Zlt"
      },
      "source": [
        "The final WER should be around 0.3 which is reasonable given that state-of-the-art phoneme error rates (PER) are just below 0.1 (see [leaderboard](https://paperswithcode.com/sota/speech-recognition-on-timit)) and that WER is usually worse than PER.\n",
        "\n",
        "You can now upload the result of the training to the Hub, just execute this instruction:"
      ]
    },
    {
      "cell_type": "code",
      "execution_count": null,
      "metadata": {
        "colab": {
          "base_uri": "https://localhost:8080/",
          "height": 497,
          "referenced_widgets": [
            "a7725ad7a1774178bba1b39b48bee36b",
            "acc6c975316f4fc9af3f449ccaf71646",
            "2b48e3c58b284b32ae51a3c3afb13d85",
            "7748d6bd4e224b3f836a06b321e72de0",
            "b29aab47d701449181b8d8c715b09657",
            "5cb2c62e3d6f426f8c17eec2fe6e23ae",
            "f44a8453ba314ddbb153e1278eb59eec",
            "6ba56300bd3240629256a72060f36fde",
            "d8f4c2ce266a4a9284572af28ad9ad1c",
            "4cdbe067372b4c32bc782f966aea7f42",
            "afe17562ac7948edab0233eb3804d9cb",
            "00a02ff8b284413f853da9d7c41afedd",
            "73b586087e9447e688c97318bf6eba11",
            "6ba8f8fde3fc4050a304df11cc1d2c7c",
            "0ceb294ca03a4bf2ae5586ffbbb6f0fc",
            "ffa2bd3495f54f1c81f15ebf50fd4fee",
            "e53ec4e8ee3d44bb8b3bdcf323335c8a",
            "ceef78fab0024c578976ad6c589c0d7f",
            "35a9027e670146f3a25db0d06035fd1b",
            "0cd65792216b4decaf24961bb33802d0",
            "968f456d45ab4f25aeaf57b0c0ddc190",
            "92ae2ab85efc40fa89da650ccbe85e21",
            "e1a34af59be04546808279b6e673c498",
            "91a9bd637428473192d5ec47ba137268",
            "f11e33bc060746758ad638204b71955c",
            "ef69985b8f7c4662912a11a377e99b59",
            "9721f00cdfc942e8ab8a4faf8080ef2d",
            "196c66080f944a61a537a0ddd9905248",
            "e7d54319900548208c3852623ebc3dcf",
            "adbd04cd03624b66a8c725f9a89647b6",
            "200b5fada23d45ff947953003d052605",
            "8c89f99cd7b9408eafbfbf8e0c56d39c",
            "a40561b6f013481ba77fa137ab43b1c2",
            "63ee5e2413434249bd47a8d662ec0da6",
            "d10215d60b9f471ab681a948ad143159",
            "bcb33e49c5ab412eb5b8cd823cf06706",
            "f23b78d30ff040f481b5584a83083b39",
            "fe39df4b5e9d41f6a0233bafb4522dd4",
            "6cac8e9fcefd4353a76244f89ff459e1",
            "4f70c2c356074adf9aa7c1fb6b20f8e3",
            "4cc884973b734098a135619736b5f599",
            "fd72ea27c82843ceb5fdb74886fc5b44",
            "28b1ff0d507e40fb84e4083537207de4",
            "bf2896c4b25147f0a303c748fa2b0cd9"
          ]
        },
        "id": "JYGQYBhHNsvj",
        "outputId": "c60381d7-a4ec-4cfe-ec0b-0b16af963c3d"
      },
      "outputs": [
        {
          "name": "stderr",
          "output_type": "stream",
          "text": [
            "/content/wav2vec2-base-timit-demo-google-colab is already a clone of https://huggingface.co/patrickvonplaten/wav2vec2-base-timit-demo-google-colab. Make sure you pull the latest changes with `repo.git_pull()`.\n",
            "Saving model checkpoint to wav2vec2-base-timit-demo-google-colab\n",
            "Configuration saved in wav2vec2-base-timit-demo-google-colab/config.json\n",
            "Model weights saved in wav2vec2-base-timit-demo-google-colab/pytorch_model.bin\n",
            "Feature extractor saved in wav2vec2-base-timit-demo-google-colab/preprocessor_config.json\n"
          ]
        },
        {
          "data": {
            "application/vnd.jupyter.widget-view+json": {
              "model_id": "a7725ad7a1774178bba1b39b48bee36b",
              "version_major": 2,
              "version_minor": 0
            },
            "text/plain": [
              "Upload file pytorch_model.bin:   0%|          | 3.34k/360M [00:00<?, ?B/s]"
            ]
          },
          "metadata": {},
          "output_type": "display_data"
        },
        {
          "data": {
            "application/vnd.jupyter.widget-view+json": {
              "model_id": "00a02ff8b284413f853da9d7c41afedd",
              "version_major": 2,
              "version_minor": 0
            },
            "text/plain": [
              "Upload file runs/May10_11-02-51_d58de38fbf77/1652180636.6085317/events.out.tfevents.1652180636.d58de38fbf77.96…"
            ]
          },
          "metadata": {},
          "output_type": "display_data"
        },
        {
          "data": {
            "application/vnd.jupyter.widget-view+json": {
              "model_id": "e1a34af59be04546808279b6e673c498",
              "version_major": 2,
              "version_minor": 0
            },
            "text/plain": [
              "Upload file training_args.bin: 100%|##########| 2.98k/2.98k [00:00<?, ?B/s]"
            ]
          },
          "metadata": {},
          "output_type": "display_data"
        },
        {
          "data": {
            "application/vnd.jupyter.widget-view+json": {
              "model_id": "63ee5e2413434249bd47a8d662ec0da6",
              "version_major": 2,
              "version_minor": 0
            },
            "text/plain": [
              "Upload file runs/May10_11-02-51_d58de38fbf77/events.out.tfevents.1652180636.d58de38fbf77.96.2:  18%|#7        …"
            ]
          },
          "metadata": {},
          "output_type": "display_data"
        },
        {
          "name": "stderr",
          "output_type": "stream",
          "text": [
            "remote: Enforcing permissions...        \n",
            "remote: Allowed refs: all        \n",
            "To https://huggingface.co/patrickvonplaten/wav2vec2-base-timit-demo-google-colab\n",
            "   293755a..629f0ba  main -> main\n",
            "\n",
            "Dropping the following result as it does not have all the necessary fields:\n",
            "{}\n",
            "remote: Enforcing permissions...        \n",
            "remote: Allowed refs: all        \n",
            "To https://huggingface.co/patrickvonplaten/wav2vec2-base-timit-demo-google-colab\n",
            "   629f0ba..38b281e  main -> main\n",
            "\n"
          ]
        },
        {
          "data": {
            "application/vnd.google.colaboratory.intrinsic+json": {
              "type": "string"
            },
            "text/plain": [
              "'https://huggingface.co/patrickvonplaten/wav2vec2-base-timit-demo-google-colab/commit/629f0ba808bdecd2134e2d91110e86e4d7d7647c'"
            ]
          },
          "execution_count": 86,
          "metadata": {},
          "output_type": "execute_result"
        }
      ],
      "source": [
        "trainer.push_to_hub()"
      ]
    },
    {
      "cell_type": "markdown",
      "metadata": {
        "id": "djzwS5WeNu16"
      },
      "source": [
        "You can now share this model with all your friends, family, favorite pets: they can all load it with the identifier \"your-username/the-name-you-picked\" so for instance:"
      ]
    },
    {
      "cell_type": "markdown",
      "metadata": {
        "id": "Adm0LngNNxq7"
      },
      "source": [
        "```python\n",
        "from transformers import AutoModelForCTC, Wav2Vec2Processor\n",
        "\n",
        "model = AutoModelForCTC.from_pretrained(\"patrickvonplaten/wav2vec2-base-timit-demo-google-colab\")\n",
        "processor = Wav2Vec2Processor.from_pretrained(\"patrickvonplaten/wav2vec2-base-timit-demo-google-colab\")\n",
        "```"
      ]
    },
    {
      "cell_type": "markdown",
      "metadata": {
        "id": "nD4XP5IHncsY"
      },
      "source": [
        "### Evaluate\n",
        "\n",
        "In the final part, we run our model on some of the validation data to get a feeling for how well it works.\n",
        "\n",
        "Let's load the `processor` and `model`."
      ]
    },
    {
      "cell_type": "code",
      "execution_count": null,
      "metadata": {
        "colab": {
          "base_uri": "https://localhost:8080/",
          "height": 718,
          "referenced_widgets": [
            "524b5795780746f5966c06b878cc0fbc",
            "8eb41fee8e1c452a9d69a07a266d871a",
            "f22febfc3bbe48058be84b2a20e906f5",
            "ab51fefefa1b464a9a780b80c6f0c020",
            "88fd1cb973f8485b97caa19b7801c3d3",
            "3234edc4a75e4658acd19feef174e88f",
            "6bfe6219ad934146a4d680e38ed19879",
            "63e9fc689ea54fbfa7226cc9918977cb",
            "dc034b4bf9e34963ab79f391c55d44ac",
            "6b3288ffeef34c2a925d2554c7c4f521",
            "116e45bbe2d640d18d6a47309692dc20",
            "66d5a397b26e4d66a97bc3b3159e96bd",
            "041870fd5bac43b394956252364a16c4",
            "26f6574d99724fb29159071dda6039b5",
            "55d0bfd5c746402f89e6b86a7ca37b3a",
            "b69bad861f014c20b4cb470c73b1fe37",
            "940e030ce7ae40d68136ddf1a1a67736",
            "c80bdd3bae794c08b81c950a33ff9ba0",
            "7b0c8bc5bb66433384aeb47bf99001ae",
            "6b03d462bd0f4fbeab0df76bbb881621",
            "be78bdab8638431e80c087a0fe9a7a8f",
            "d44a1f0b3216469fb1ac597951f9471a",
            "a0e897961bb049438847879cf082adf3",
            "820ac3ce474346728b80a609d47848ee",
            "045273b88fa04afba97bf7ba6027f164",
            "4847949da7b64782895b4fca8b432ec8",
            "427b99cf8b964a59bbbf0b4d04504906",
            "f652ea3e007c42669e445a7247bb0430",
            "527bf8b3612b4da89479424c5b66681e",
            "708ff309676040119bccd6f21d1684f6",
            "6a8694b9181f4828ba3ef4ff828fd1c3",
            "90dbfe5bab604315b329a6a8fcf131b1",
            "b1a51bfb07774b7bac783d1c4d5a680c",
            "6ca0c9b3d250425b9597de9baa6bd77b",
            "b7d46c7f5da646eba0ed9e38fed6b4ee",
            "7291673613bb43848bec1abee7447078",
            "5c49d625a7f742f1a64820bc6f749f3a",
            "a6a5bcb980df41d1b3e7b581701eae16",
            "6412d390b2ce416fae910d689c3f6e70",
            "255c276a050446ed9df81f8eeb7c1178",
            "ddd975596c234b0eacc40ef18ef40778",
            "a5fd824b8eb64bb7b8d83354961927e6",
            "17e3d063396848548af91c55c8f8e282",
            "a3b48bc669674ff2a0bcce75a50e81eb"
          ]
        },
        "id": "-rg0USDCnbo6",
        "outputId": "ddfac637-7c6d-4df1-a07a-4f1278fff182"
      },
      "outputs": [
        {
          "name": "stderr",
          "output_type": "stream",
          "text": [
            "https://huggingface.co/patrickvonplaten/wav2vec2-base-timit-demo-google-colab/resolve/main/preprocessor_config.json not found in cache or force_download set to True, downloading to /root/.cache/huggingface/transformers/tmpjyd34ogd\n"
          ]
        },
        {
          "data": {
            "application/vnd.jupyter.widget-view+json": {
              "model_id": "524b5795780746f5966c06b878cc0fbc",
              "version_major": 2,
              "version_minor": 0
            },
            "text/plain": [
              "Downloading:   0%|          | 0.00/215 [00:00<?, ?B/s]"
            ]
          },
          "metadata": {},
          "output_type": "display_data"
        },
        {
          "name": "stderr",
          "output_type": "stream",
          "text": [
            "storing https://huggingface.co/patrickvonplaten/wav2vec2-base-timit-demo-google-colab/resolve/main/preprocessor_config.json in cache at /root/.cache/huggingface/transformers/17fa07f6e2f88edf24c71037bed1b7cf0cf9acfef7d3353afb589689627542c1.0e3e6656f99a6f7b9eddd943463eb7f34363640fce9e87b047ebd50d4b112b50\n",
            "creating metadata file for /root/.cache/huggingface/transformers/17fa07f6e2f88edf24c71037bed1b7cf0cf9acfef7d3353afb589689627542c1.0e3e6656f99a6f7b9eddd943463eb7f34363640fce9e87b047ebd50d4b112b50\n",
            "loading feature extractor configuration file https://huggingface.co/patrickvonplaten/wav2vec2-base-timit-demo-google-colab/resolve/main/preprocessor_config.json from cache at /root/.cache/huggingface/transformers/17fa07f6e2f88edf24c71037bed1b7cf0cf9acfef7d3353afb589689627542c1.0e3e6656f99a6f7b9eddd943463eb7f34363640fce9e87b047ebd50d4b112b50\n",
            "Feature extractor Wav2Vec2FeatureExtractor {\n",
            "  \"do_normalize\": true,\n",
            "  \"feature_extractor_type\": \"Wav2Vec2FeatureExtractor\",\n",
            "  \"feature_size\": 1,\n",
            "  \"padding_side\": \"right\",\n",
            "  \"padding_value\": 0.0,\n",
            "  \"return_attention_mask\": false,\n",
            "  \"sampling_rate\": 16000\n",
            "}\n",
            "\n",
            "https://huggingface.co/patrickvonplaten/wav2vec2-base-timit-demo-google-colab/resolve/main/tokenizer_config.json not found in cache or force_download set to True, downloading to /root/.cache/huggingface/transformers/tmpcsym765z\n"
          ]
        },
        {
          "data": {
            "application/vnd.jupyter.widget-view+json": {
              "model_id": "66d5a397b26e4d66a97bc3b3159e96bd",
              "version_major": 2,
              "version_minor": 0
            },
            "text/plain": [
              "Downloading:   0%|          | 0.00/217 [00:00<?, ?B/s]"
            ]
          },
          "metadata": {},
          "output_type": "display_data"
        },
        {
          "name": "stderr",
          "output_type": "stream",
          "text": [
            "storing https://huggingface.co/patrickvonplaten/wav2vec2-base-timit-demo-google-colab/resolve/main/tokenizer_config.json in cache at /root/.cache/huggingface/transformers/7bf2e07c1c7ed7e3d055d87aa6bd33c75e6883d98029ae3744fed6bea9e35095.59710b1a6a5501d31e746b6e464f5c44de3e55a58f80634196025936683a68a9\n",
            "creating metadata file for /root/.cache/huggingface/transformers/7bf2e07c1c7ed7e3d055d87aa6bd33c75e6883d98029ae3744fed6bea9e35095.59710b1a6a5501d31e746b6e464f5c44de3e55a58f80634196025936683a68a9\n",
            "https://huggingface.co/patrickvonplaten/wav2vec2-base-timit-demo-google-colab/resolve/main/vocab.json not found in cache or force_download set to True, downloading to /root/.cache/huggingface/transformers/tmpptj3is25\n"
          ]
        },
        {
          "data": {
            "application/vnd.jupyter.widget-view+json": {
              "model_id": "a0e897961bb049438847879cf082adf3",
              "version_major": 2,
              "version_minor": 0
            },
            "text/plain": [
              "Downloading:   0%|          | 0.00/268 [00:00<?, ?B/s]"
            ]
          },
          "metadata": {},
          "output_type": "display_data"
        },
        {
          "name": "stderr",
          "output_type": "stream",
          "text": [
            "storing https://huggingface.co/patrickvonplaten/wav2vec2-base-timit-demo-google-colab/resolve/main/vocab.json in cache at /root/.cache/huggingface/transformers/f739813380b0880ba302557f0f990f0f64e8efe81fcc91a4fce08206a91ee215.c44a036121683e19f1a033a1765d4344364cb4633a6cbf5cf51b153f2388abb1\n",
            "creating metadata file for /root/.cache/huggingface/transformers/f739813380b0880ba302557f0f990f0f64e8efe81fcc91a4fce08206a91ee215.c44a036121683e19f1a033a1765d4344364cb4633a6cbf5cf51b153f2388abb1\n",
            "https://huggingface.co/patrickvonplaten/wav2vec2-base-timit-demo-google-colab/resolve/main/special_tokens_map.json not found in cache or force_download set to True, downloading to /root/.cache/huggingface/transformers/tmpckp9vkh1\n"
          ]
        },
        {
          "data": {
            "application/vnd.jupyter.widget-view+json": {
              "model_id": "6ca0c9b3d250425b9597de9baa6bd77b",
              "version_major": 2,
              "version_minor": 0
            },
            "text/plain": [
              "Downloading:   0%|          | 0.00/85.0 [00:00<?, ?B/s]"
            ]
          },
          "metadata": {},
          "output_type": "display_data"
        },
        {
          "name": "stderr",
          "output_type": "stream",
          "text": [
            "storing https://huggingface.co/patrickvonplaten/wav2vec2-base-timit-demo-google-colab/resolve/main/special_tokens_map.json in cache at /root/.cache/huggingface/transformers/c239f3738252f8d8e83d9813ea82866aeec476c467a008db86229f4edc6490b0.a21d51735cf8667bcd610f057e88548d5d6a381401f6b4501a8bc6c1a9dc8498\n",
            "creating metadata file for /root/.cache/huggingface/transformers/c239f3738252f8d8e83d9813ea82866aeec476c467a008db86229f4edc6490b0.a21d51735cf8667bcd610f057e88548d5d6a381401f6b4501a8bc6c1a9dc8498\n",
            "loading file https://huggingface.co/patrickvonplaten/wav2vec2-base-timit-demo-google-colab/resolve/main/vocab.json from cache at /root/.cache/huggingface/transformers/f739813380b0880ba302557f0f990f0f64e8efe81fcc91a4fce08206a91ee215.c44a036121683e19f1a033a1765d4344364cb4633a6cbf5cf51b153f2388abb1\n",
            "loading file https://huggingface.co/patrickvonplaten/wav2vec2-base-timit-demo-google-colab/resolve/main/tokenizer_config.json from cache at /root/.cache/huggingface/transformers/7bf2e07c1c7ed7e3d055d87aa6bd33c75e6883d98029ae3744fed6bea9e35095.59710b1a6a5501d31e746b6e464f5c44de3e55a58f80634196025936683a68a9\n",
            "loading file https://huggingface.co/patrickvonplaten/wav2vec2-base-timit-demo-google-colab/resolve/main/added_tokens.json from cache at None\n",
            "loading file https://huggingface.co/patrickvonplaten/wav2vec2-base-timit-demo-google-colab/resolve/main/special_tokens_map.json from cache at /root/.cache/huggingface/transformers/c239f3738252f8d8e83d9813ea82866aeec476c467a008db86229f4edc6490b0.a21d51735cf8667bcd610f057e88548d5d6a381401f6b4501a8bc6c1a9dc8498\n",
            "Adding <s> to the vocabulary\n",
            "Adding </s> to the vocabulary\n",
            "Special tokens have been added in the vocabulary, make sure the associated word embeddings are fine-tuned or trained.\n"
          ]
        }
      ],
      "source": [
        "processor = Wav2Vec2Processor.from_pretrained(\"patrickvonplaten/wav2vec2-base-timit-demo-google-colab\")"
      ]
    },
    {
      "cell_type": "code",
      "execution_count": null,
      "metadata": {
        "colab": {
          "base_uri": "https://localhost:8080/"
        },
        "id": "sSpFW3pDn23P",
        "outputId": "dd9ac831-3620-4b87-98b6-c85a57150a15"
      },
      "outputs": [
        {
          "name": "stderr",
          "output_type": "stream",
          "text": [
            "loading configuration file https://huggingface.co/patrickvonplaten/wav2vec2-base-timit-demo-google-colab/resolve/main/config.json from cache at /root/.cache/huggingface/transformers/7606a293c66b1cba6bb9a342dcffe3831dc19a120cfeeb9e57cdf6ffb9630f3f.3202909be16e9c482257d0c4d35b4f4c2558cea585027c729eed803ba4bf0d8e\n",
            "Model config Wav2Vec2Config {\n",
            "  \"_name_or_path\": \"facebook/wav2vec2-base\",\n",
            "  \"activation_dropout\": 0.0,\n",
            "  \"adapter_kernel_size\": 3,\n",
            "  \"adapter_stride\": 2,\n",
            "  \"add_adapter\": false,\n",
            "  \"apply_spec_augment\": true,\n",
            "  \"architectures\": [\n",
            "    \"Wav2Vec2ForCTC\"\n",
            "  ],\n",
            "  \"attention_dropout\": 0.1,\n",
            "  \"bos_token_id\": 1,\n",
            "  \"classifier_proj_size\": 256,\n",
            "  \"codevector_dim\": 256,\n",
            "  \"contrastive_logits_temperature\": 0.1,\n",
            "  \"conv_bias\": false,\n",
            "  \"conv_dim\": [\n",
            "    512,\n",
            "    512,\n",
            "    512,\n",
            "    512,\n",
            "    512,\n",
            "    512,\n",
            "    512\n",
            "  ],\n",
            "  \"conv_kernel\": [\n",
            "    10,\n",
            "    3,\n",
            "    3,\n",
            "    3,\n",
            "    3,\n",
            "    2,\n",
            "    2\n",
            "  ],\n",
            "  \"conv_stride\": [\n",
            "    5,\n",
            "    2,\n",
            "    2,\n",
            "    2,\n",
            "    2,\n",
            "    2,\n",
            "    2\n",
            "  ],\n",
            "  \"ctc_loss_reduction\": \"mean\",\n",
            "  \"ctc_zero_infinity\": false,\n",
            "  \"diversity_loss_weight\": 0.1,\n",
            "  \"do_stable_layer_norm\": false,\n",
            "  \"eos_token_id\": 2,\n",
            "  \"feat_extract_activation\": \"gelu\",\n",
            "  \"feat_extract_norm\": \"group\",\n",
            "  \"feat_proj_dropout\": 0.1,\n",
            "  \"feat_quantizer_dropout\": 0.0,\n",
            "  \"final_dropout\": 0.0,\n",
            "  \"freeze_feat_extract_train\": true,\n",
            "  \"hidden_act\": \"gelu\",\n",
            "  \"hidden_dropout\": 0.1,\n",
            "  \"hidden_size\": 768,\n",
            "  \"initializer_range\": 0.02,\n",
            "  \"intermediate_size\": 3072,\n",
            "  \"layer_norm_eps\": 1e-05,\n",
            "  \"layerdrop\": 0.0,\n",
            "  \"mask_channel_length\": 10,\n",
            "  \"mask_channel_min_space\": 1,\n",
            "  \"mask_channel_other\": 0.0,\n",
            "  \"mask_channel_prob\": 0.0,\n",
            "  \"mask_channel_selection\": \"static\",\n",
            "  \"mask_feature_length\": 10,\n",
            "  \"mask_feature_min_masks\": 0,\n",
            "  \"mask_feature_prob\": 0.0,\n",
            "  \"mask_time_length\": 10,\n",
            "  \"mask_time_min_masks\": 2,\n",
            "  \"mask_time_min_space\": 1,\n",
            "  \"mask_time_other\": 0.0,\n",
            "  \"mask_time_prob\": 0.05,\n",
            "  \"mask_time_selection\": \"static\",\n",
            "  \"model_type\": \"wav2vec2\",\n",
            "  \"no_mask_channel_overlap\": false,\n",
            "  \"no_mask_time_overlap\": false,\n",
            "  \"num_adapter_layers\": 3,\n",
            "  \"num_attention_heads\": 12,\n",
            "  \"num_codevector_groups\": 2,\n",
            "  \"num_codevectors_per_group\": 320,\n",
            "  \"num_conv_pos_embedding_groups\": 16,\n",
            "  \"num_conv_pos_embeddings\": 128,\n",
            "  \"num_feat_extract_layers\": 7,\n",
            "  \"num_hidden_layers\": 12,\n",
            "  \"num_negatives\": 100,\n",
            "  \"output_hidden_size\": 768,\n",
            "  \"pad_token_id\": 29,\n",
            "  \"proj_codevector_dim\": 256,\n",
            "  \"tdnn_dilation\": [\n",
            "    1,\n",
            "    2,\n",
            "    3,\n",
            "    1,\n",
            "    1\n",
            "  ],\n",
            "  \"tdnn_dim\": [\n",
            "    512,\n",
            "    512,\n",
            "    512,\n",
            "    512,\n",
            "    1500\n",
            "  ],\n",
            "  \"tdnn_kernel\": [\n",
            "    5,\n",
            "    3,\n",
            "    3,\n",
            "    1,\n",
            "    1\n",
            "  ],\n",
            "  \"torch_dtype\": \"float32\",\n",
            "  \"transformers_version\": \"4.17.0\",\n",
            "  \"use_weighted_layer_sum\": false,\n",
            "  \"vocab_size\": 32,\n",
            "  \"xvector_output_dim\": 512\n",
            "}\n",
            "\n",
            "loading weights file https://huggingface.co/patrickvonplaten/wav2vec2-base-timit-demo-google-colab/resolve/main/pytorch_model.bin from cache at /root/.cache/huggingface/transformers/666767bce47a87d50dfd1ceac759d5dc9db6eac8d185ae8f9a7dd388687c28c5.20bdf845b9896c1d0a213f03187b544f2a12b23d751b88c7b49a95d00bd946e1\n",
            "All model checkpoint weights were used when initializing Wav2Vec2ForCTC.\n",
            "\n",
            "All the weights of Wav2Vec2ForCTC were initialized from the model checkpoint at patrickvonplaten/wav2vec2-base-timit-demo-google-colab.\n",
            "If your task is similar to the task the model of the checkpoint was trained on, you can already use Wav2Vec2ForCTC for predictions without further training.\n"
          ]
        }
      ],
      "source": [
        "model = Wav2Vec2ForCTC.from_pretrained(\"patrickvonplaten/wav2vec2-base-timit-demo-google-colab\").cuda()"
      ]
    },
    {
      "cell_type": "markdown",
      "metadata": {
        "id": "TUuZpB0v5jn_"
      },
      "source": [
        "Now, we will make use of the `map(...)` function to predict the transcription of every test sample and to save the prediction in the dataset itself. We will call the resulting dictionary `\"results\"`.\n",
        "\n",
        "**Note**: we evaluate the test data set with `batch_size=1` on purpose due to this [issue](https://github.com/pytorch/fairseq/issues/3227). Since padded inputs don't yield the exact same output as non-padded inputs, a better WER can be achieved by not padding the input at all."
      ]
    },
    {
      "cell_type": "code",
      "execution_count": null,
      "metadata": {
        "id": "40naJl53n7jT"
      },
      "outputs": [],
      "source": [
        "def map_to_result(batch):\n",
        "  with torch.no_grad():\n",
        "    input_values = torch.tensor(batch[\"input_values\"], device=\"cuda\").unsqueeze(0)\n",
        "    logits = model(input_values).logits\n",
        "\n",
        "  pred_ids = torch.argmax(logits, dim=-1)\n",
        "  batch[\"pred_str\"] = processor.batch_decode(pred_ids)[0]\n",
        "  batch[\"text\"] = processor.decode(batch[\"labels\"], group_tokens=False)\n",
        "\n",
        "  return batch"
      ]
    },
    {
      "cell_type": "code",
      "execution_count": null,
      "metadata": {
        "colab": {
          "base_uri": "https://localhost:8080/",
          "height": 48,
          "referenced_widgets": [
            "8fbdb230253a4152be95bf6229049f09",
            "857f0c099d8549e98991a93c791db4c1",
            "16561789e2b9417a80ddcb6ef9d8676a",
            "050c9d6bfd1e4b6ebe67401183a8d397",
            "5874591082f944ff9b32202a1edbfd60",
            "8c968b160d3d4fbb998840734f9f07e4",
            "d2fd7c9e56b1419f9d23a10c260a7c7d",
            "4a03fb6d945f4102bc4f7192195d810d",
            "8ab2466b187047fbbe4d8b72455b1108",
            "89472d79793e4db9afa6845fb016c8ad",
            "f5e79b8c3a634eae8a555f18b9dc9bd6"
          ]
        },
        "id": "uPqH7gZqrGPi",
        "outputId": "1eb633f5-c487-4cd1-8be6-aac4af385a2e"
      },
      "outputs": [
        {
          "data": {
            "application/vnd.jupyter.widget-view+json": {
              "model_id": "8fbdb230253a4152be95bf6229049f09",
              "version_major": 2,
              "version_minor": 0
            },
            "text/plain": [
              "0ex [00:00, ?ex/s]"
            ]
          },
          "metadata": {},
          "output_type": "display_data"
        }
      ],
      "source": [
        "results = timit[\"test\"].map(map_to_result, remove_columns=timit[\"test\"].column_names)"
      ]
    },
    {
      "cell_type": "markdown",
      "metadata": {
        "id": "-mqpdB8R6rty"
      },
      "source": [
        "Let's compute the overall WER now."
      ]
    },
    {
      "cell_type": "code",
      "execution_count": null,
      "metadata": {
        "colab": {
          "base_uri": "https://localhost:8080/"
        },
        "id": "PmqAb4Isx8OK",
        "outputId": "d70180e0-77e4-458b-daff-61df307f500c"
      },
      "outputs": [
        {
          "name": "stdout",
          "output_type": "stream",
          "text": [
            "Test WER: 0.218\n"
          ]
        }
      ],
      "source": [
        "print(\"Test WER: {:.3f}\".format(wer_metric.compute(predictions=results[\"pred_str\"], references=results[\"text\"])))"
      ]
    },
    {
      "cell_type": "markdown",
      "metadata": {
        "id": "6Va94d8Y7Q98"
      },
      "source": [
        "21.8% WER - not bad! Our demo model would have probably made it on the official [leaderboard](https://paperswithcode.com/sota/speech-recognition-on-timit).\n",
        "\n",
        "Let's take a look at some predictions to see what errors are made by the model."
      ]
    },
    {
      "cell_type": "code",
      "execution_count": null,
      "metadata": {
        "colab": {
          "base_uri": "https://localhost:8080/",
          "height": 363
        },
        "id": "odNDiFVRy53w",
        "outputId": "cb787bc7-5346-449e-e314-202df442185a"
      },
      "outputs": [
        {
          "data": {
            "text/html": [
              "<table border=\"1\" class=\"dataframe\">\n",
              "  <thead>\n",
              "    <tr style=\"text-align: right;\">\n",
              "      <th></th>\n",
              "      <th>pred_str</th>\n",
              "      <th>text</th>\n",
              "    </tr>\n",
              "  </thead>\n",
              "  <tbody>\n",
              "    <tr>\n",
              "      <th>0</th>\n",
              "      <td>aim to balenge your employ you benefits package</td>\n",
              "      <td>aim to balance your employee benefit package</td>\n",
              "    </tr>\n",
              "    <tr>\n",
              "      <th>1</th>\n",
              "      <td>the fog prevented them from ariving on tom</td>\n",
              "      <td>the fog prevented them from arriving on time</td>\n",
              "    </tr>\n",
              "    <tr>\n",
              "      <th>2</th>\n",
              "      <td>young children should avoid exposure to contageous diseases</td>\n",
              "      <td>young children should avoid exposure to contagious diseases</td>\n",
              "    </tr>\n",
              "    <tr>\n",
              "      <th>3</th>\n",
              "      <td>art official intelligence is for real</td>\n",
              "      <td>artificial intelligence is for real</td>\n",
              "    </tr>\n",
              "    <tr>\n",
              "      <th>4</th>\n",
              "      <td>theire propes were two step latters a chair and a pame fen</td>\n",
              "      <td>their props were two stepladders a chair and a palm fan</td>\n",
              "    </tr>\n",
              "    <tr>\n",
              "      <th>5</th>\n",
              "      <td>if people were more generous there would be no need for wealfar</td>\n",
              "      <td>if people were more generous there would be no need for welfare</td>\n",
              "    </tr>\n",
              "    <tr>\n",
              "      <th>6</th>\n",
              "      <td>the fish began to leep frantically on the surface of the smalleaku</td>\n",
              "      <td>the fish began to leap frantically on the surface of the small lake</td>\n",
              "    </tr>\n",
              "    <tr>\n",
              "      <th>7</th>\n",
              "      <td>her rite hand aques whenever the baramatric presuer changes</td>\n",
              "      <td>her right hand aches whenever the barometric pressure changes</td>\n",
              "    </tr>\n",
              "    <tr>\n",
              "      <th>8</th>\n",
              "      <td>only lawyers loved milunears</td>\n",
              "      <td>only lawyers love millionaires</td>\n",
              "    </tr>\n",
              "    <tr>\n",
              "      <th>9</th>\n",
              "      <td>the nearest synnegu may not be within walk in distance</td>\n",
              "      <td>the nearest synagogue may not be within walking distance</td>\n",
              "    </tr>\n",
              "  </tbody>\n",
              "</table>"
            ],
            "text/plain": [
              "<IPython.core.display.HTML object>"
            ]
          },
          "metadata": {},
          "output_type": "display_data"
        }
      ],
      "source": [
        "show_random_elements(results)"
      ]
    },
    {
      "cell_type": "markdown",
      "metadata": {
        "id": "5HFCujhd9n4N"
      },
      "source": [
        "It becomes clear that the predicted transcriptions are acoustically very similar to the target transcriptions, but often contain spelling or grammatical errors. This shouldn't be very surprising though given that we purely rely on Wav2Vec2 without making use of a language model."
      ]
    },
    {
      "cell_type": "markdown",
      "metadata": {
        "id": "a3ydKvUl9FTK"
      },
      "source": [
        "Finally, to better understand how CTC works, it is worth taking a deeper look at the exact output of the model. Let's run the first test sample through the model, take the predicted ids and convert them to their corresponding tokens."
      ]
    },
    {
      "cell_type": "code",
      "execution_count": null,
      "metadata": {
        "colab": {
          "base_uri": "https://localhost:8080/",
          "height": 73
        },
        "id": "AqaM45t87uM4",
        "outputId": "2d181121-2184-48dc-a337-bb33194fd68b"
      },
      "outputs": [
        {
          "data": {
            "application/vnd.google.colaboratory.intrinsic+json": {
              "type": "string"
            },
            "text/plain": [
              "'[PAD] [PAD] [PAD] [PAD] [PAD] t t h h e | | | b [PAD] [PAD] [PAD] u u n n g g [PAD] [PAD] l l l l [PAD] o o o | | w w a a s s | | [PAD] [PAD] [PAD] p l l [PAD] e s s s s [PAD] n n t t [PAD] l l l y y | | [PAD] s s s i i t t t [PAD] u u u u u [PAD] [PAD] [PAD] [PAD] a a t t [PAD] e e d d | | [PAD] n n e e a a r | | t t h e e | | s s h h [PAD] [PAD] [PAD] [PAD] o o r r r r | [PAD] [PAD] [PAD] [PAD] [PAD] [PAD] [PAD] [PAD] [PAD]'"
            ]
          },
          "execution_count": 98,
          "metadata": {},
          "output_type": "execute_result"
        }
      ],
      "source": [
        "model.to(\"cuda\")\n",
        "\n",
        "with torch.no_grad():\n",
        "  logits = model(torch.tensor(timit[\"test\"][:1][\"input_values\"], device=\"cuda\")).logits\n",
        "\n",
        "pred_ids = torch.argmax(logits, dim=-1)\n",
        "\n",
        "# convert ids to tokens\n",
        "\" \".join(processor.tokenizer.convert_ids_to_tokens(pred_ids[0].tolist()))"
      ]
    },
    {
      "cell_type": "markdown",
      "metadata": {
        "id": "tdO8E28g-n5C"
      },
      "source": [
        "The output should make it a bit clearer how CTC works in practice. The model is to some extent invariant to speaking rate since it has learned to either just repeat the same token in case the speech chunk to be classified still corresponds to the same token. This makes CTC a very powerful algorithm for speech recognition since the speech file's transcription is often very much independent of its length.\n",
        "\n",
        "I again advise the reader to take a look at [this](https://distill.pub/2017/ctc) very nice blog post to better understand CTC."
      ]
    }
  ],
  "metadata": {
    "accelerator": "GPU",
    "colab": {
      "machine_shape": "hm",
      "name": "Fine-tuning Wav2Vec2 for English ASR",
      "provenance": [],
      "toc_visible": true
    },
    "kernelspec": {
      "display_name": "Python 3",
      "name": "python3"
    },
    "language_info": {
      "codemirror_mode": {
        "name": "ipython",
        "version": 3
      },
      "file_extension": ".py",
      "mimetype": "text/x-python",
      "name": "python",
      "nbconvert_exporter": "python",
      "pygments_lexer": "ipython3",
      "version": "3.9.18"
    },
    "widgets": {
      "application/vnd.jupyter.widget-state+json": {
        "00a02ff8b284413f853da9d7c41afedd": {
          "model_module": "@jupyter-widgets/controls",
          "model_module_version": "1.5.0",
          "model_name": "HBoxModel",
          "state": {
            "_dom_classes": [],
            "_model_module": "@jupyter-widgets/controls",
            "_model_module_version": "1.5.0",
            "_model_name": "HBoxModel",
            "_view_count": null,
            "_view_module": "@jupyter-widgets/controls",
            "_view_module_version": "1.5.0",
            "_view_name": "HBoxView",
            "box_style": "",
            "children": [
              "IPY_MODEL_73b586087e9447e688c97318bf6eba11",
              "IPY_MODEL_6ba8f8fde3fc4050a304df11cc1d2c7c",
              "IPY_MODEL_0ceb294ca03a4bf2ae5586ffbbb6f0fc"
            ],
            "layout": "IPY_MODEL_ffa2bd3495f54f1c81f15ebf50fd4fee"
          }
        },
        "041870fd5bac43b394956252364a16c4": {
          "model_module": "@jupyter-widgets/controls",
          "model_module_version": "1.5.0",
          "model_name": "HTMLModel",
          "state": {
            "_dom_classes": [],
            "_model_module": "@jupyter-widgets/controls",
            "_model_module_version": "1.5.0",
            "_model_name": "HTMLModel",
            "_view_count": null,
            "_view_module": "@jupyter-widgets/controls",
            "_view_module_version": "1.5.0",
            "_view_name": "HTMLView",
            "description": "",
            "description_tooltip": null,
            "layout": "IPY_MODEL_940e030ce7ae40d68136ddf1a1a67736",
            "placeholder": "​",
            "style": "IPY_MODEL_c80bdd3bae794c08b81c950a33ff9ba0",
            "value": "Downloading: 100%"
          }
        },
        "045273b88fa04afba97bf7ba6027f164": {
          "model_module": "@jupyter-widgets/controls",
          "model_module_version": "1.5.0",
          "model_name": "FloatProgressModel",
          "state": {
            "_dom_classes": [],
            "_model_module": "@jupyter-widgets/controls",
            "_model_module_version": "1.5.0",
            "_model_name": "FloatProgressModel",
            "_view_count": null,
            "_view_module": "@jupyter-widgets/controls",
            "_view_module_version": "1.5.0",
            "_view_name": "ProgressView",
            "bar_style": "success",
            "description": "",
            "description_tooltip": null,
            "layout": "IPY_MODEL_708ff309676040119bccd6f21d1684f6",
            "max": 268,
            "min": 0,
            "orientation": "horizontal",
            "style": "IPY_MODEL_6a8694b9181f4828ba3ef4ff828fd1c3",
            "value": 268
          }
        },
        "04889e8a534846219c60b6c637ff9703": {
          "model_module": "@jupyter-widgets/controls",
          "model_module_version": "1.5.0",
          "model_name": "HTMLModel",
          "state": {
            "_dom_classes": [],
            "_model_module": "@jupyter-widgets/controls",
            "_model_module_version": "1.5.0",
            "_model_name": "HTMLModel",
            "_view_count": null,
            "_view_module": "@jupyter-widgets/controls",
            "_view_module_version": "1.5.0",
            "_view_name": "HTMLView",
            "description": "",
            "description_tooltip": null,
            "layout": "IPY_MODEL_b807a57d90ae41c1bfa3a54b121affd1",
            "placeholder": "​",
            "style": "IPY_MODEL_edbc56749e544622be7717992bd72dbc",
            "value": "<center> <img\nsrc=https://huggingface.co/front/assets/huggingface_logo-noborder.svg\nalt='Hugging Face'> <br> Copy a token from <a\nhref=\"https://huggingface.co/settings/tokens\" target=\"_blank\">your Hugging Face\ntokens page</a> and paste it below. <br> Immediately click login after copying\nyour token or it might be stored in plain text in this notebook file. </center>"
          }
        },
        "050c9d6bfd1e4b6ebe67401183a8d397": {
          "model_module": "@jupyter-widgets/controls",
          "model_module_version": "1.5.0",
          "model_name": "HTMLModel",
          "state": {
            "_dom_classes": [],
            "_model_module": "@jupyter-widgets/controls",
            "_model_module_version": "1.5.0",
            "_model_name": "HTMLModel",
            "_view_count": null,
            "_view_module": "@jupyter-widgets/controls",
            "_view_module_version": "1.5.0",
            "_view_name": "HTMLView",
            "description": "",
            "description_tooltip": null,
            "layout": "IPY_MODEL_89472d79793e4db9afa6845fb016c8ad",
            "placeholder": "​",
            "style": "IPY_MODEL_f5e79b8c3a634eae8a555f18b9dc9bd6",
            "value": " 1680/? [00:55&lt;00:00, 30.41ex/s]"
          }
        },
        "0c34c7a51c284cda95a8848bad451603": {
          "model_module": "@jupyter-widgets/controls",
          "model_module_version": "1.5.0",
          "model_name": "DescriptionStyleModel",
          "state": {
            "_model_module": "@jupyter-widgets/controls",
            "_model_module_version": "1.5.0",
            "_model_name": "DescriptionStyleModel",
            "_view_count": null,
            "_view_module": "@jupyter-widgets/base",
            "_view_module_version": "1.2.0",
            "_view_name": "StyleView",
            "description_width": ""
          }
        },
        "0cd65792216b4decaf24961bb33802d0": {
          "model_module": "@jupyter-widgets/controls",
          "model_module_version": "1.5.0",
          "model_name": "ProgressStyleModel",
          "state": {
            "_model_module": "@jupyter-widgets/controls",
            "_model_module_version": "1.5.0",
            "_model_name": "ProgressStyleModel",
            "_view_count": null,
            "_view_module": "@jupyter-widgets/base",
            "_view_module_version": "1.2.0",
            "_view_name": "StyleView",
            "bar_color": null,
            "description_width": ""
          }
        },
        "0ceb294ca03a4bf2ae5586ffbbb6f0fc": {
          "model_module": "@jupyter-widgets/controls",
          "model_module_version": "1.5.0",
          "model_name": "HTMLModel",
          "state": {
            "_dom_classes": [],
            "_model_module": "@jupyter-widgets/controls",
            "_model_module_version": "1.5.0",
            "_model_name": "HTMLModel",
            "_view_count": null,
            "_view_module": "@jupyter-widgets/controls",
            "_view_module_version": "1.5.0",
            "_view_name": "HTMLView",
            "description": "",
            "description_tooltip": null,
            "layout": "IPY_MODEL_968f456d45ab4f25aeaf57b0c0ddc190",
            "placeholder": "​",
            "style": "IPY_MODEL_92ae2ab85efc40fa89da650ccbe85e21",
            "value": " 4.71k/4.71k [05:26&lt;00:00, 13.9kB/s]"
          }
        },
        "116e45bbe2d640d18d6a47309692dc20": {
          "model_module": "@jupyter-widgets/controls",
          "model_module_version": "1.5.0",
          "model_name": "DescriptionStyleModel",
          "state": {
            "_model_module": "@jupyter-widgets/controls",
            "_model_module_version": "1.5.0",
            "_model_name": "DescriptionStyleModel",
            "_view_count": null,
            "_view_module": "@jupyter-widgets/base",
            "_view_module_version": "1.2.0",
            "_view_name": "StyleView",
            "description_width": ""
          }
        },
        "162b2b0630244c2182042899074c222d": {
          "model_module": "@jupyter-widgets/base",
          "model_module_version": "1.2.0",
          "model_name": "LayoutModel",
          "state": {
            "_model_module": "@jupyter-widgets/base",
            "_model_module_version": "1.2.0",
            "_model_name": "LayoutModel",
            "_view_count": null,
            "_view_module": "@jupyter-widgets/base",
            "_view_module_version": "1.2.0",
            "_view_name": "LayoutView",
            "align_content": null,
            "align_items": null,
            "align_self": null,
            "border": null,
            "bottom": null,
            "display": null,
            "flex": null,
            "flex_flow": null,
            "grid_area": null,
            "grid_auto_columns": null,
            "grid_auto_flow": null,
            "grid_auto_rows": null,
            "grid_column": null,
            "grid_gap": null,
            "grid_row": null,
            "grid_template_areas": null,
            "grid_template_columns": null,
            "grid_template_rows": null,
            "height": null,
            "justify_content": null,
            "justify_items": null,
            "left": null,
            "margin": null,
            "max_height": null,
            "max_width": null,
            "min_height": null,
            "min_width": null,
            "object_fit": null,
            "object_position": null,
            "order": null,
            "overflow": null,
            "overflow_x": null,
            "overflow_y": null,
            "padding": null,
            "right": null,
            "top": null,
            "visibility": null,
            "width": null
          }
        },
        "16561789e2b9417a80ddcb6ef9d8676a": {
          "model_module": "@jupyter-widgets/controls",
          "model_module_version": "1.5.0",
          "model_name": "FloatProgressModel",
          "state": {
            "_dom_classes": [],
            "_model_module": "@jupyter-widgets/controls",
            "_model_module_version": "1.5.0",
            "_model_name": "FloatProgressModel",
            "_view_count": null,
            "_view_module": "@jupyter-widgets/controls",
            "_view_module_version": "1.5.0",
            "_view_name": "ProgressView",
            "bar_style": "success",
            "description": "",
            "description_tooltip": null,
            "layout": "IPY_MODEL_4a03fb6d945f4102bc4f7192195d810d",
            "max": 1,
            "min": 0,
            "orientation": "horizontal",
            "style": "IPY_MODEL_8ab2466b187047fbbe4d8b72455b1108",
            "value": 1
          }
        },
        "17e3d063396848548af91c55c8f8e282": {
          "model_module": "@jupyter-widgets/base",
          "model_module_version": "1.2.0",
          "model_name": "LayoutModel",
          "state": {
            "_model_module": "@jupyter-widgets/base",
            "_model_module_version": "1.2.0",
            "_model_name": "LayoutModel",
            "_view_count": null,
            "_view_module": "@jupyter-widgets/base",
            "_view_module_version": "1.2.0",
            "_view_name": "LayoutView",
            "align_content": null,
            "align_items": null,
            "align_self": null,
            "border": null,
            "bottom": null,
            "display": null,
            "flex": null,
            "flex_flow": null,
            "grid_area": null,
            "grid_auto_columns": null,
            "grid_auto_flow": null,
            "grid_auto_rows": null,
            "grid_column": null,
            "grid_gap": null,
            "grid_row": null,
            "grid_template_areas": null,
            "grid_template_columns": null,
            "grid_template_rows": null,
            "height": null,
            "justify_content": null,
            "justify_items": null,
            "left": null,
            "margin": null,
            "max_height": null,
            "max_width": null,
            "min_height": null,
            "min_width": null,
            "object_fit": null,
            "object_position": null,
            "order": null,
            "overflow": null,
            "overflow_x": null,
            "overflow_y": null,
            "padding": null,
            "right": null,
            "top": null,
            "visibility": null,
            "width": null
          }
        },
        "196c66080f944a61a537a0ddd9905248": {
          "model_module": "@jupyter-widgets/base",
          "model_module_version": "1.2.0",
          "model_name": "LayoutModel",
          "state": {
            "_model_module": "@jupyter-widgets/base",
            "_model_module_version": "1.2.0",
            "_model_name": "LayoutModel",
            "_view_count": null,
            "_view_module": "@jupyter-widgets/base",
            "_view_module_version": "1.2.0",
            "_view_name": "LayoutView",
            "align_content": null,
            "align_items": null,
            "align_self": null,
            "border": null,
            "bottom": null,
            "display": null,
            "flex": null,
            "flex_flow": null,
            "grid_area": null,
            "grid_auto_columns": null,
            "grid_auto_flow": null,
            "grid_auto_rows": null,
            "grid_column": null,
            "grid_gap": null,
            "grid_row": null,
            "grid_template_areas": null,
            "grid_template_columns": null,
            "grid_template_rows": null,
            "height": null,
            "justify_content": null,
            "justify_items": null,
            "left": null,
            "margin": null,
            "max_height": null,
            "max_width": null,
            "min_height": null,
            "min_width": null,
            "object_fit": null,
            "object_position": null,
            "order": null,
            "overflow": null,
            "overflow_x": null,
            "overflow_y": null,
            "padding": null,
            "right": null,
            "top": null,
            "visibility": null,
            "width": null
          }
        },
        "1decb0d7a7504439825a6e12c21fe8ed": {
          "model_module": "@jupyter-widgets/base",
          "model_module_version": "1.2.0",
          "model_name": "LayoutModel",
          "state": {
            "_model_module": "@jupyter-widgets/base",
            "_model_module_version": "1.2.0",
            "_model_name": "LayoutModel",
            "_view_count": null,
            "_view_module": "@jupyter-widgets/base",
            "_view_module_version": "1.2.0",
            "_view_name": "LayoutView",
            "align_content": null,
            "align_items": null,
            "align_self": null,
            "border": null,
            "bottom": null,
            "display": null,
            "flex": null,
            "flex_flow": null,
            "grid_area": null,
            "grid_auto_columns": null,
            "grid_auto_flow": null,
            "grid_auto_rows": null,
            "grid_column": null,
            "grid_gap": null,
            "grid_row": null,
            "grid_template_areas": null,
            "grid_template_columns": null,
            "grid_template_rows": null,
            "height": null,
            "justify_content": null,
            "justify_items": null,
            "left": null,
            "margin": null,
            "max_height": null,
            "max_width": null,
            "min_height": null,
            "min_width": null,
            "object_fit": null,
            "object_position": null,
            "order": null,
            "overflow": null,
            "overflow_x": null,
            "overflow_y": null,
            "padding": null,
            "right": null,
            "top": null,
            "visibility": null,
            "width": null
          }
        },
        "1e596bd81f984654b5e965a9e8159caf": {
          "model_module": "@jupyter-widgets/controls",
          "model_module_version": "1.5.0",
          "model_name": "DescriptionStyleModel",
          "state": {
            "_model_module": "@jupyter-widgets/controls",
            "_model_module_version": "1.5.0",
            "_model_name": "DescriptionStyleModel",
            "_view_count": null,
            "_view_module": "@jupyter-widgets/base",
            "_view_module_version": "1.2.0",
            "_view_name": "StyleView",
            "description_width": ""
          }
        },
        "1eb4c98ebb084e8898b793265738b7fc": {
          "model_module": "@jupyter-widgets/controls",
          "model_module_version": "1.5.0",
          "model_name": "ButtonStyleModel",
          "state": {
            "_model_module": "@jupyter-widgets/controls",
            "_model_module_version": "1.5.0",
            "_model_name": "ButtonStyleModel",
            "_view_count": null,
            "_view_module": "@jupyter-widgets/base",
            "_view_module_version": "1.2.0",
            "_view_name": "StyleView",
            "button_color": null,
            "font_weight": ""
          }
        },
        "200b5fada23d45ff947953003d052605": {
          "model_module": "@jupyter-widgets/controls",
          "model_module_version": "1.5.0",
          "model_name": "ProgressStyleModel",
          "state": {
            "_model_module": "@jupyter-widgets/controls",
            "_model_module_version": "1.5.0",
            "_model_name": "ProgressStyleModel",
            "_view_count": null,
            "_view_module": "@jupyter-widgets/base",
            "_view_module_version": "1.2.0",
            "_view_name": "StyleView",
            "bar_color": null,
            "description_width": ""
          }
        },
        "21ceaf0f53d444c396801784d3f1db45": {
          "model_module": "@jupyter-widgets/controls",
          "model_module_version": "1.5.0",
          "model_name": "HTMLModel",
          "state": {
            "_dom_classes": [],
            "_model_module": "@jupyter-widgets/controls",
            "_model_module_version": "1.5.0",
            "_model_name": "HTMLModel",
            "_view_count": null,
            "_view_module": "@jupyter-widgets/controls",
            "_view_module_version": "1.5.0",
            "_view_name": "HTMLView",
            "description": "",
            "description_tooltip": null,
            "layout": "IPY_MODEL_7802f2a76e6b4435b4c9c8bb1d40e28e",
            "placeholder": "​",
            "style": "IPY_MODEL_6013756a6b204b368184e09e40a4567c",
            "value": " 1/1 [00:00&lt;00:00, 14.90ba/s]"
          }
        },
        "255c276a050446ed9df81f8eeb7c1178": {
          "model_module": "@jupyter-widgets/controls",
          "model_module_version": "1.5.0",
          "model_name": "DescriptionStyleModel",
          "state": {
            "_model_module": "@jupyter-widgets/controls",
            "_model_module_version": "1.5.0",
            "_model_name": "DescriptionStyleModel",
            "_view_count": null,
            "_view_module": "@jupyter-widgets/base",
            "_view_module_version": "1.2.0",
            "_view_name": "StyleView",
            "description_width": ""
          }
        },
        "26f6574d99724fb29159071dda6039b5": {
          "model_module": "@jupyter-widgets/controls",
          "model_module_version": "1.5.0",
          "model_name": "FloatProgressModel",
          "state": {
            "_dom_classes": [],
            "_model_module": "@jupyter-widgets/controls",
            "_model_module_version": "1.5.0",
            "_model_name": "FloatProgressModel",
            "_view_count": null,
            "_view_module": "@jupyter-widgets/controls",
            "_view_module_version": "1.5.0",
            "_view_name": "ProgressView",
            "bar_style": "success",
            "description": "",
            "description_tooltip": null,
            "layout": "IPY_MODEL_7b0c8bc5bb66433384aeb47bf99001ae",
            "max": 217,
            "min": 0,
            "orientation": "horizontal",
            "style": "IPY_MODEL_6b03d462bd0f4fbeab0df76bbb881621",
            "value": 217
          }
        },
        "285447fa0e1e4ae8b5346477ad397ceb": {
          "model_module": "@jupyter-widgets/base",
          "model_module_version": "1.2.0",
          "model_name": "LayoutModel",
          "state": {
            "_model_module": "@jupyter-widgets/base",
            "_model_module_version": "1.2.0",
            "_model_name": "LayoutModel",
            "_view_count": null,
            "_view_module": "@jupyter-widgets/base",
            "_view_module_version": "1.2.0",
            "_view_name": "LayoutView",
            "align_content": null,
            "align_items": null,
            "align_self": null,
            "border": null,
            "bottom": null,
            "display": null,
            "flex": null,
            "flex_flow": null,
            "grid_area": null,
            "grid_auto_columns": null,
            "grid_auto_flow": null,
            "grid_auto_rows": null,
            "grid_column": null,
            "grid_gap": null,
            "grid_row": null,
            "grid_template_areas": null,
            "grid_template_columns": null,
            "grid_template_rows": null,
            "height": null,
            "justify_content": null,
            "justify_items": null,
            "left": null,
            "margin": null,
            "max_height": null,
            "max_width": null,
            "min_height": null,
            "min_width": null,
            "object_fit": null,
            "object_position": null,
            "order": null,
            "overflow": null,
            "overflow_x": null,
            "overflow_y": null,
            "padding": null,
            "right": null,
            "top": null,
            "visibility": null,
            "width": null
          }
        },
        "28b1ff0d507e40fb84e4083537207de4": {
          "model_module": "@jupyter-widgets/base",
          "model_module_version": "1.2.0",
          "model_name": "LayoutModel",
          "state": {
            "_model_module": "@jupyter-widgets/base",
            "_model_module_version": "1.2.0",
            "_model_name": "LayoutModel",
            "_view_count": null,
            "_view_module": "@jupyter-widgets/base",
            "_view_module_version": "1.2.0",
            "_view_name": "LayoutView",
            "align_content": null,
            "align_items": null,
            "align_self": null,
            "border": null,
            "bottom": null,
            "display": null,
            "flex": null,
            "flex_flow": null,
            "grid_area": null,
            "grid_auto_columns": null,
            "grid_auto_flow": null,
            "grid_auto_rows": null,
            "grid_column": null,
            "grid_gap": null,
            "grid_row": null,
            "grid_template_areas": null,
            "grid_template_columns": null,
            "grid_template_rows": null,
            "height": null,
            "justify_content": null,
            "justify_items": null,
            "left": null,
            "margin": null,
            "max_height": null,
            "max_width": null,
            "min_height": null,
            "min_width": null,
            "object_fit": null,
            "object_position": null,
            "order": null,
            "overflow": null,
            "overflow_x": null,
            "overflow_y": null,
            "padding": null,
            "right": null,
            "top": null,
            "visibility": null,
            "width": null
          }
        },
        "28e9858f73c3469aaf7e94c819bc5304": {
          "model_module": "@jupyter-widgets/base",
          "model_module_version": "1.2.0",
          "model_name": "LayoutModel",
          "state": {
            "_model_module": "@jupyter-widgets/base",
            "_model_module_version": "1.2.0",
            "_model_name": "LayoutModel",
            "_view_count": null,
            "_view_module": "@jupyter-widgets/base",
            "_view_module_version": "1.2.0",
            "_view_name": "LayoutView",
            "align_content": null,
            "align_items": null,
            "align_self": null,
            "border": null,
            "bottom": null,
            "display": null,
            "flex": null,
            "flex_flow": null,
            "grid_area": null,
            "grid_auto_columns": null,
            "grid_auto_flow": null,
            "grid_auto_rows": null,
            "grid_column": null,
            "grid_gap": null,
            "grid_row": null,
            "grid_template_areas": null,
            "grid_template_columns": null,
            "grid_template_rows": null,
            "height": null,
            "justify_content": null,
            "justify_items": null,
            "left": null,
            "margin": null,
            "max_height": null,
            "max_width": null,
            "min_height": null,
            "min_width": null,
            "object_fit": null,
            "object_position": null,
            "order": null,
            "overflow": null,
            "overflow_x": null,
            "overflow_y": null,
            "padding": null,
            "right": null,
            "top": null,
            "visibility": null,
            "width": null
          }
        },
        "29bc21f75fe84b62861e859304a70a4c": {
          "model_module": "@jupyter-widgets/base",
          "model_module_version": "1.2.0",
          "model_name": "LayoutModel",
          "state": {
            "_model_module": "@jupyter-widgets/base",
            "_model_module_version": "1.2.0",
            "_model_name": "LayoutModel",
            "_view_count": null,
            "_view_module": "@jupyter-widgets/base",
            "_view_module_version": "1.2.0",
            "_view_name": "LayoutView",
            "align_content": null,
            "align_items": null,
            "align_self": null,
            "border": null,
            "bottom": null,
            "display": null,
            "flex": null,
            "flex_flow": null,
            "grid_area": null,
            "grid_auto_columns": null,
            "grid_auto_flow": null,
            "grid_auto_rows": null,
            "grid_column": null,
            "grid_gap": null,
            "grid_row": null,
            "grid_template_areas": null,
            "grid_template_columns": null,
            "grid_template_rows": null,
            "height": null,
            "justify_content": null,
            "justify_items": null,
            "left": null,
            "margin": null,
            "max_height": null,
            "max_width": null,
            "min_height": null,
            "min_width": null,
            "object_fit": null,
            "object_position": null,
            "order": null,
            "overflow": null,
            "overflow_x": null,
            "overflow_y": null,
            "padding": null,
            "right": null,
            "top": null,
            "visibility": null,
            "width": null
          }
        },
        "2b48e3c58b284b32ae51a3c3afb13d85": {
          "model_module": "@jupyter-widgets/controls",
          "model_module_version": "1.5.0",
          "model_name": "FloatProgressModel",
          "state": {
            "_dom_classes": [],
            "_model_module": "@jupyter-widgets/controls",
            "_model_module_version": "1.5.0",
            "_model_name": "FloatProgressModel",
            "_view_count": null,
            "_view_module": "@jupyter-widgets/controls",
            "_view_module_version": "1.5.0",
            "_view_name": "ProgressView",
            "bar_style": "success",
            "description": "",
            "description_tooltip": null,
            "layout": "IPY_MODEL_6ba56300bd3240629256a72060f36fde",
            "max": 377671575,
            "min": 0,
            "orientation": "horizontal",
            "style": "IPY_MODEL_d8f4c2ce266a4a9284572af28ad9ad1c",
            "value": 377671575
          }
        },
        "2d8e6e61f14f4cba8bd07e73ca868caf": {
          "model_module": "@jupyter-widgets/controls",
          "model_module_version": "1.5.0",
          "model_name": "FloatProgressModel",
          "state": {
            "_dom_classes": [],
            "_model_module": "@jupyter-widgets/controls",
            "_model_module_version": "1.5.0",
            "_model_name": "FloatProgressModel",
            "_view_count": null,
            "_view_module": "@jupyter-widgets/controls",
            "_view_module_version": "1.5.0",
            "_view_name": "ProgressView",
            "bar_style": "success",
            "description": "",
            "description_tooltip": null,
            "layout": "IPY_MODEL_28e9858f73c3469aaf7e94c819bc5304",
            "max": 1,
            "min": 0,
            "orientation": "horizontal",
            "style": "IPY_MODEL_9ad678ebacc941e78a97b0bd728819eb",
            "value": 1
          }
        },
        "3234edc4a75e4658acd19feef174e88f": {
          "model_module": "@jupyter-widgets/base",
          "model_module_version": "1.2.0",
          "model_name": "LayoutModel",
          "state": {
            "_model_module": "@jupyter-widgets/base",
            "_model_module_version": "1.2.0",
            "_model_name": "LayoutModel",
            "_view_count": null,
            "_view_module": "@jupyter-widgets/base",
            "_view_module_version": "1.2.0",
            "_view_name": "LayoutView",
            "align_content": null,
            "align_items": null,
            "align_self": null,
            "border": null,
            "bottom": null,
            "display": null,
            "flex": null,
            "flex_flow": null,
            "grid_area": null,
            "grid_auto_columns": null,
            "grid_auto_flow": null,
            "grid_auto_rows": null,
            "grid_column": null,
            "grid_gap": null,
            "grid_row": null,
            "grid_template_areas": null,
            "grid_template_columns": null,
            "grid_template_rows": null,
            "height": null,
            "justify_content": null,
            "justify_items": null,
            "left": null,
            "margin": null,
            "max_height": null,
            "max_width": null,
            "min_height": null,
            "min_width": null,
            "object_fit": null,
            "object_position": null,
            "order": null,
            "overflow": null,
            "overflow_x": null,
            "overflow_y": null,
            "padding": null,
            "right": null,
            "top": null,
            "visibility": null,
            "width": null
          }
        },
        "3328f4a664d24ba89dbc892734a3ed58": {
          "model_module": "@jupyter-widgets/base",
          "model_module_version": "1.2.0",
          "model_name": "LayoutModel",
          "state": {
            "_model_module": "@jupyter-widgets/base",
            "_model_module_version": "1.2.0",
            "_model_name": "LayoutModel",
            "_view_count": null,
            "_view_module": "@jupyter-widgets/base",
            "_view_module_version": "1.2.0",
            "_view_name": "LayoutView",
            "align_content": null,
            "align_items": null,
            "align_self": null,
            "border": null,
            "bottom": null,
            "display": null,
            "flex": null,
            "flex_flow": null,
            "grid_area": null,
            "grid_auto_columns": null,
            "grid_auto_flow": null,
            "grid_auto_rows": null,
            "grid_column": null,
            "grid_gap": null,
            "grid_row": null,
            "grid_template_areas": null,
            "grid_template_columns": null,
            "grid_template_rows": null,
            "height": null,
            "justify_content": null,
            "justify_items": null,
            "left": null,
            "margin": null,
            "max_height": null,
            "max_width": null,
            "min_height": null,
            "min_width": null,
            "object_fit": null,
            "object_position": null,
            "order": null,
            "overflow": null,
            "overflow_x": null,
            "overflow_y": null,
            "padding": null,
            "right": null,
            "top": null,
            "visibility": null,
            "width": null
          }
        },
        "3378d5d15d0f4c45a286842339425003": {
          "model_module": "@jupyter-widgets/controls",
          "model_module_version": "1.5.0",
          "model_name": "ButtonStyleModel",
          "state": {
            "_model_module": "@jupyter-widgets/controls",
            "_model_module_version": "1.5.0",
            "_model_name": "ButtonStyleModel",
            "_view_count": null,
            "_view_module": "@jupyter-widgets/base",
            "_view_module_version": "1.2.0",
            "_view_name": "StyleView",
            "button_color": null,
            "font_weight": ""
          }
        },
        "35a9027e670146f3a25db0d06035fd1b": {
          "model_module": "@jupyter-widgets/base",
          "model_module_version": "1.2.0",
          "model_name": "LayoutModel",
          "state": {
            "_model_module": "@jupyter-widgets/base",
            "_model_module_version": "1.2.0",
            "_model_name": "LayoutModel",
            "_view_count": null,
            "_view_module": "@jupyter-widgets/base",
            "_view_module_version": "1.2.0",
            "_view_name": "LayoutView",
            "align_content": null,
            "align_items": null,
            "align_self": null,
            "border": null,
            "bottom": null,
            "display": null,
            "flex": null,
            "flex_flow": null,
            "grid_area": null,
            "grid_auto_columns": null,
            "grid_auto_flow": null,
            "grid_auto_rows": null,
            "grid_column": null,
            "grid_gap": null,
            "grid_row": null,
            "grid_template_areas": null,
            "grid_template_columns": null,
            "grid_template_rows": null,
            "height": null,
            "justify_content": null,
            "justify_items": null,
            "left": null,
            "margin": null,
            "max_height": null,
            "max_width": null,
            "min_height": null,
            "min_width": null,
            "object_fit": null,
            "object_position": null,
            "order": null,
            "overflow": null,
            "overflow_x": null,
            "overflow_y": null,
            "padding": null,
            "right": null,
            "top": null,
            "visibility": null,
            "width": null
          }
        },
        "381bc655291b4effaa6460f7476b0e9b": {
          "model_module": "@jupyter-widgets/controls",
          "model_module_version": "1.5.0",
          "model_name": "DescriptionStyleModel",
          "state": {
            "_model_module": "@jupyter-widgets/controls",
            "_model_module_version": "1.5.0",
            "_model_name": "DescriptionStyleModel",
            "_view_count": null,
            "_view_module": "@jupyter-widgets/base",
            "_view_module_version": "1.2.0",
            "_view_name": "StyleView",
            "description_width": ""
          }
        },
        "3a1fb95b6101460fa5925cab3ba86cf6": {
          "model_module": "@jupyter-widgets/controls",
          "model_module_version": "1.5.0",
          "model_name": "DescriptionStyleModel",
          "state": {
            "_model_module": "@jupyter-widgets/controls",
            "_model_module_version": "1.5.0",
            "_model_name": "DescriptionStyleModel",
            "_view_count": null,
            "_view_module": "@jupyter-widgets/base",
            "_view_module_version": "1.2.0",
            "_view_name": "StyleView",
            "description_width": ""
          }
        },
        "425c9b6bd9f74bfbbc1d72ffdceec0d0": {
          "model_module": "@jupyter-widgets/controls",
          "model_module_version": "1.5.0",
          "model_name": "ProgressStyleModel",
          "state": {
            "_model_module": "@jupyter-widgets/controls",
            "_model_module_version": "1.5.0",
            "_model_name": "ProgressStyleModel",
            "_view_count": null,
            "_view_module": "@jupyter-widgets/base",
            "_view_module_version": "1.2.0",
            "_view_name": "StyleView",
            "bar_color": null,
            "description_width": ""
          }
        },
        "427b99cf8b964a59bbbf0b4d04504906": {
          "model_module": "@jupyter-widgets/base",
          "model_module_version": "1.2.0",
          "model_name": "LayoutModel",
          "state": {
            "_model_module": "@jupyter-widgets/base",
            "_model_module_version": "1.2.0",
            "_model_name": "LayoutModel",
            "_view_count": null,
            "_view_module": "@jupyter-widgets/base",
            "_view_module_version": "1.2.0",
            "_view_name": "LayoutView",
            "align_content": null,
            "align_items": null,
            "align_self": null,
            "border": null,
            "bottom": null,
            "display": null,
            "flex": null,
            "flex_flow": null,
            "grid_area": null,
            "grid_auto_columns": null,
            "grid_auto_flow": null,
            "grid_auto_rows": null,
            "grid_column": null,
            "grid_gap": null,
            "grid_row": null,
            "grid_template_areas": null,
            "grid_template_columns": null,
            "grid_template_rows": null,
            "height": null,
            "justify_content": null,
            "justify_items": null,
            "left": null,
            "margin": null,
            "max_height": null,
            "max_width": null,
            "min_height": null,
            "min_width": null,
            "object_fit": null,
            "object_position": null,
            "order": null,
            "overflow": null,
            "overflow_x": null,
            "overflow_y": null,
            "padding": null,
            "right": null,
            "top": null,
            "visibility": null,
            "width": null
          }
        },
        "4847949da7b64782895b4fca8b432ec8": {
          "model_module": "@jupyter-widgets/controls",
          "model_module_version": "1.5.0",
          "model_name": "HTMLModel",
          "state": {
            "_dom_classes": [],
            "_model_module": "@jupyter-widgets/controls",
            "_model_module_version": "1.5.0",
            "_model_name": "HTMLModel",
            "_view_count": null,
            "_view_module": "@jupyter-widgets/controls",
            "_view_module_version": "1.5.0",
            "_view_name": "HTMLView",
            "description": "",
            "description_tooltip": null,
            "layout": "IPY_MODEL_90dbfe5bab604315b329a6a8fcf131b1",
            "placeholder": "​",
            "style": "IPY_MODEL_b1a51bfb07774b7bac783d1c4d5a680c",
            "value": " 268/268 [00:00&lt;00:00, 11.2kB/s]"
          }
        },
        "4a03fb6d945f4102bc4f7192195d810d": {
          "model_module": "@jupyter-widgets/base",
          "model_module_version": "1.2.0",
          "model_name": "LayoutModel",
          "state": {
            "_model_module": "@jupyter-widgets/base",
            "_model_module_version": "1.2.0",
            "_model_name": "LayoutModel",
            "_view_count": null,
            "_view_module": "@jupyter-widgets/base",
            "_view_module_version": "1.2.0",
            "_view_name": "LayoutView",
            "align_content": null,
            "align_items": null,
            "align_self": null,
            "border": null,
            "bottom": null,
            "display": null,
            "flex": null,
            "flex_flow": null,
            "grid_area": null,
            "grid_auto_columns": null,
            "grid_auto_flow": null,
            "grid_auto_rows": null,
            "grid_column": null,
            "grid_gap": null,
            "grid_row": null,
            "grid_template_areas": null,
            "grid_template_columns": null,
            "grid_template_rows": null,
            "height": null,
            "justify_content": null,
            "justify_items": null,
            "left": null,
            "margin": null,
            "max_height": null,
            "max_width": null,
            "min_height": null,
            "min_width": null,
            "object_fit": null,
            "object_position": null,
            "order": null,
            "overflow": null,
            "overflow_x": null,
            "overflow_y": null,
            "padding": null,
            "right": null,
            "top": null,
            "visibility": null,
            "width": "20px"
          }
        },
        "4b4bd3b71ffc46deaeaed4d7ad7a768e": {
          "model_module": "@jupyter-widgets/controls",
          "model_module_version": "1.5.0",
          "model_name": "HTMLModel",
          "state": {
            "_dom_classes": [],
            "_model_module": "@jupyter-widgets/controls",
            "_model_module_version": "1.5.0",
            "_model_name": "HTMLModel",
            "_view_count": null,
            "_view_module": "@jupyter-widgets/controls",
            "_view_module_version": "1.5.0",
            "_view_name": "HTMLView",
            "description": "",
            "description_tooltip": null,
            "layout": "IPY_MODEL_a579ecba69ff45c096f3e1dabb535209",
            "placeholder": "​",
            "style": "IPY_MODEL_1e596bd81f984654b5e965a9e8159caf",
            "value": "100%"
          }
        },
        "4c2a4d2dadf5422aba969cd5ab6eb762": {
          "model_module": "@jupyter-widgets/base",
          "model_module_version": "1.2.0",
          "model_name": "LayoutModel",
          "state": {
            "_model_module": "@jupyter-widgets/base",
            "_model_module_version": "1.2.0",
            "_model_name": "LayoutModel",
            "_view_count": null,
            "_view_module": "@jupyter-widgets/base",
            "_view_module_version": "1.2.0",
            "_view_name": "LayoutView",
            "align_content": null,
            "align_items": null,
            "align_self": null,
            "border": null,
            "bottom": null,
            "display": null,
            "flex": null,
            "flex_flow": null,
            "grid_area": null,
            "grid_auto_columns": null,
            "grid_auto_flow": null,
            "grid_auto_rows": null,
            "grid_column": null,
            "grid_gap": null,
            "grid_row": null,
            "grid_template_areas": null,
            "grid_template_columns": null,
            "grid_template_rows": null,
            "height": null,
            "justify_content": null,
            "justify_items": null,
            "left": null,
            "margin": null,
            "max_height": null,
            "max_width": null,
            "min_height": null,
            "min_width": null,
            "object_fit": null,
            "object_position": null,
            "order": null,
            "overflow": null,
            "overflow_x": null,
            "overflow_y": null,
            "padding": null,
            "right": null,
            "top": null,
            "visibility": null,
            "width": null
          }
        },
        "4cc884973b734098a135619736b5f599": {
          "model_module": "@jupyter-widgets/base",
          "model_module_version": "1.2.0",
          "model_name": "LayoutModel",
          "state": {
            "_model_module": "@jupyter-widgets/base",
            "_model_module_version": "1.2.0",
            "_model_name": "LayoutModel",
            "_view_count": null,
            "_view_module": "@jupyter-widgets/base",
            "_view_module_version": "1.2.0",
            "_view_name": "LayoutView",
            "align_content": null,
            "align_items": null,
            "align_self": null,
            "border": null,
            "bottom": null,
            "display": null,
            "flex": null,
            "flex_flow": null,
            "grid_area": null,
            "grid_auto_columns": null,
            "grid_auto_flow": null,
            "grid_auto_rows": null,
            "grid_column": null,
            "grid_gap": null,
            "grid_row": null,
            "grid_template_areas": null,
            "grid_template_columns": null,
            "grid_template_rows": null,
            "height": null,
            "justify_content": null,
            "justify_items": null,
            "left": null,
            "margin": null,
            "max_height": null,
            "max_width": null,
            "min_height": null,
            "min_width": null,
            "object_fit": null,
            "object_position": null,
            "order": null,
            "overflow": null,
            "overflow_x": null,
            "overflow_y": null,
            "padding": null,
            "right": null,
            "top": null,
            "visibility": null,
            "width": null
          }
        },
        "4cdbe067372b4c32bc782f966aea7f42": {
          "model_module": "@jupyter-widgets/base",
          "model_module_version": "1.2.0",
          "model_name": "LayoutModel",
          "state": {
            "_model_module": "@jupyter-widgets/base",
            "_model_module_version": "1.2.0",
            "_model_name": "LayoutModel",
            "_view_count": null,
            "_view_module": "@jupyter-widgets/base",
            "_view_module_version": "1.2.0",
            "_view_name": "LayoutView",
            "align_content": null,
            "align_items": null,
            "align_self": null,
            "border": null,
            "bottom": null,
            "display": null,
            "flex": null,
            "flex_flow": null,
            "grid_area": null,
            "grid_auto_columns": null,
            "grid_auto_flow": null,
            "grid_auto_rows": null,
            "grid_column": null,
            "grid_gap": null,
            "grid_row": null,
            "grid_template_areas": null,
            "grid_template_columns": null,
            "grid_template_rows": null,
            "height": null,
            "justify_content": null,
            "justify_items": null,
            "left": null,
            "margin": null,
            "max_height": null,
            "max_width": null,
            "min_height": null,
            "min_width": null,
            "object_fit": null,
            "object_position": null,
            "order": null,
            "overflow": null,
            "overflow_x": null,
            "overflow_y": null,
            "padding": null,
            "right": null,
            "top": null,
            "visibility": null,
            "width": null
          }
        },
        "4f70c2c356074adf9aa7c1fb6b20f8e3": {
          "model_module": "@jupyter-widgets/controls",
          "model_module_version": "1.5.0",
          "model_name": "DescriptionStyleModel",
          "state": {
            "_model_module": "@jupyter-widgets/controls",
            "_model_module_version": "1.5.0",
            "_model_name": "DescriptionStyleModel",
            "_view_count": null,
            "_view_module": "@jupyter-widgets/base",
            "_view_module_version": "1.2.0",
            "_view_name": "StyleView",
            "description_width": ""
          }
        },
        "4fae0d04a34b4fbcbbac419ef522389d": {
          "model_module": "@jupyter-widgets/controls",
          "model_module_version": "1.5.0",
          "model_name": "VBoxModel",
          "state": {
            "_dom_classes": [],
            "_model_module": "@jupyter-widgets/controls",
            "_model_module_version": "1.5.0",
            "_model_name": "VBoxModel",
            "_view_count": null,
            "_view_module": "@jupyter-widgets/controls",
            "_view_module_version": "1.5.0",
            "_view_name": "VBoxView",
            "box_style": "",
            "children": [
              "IPY_MODEL_04889e8a534846219c60b6c637ff9703",
              "IPY_MODEL_dd0d9ccef1b34806a8989f882caca422",
              "IPY_MODEL_cfcf385787a94992ac39070cad8fcada",
              "IPY_MODEL_6d2c83e9574c4b0796e73ccc5ba2632e",
              "IPY_MODEL_8f15f29ae18640d3ba9215ca91e764b7"
            ],
            "layout": "IPY_MODEL_b58bd0d46cbc4d7ab932940941d2ad36"
          }
        },
        "524b5795780746f5966c06b878cc0fbc": {
          "model_module": "@jupyter-widgets/controls",
          "model_module_version": "1.5.0",
          "model_name": "HBoxModel",
          "state": {
            "_dom_classes": [],
            "_model_module": "@jupyter-widgets/controls",
            "_model_module_version": "1.5.0",
            "_model_name": "HBoxModel",
            "_view_count": null,
            "_view_module": "@jupyter-widgets/controls",
            "_view_module_version": "1.5.0",
            "_view_name": "HBoxView",
            "box_style": "",
            "children": [
              "IPY_MODEL_8eb41fee8e1c452a9d69a07a266d871a",
              "IPY_MODEL_f22febfc3bbe48058be84b2a20e906f5",
              "IPY_MODEL_ab51fefefa1b464a9a780b80c6f0c020"
            ],
            "layout": "IPY_MODEL_88fd1cb973f8485b97caa19b7801c3d3"
          }
        },
        "527bf8b3612b4da89479424c5b66681e": {
          "model_module": "@jupyter-widgets/controls",
          "model_module_version": "1.5.0",
          "model_name": "DescriptionStyleModel",
          "state": {
            "_model_module": "@jupyter-widgets/controls",
            "_model_module_version": "1.5.0",
            "_model_name": "DescriptionStyleModel",
            "_view_count": null,
            "_view_module": "@jupyter-widgets/base",
            "_view_module_version": "1.2.0",
            "_view_name": "StyleView",
            "description_width": ""
          }
        },
        "55d0bfd5c746402f89e6b86a7ca37b3a": {
          "model_module": "@jupyter-widgets/controls",
          "model_module_version": "1.5.0",
          "model_name": "HTMLModel",
          "state": {
            "_dom_classes": [],
            "_model_module": "@jupyter-widgets/controls",
            "_model_module_version": "1.5.0",
            "_model_name": "HTMLModel",
            "_view_count": null,
            "_view_module": "@jupyter-widgets/controls",
            "_view_module_version": "1.5.0",
            "_view_name": "HTMLView",
            "description": "",
            "description_tooltip": null,
            "layout": "IPY_MODEL_be78bdab8638431e80c087a0fe9a7a8f",
            "placeholder": "​",
            "style": "IPY_MODEL_d44a1f0b3216469fb1ac597951f9471a",
            "value": " 217/217 [00:00&lt;00:00, 8.74kB/s]"
          }
        },
        "5874591082f944ff9b32202a1edbfd60": {
          "model_module": "@jupyter-widgets/base",
          "model_module_version": "1.2.0",
          "model_name": "LayoutModel",
          "state": {
            "_model_module": "@jupyter-widgets/base",
            "_model_module_version": "1.2.0",
            "_model_name": "LayoutModel",
            "_view_count": null,
            "_view_module": "@jupyter-widgets/base",
            "_view_module_version": "1.2.0",
            "_view_name": "LayoutView",
            "align_content": null,
            "align_items": null,
            "align_self": null,
            "border": null,
            "bottom": null,
            "display": null,
            "flex": null,
            "flex_flow": null,
            "grid_area": null,
            "grid_auto_columns": null,
            "grid_auto_flow": null,
            "grid_auto_rows": null,
            "grid_column": null,
            "grid_gap": null,
            "grid_row": null,
            "grid_template_areas": null,
            "grid_template_columns": null,
            "grid_template_rows": null,
            "height": null,
            "justify_content": null,
            "justify_items": null,
            "left": null,
            "margin": null,
            "max_height": null,
            "max_width": null,
            "min_height": null,
            "min_width": null,
            "object_fit": null,
            "object_position": null,
            "order": null,
            "overflow": null,
            "overflow_x": null,
            "overflow_y": null,
            "padding": null,
            "right": null,
            "top": null,
            "visibility": null,
            "width": null
          }
        },
        "5929b873c33d4c559b36935102f33e78": {
          "model_module": "@jupyter-widgets/controls",
          "model_module_version": "1.5.0",
          "model_name": "FloatProgressModel",
          "state": {
            "_dom_classes": [],
            "_model_module": "@jupyter-widgets/controls",
            "_model_module_version": "1.5.0",
            "_model_name": "FloatProgressModel",
            "_view_count": null,
            "_view_module": "@jupyter-widgets/controls",
            "_view_module_version": "1.5.0",
            "_view_name": "ProgressView",
            "bar_style": "success",
            "description": "",
            "description_tooltip": null,
            "layout": "IPY_MODEL_8f88e6872d3d45fca03ed5b89d67e6ab",
            "max": 1,
            "min": 0,
            "orientation": "horizontal",
            "style": "IPY_MODEL_68b713049fff4a10a14344a5ec358d5c",
            "value": 1
          }
        },
        "5c49d625a7f742f1a64820bc6f749f3a": {
          "model_module": "@jupyter-widgets/controls",
          "model_module_version": "1.5.0",
          "model_name": "HTMLModel",
          "state": {
            "_dom_classes": [],
            "_model_module": "@jupyter-widgets/controls",
            "_model_module_version": "1.5.0",
            "_model_name": "HTMLModel",
            "_view_count": null,
            "_view_module": "@jupyter-widgets/controls",
            "_view_module_version": "1.5.0",
            "_view_name": "HTMLView",
            "description": "",
            "description_tooltip": null,
            "layout": "IPY_MODEL_17e3d063396848548af91c55c8f8e282",
            "placeholder": "​",
            "style": "IPY_MODEL_a3b48bc669674ff2a0bcce75a50e81eb",
            "value": " 85.0/85.0 [00:00&lt;00:00, 3.59kB/s]"
          }
        },
        "5ca38ad0652b4d27ba646d6b55298498": {
          "model_module": "@jupyter-widgets/controls",
          "model_module_version": "1.5.0",
          "model_name": "DescriptionStyleModel",
          "state": {
            "_model_module": "@jupyter-widgets/controls",
            "_model_module_version": "1.5.0",
            "_model_name": "DescriptionStyleModel",
            "_view_count": null,
            "_view_module": "@jupyter-widgets/base",
            "_view_module_version": "1.2.0",
            "_view_name": "StyleView",
            "description_width": ""
          }
        },
        "5cb2c62e3d6f426f8c17eec2fe6e23ae": {
          "model_module": "@jupyter-widgets/base",
          "model_module_version": "1.2.0",
          "model_name": "LayoutModel",
          "state": {
            "_model_module": "@jupyter-widgets/base",
            "_model_module_version": "1.2.0",
            "_model_name": "LayoutModel",
            "_view_count": null,
            "_view_module": "@jupyter-widgets/base",
            "_view_module_version": "1.2.0",
            "_view_name": "LayoutView",
            "align_content": null,
            "align_items": null,
            "align_self": null,
            "border": null,
            "bottom": null,
            "display": null,
            "flex": null,
            "flex_flow": null,
            "grid_area": null,
            "grid_auto_columns": null,
            "grid_auto_flow": null,
            "grid_auto_rows": null,
            "grid_column": null,
            "grid_gap": null,
            "grid_row": null,
            "grid_template_areas": null,
            "grid_template_columns": null,
            "grid_template_rows": null,
            "height": null,
            "justify_content": null,
            "justify_items": null,
            "left": null,
            "margin": null,
            "max_height": null,
            "max_width": null,
            "min_height": null,
            "min_width": null,
            "object_fit": null,
            "object_position": null,
            "order": null,
            "overflow": null,
            "overflow_x": null,
            "overflow_y": null,
            "padding": null,
            "right": null,
            "top": null,
            "visibility": null,
            "width": null
          }
        },
        "6013756a6b204b368184e09e40a4567c": {
          "model_module": "@jupyter-widgets/controls",
          "model_module_version": "1.5.0",
          "model_name": "DescriptionStyleModel",
          "state": {
            "_model_module": "@jupyter-widgets/controls",
            "_model_module_version": "1.5.0",
            "_model_name": "DescriptionStyleModel",
            "_view_count": null,
            "_view_module": "@jupyter-widgets/base",
            "_view_module_version": "1.2.0",
            "_view_name": "StyleView",
            "description_width": ""
          }
        },
        "63e9fc689ea54fbfa7226cc9918977cb": {
          "model_module": "@jupyter-widgets/base",
          "model_module_version": "1.2.0",
          "model_name": "LayoutModel",
          "state": {
            "_model_module": "@jupyter-widgets/base",
            "_model_module_version": "1.2.0",
            "_model_name": "LayoutModel",
            "_view_count": null,
            "_view_module": "@jupyter-widgets/base",
            "_view_module_version": "1.2.0",
            "_view_name": "LayoutView",
            "align_content": null,
            "align_items": null,
            "align_self": null,
            "border": null,
            "bottom": null,
            "display": null,
            "flex": null,
            "flex_flow": null,
            "grid_area": null,
            "grid_auto_columns": null,
            "grid_auto_flow": null,
            "grid_auto_rows": null,
            "grid_column": null,
            "grid_gap": null,
            "grid_row": null,
            "grid_template_areas": null,
            "grid_template_columns": null,
            "grid_template_rows": null,
            "height": null,
            "justify_content": null,
            "justify_items": null,
            "left": null,
            "margin": null,
            "max_height": null,
            "max_width": null,
            "min_height": null,
            "min_width": null,
            "object_fit": null,
            "object_position": null,
            "order": null,
            "overflow": null,
            "overflow_x": null,
            "overflow_y": null,
            "padding": null,
            "right": null,
            "top": null,
            "visibility": null,
            "width": null
          }
        },
        "63ee5e2413434249bd47a8d662ec0da6": {
          "model_module": "@jupyter-widgets/controls",
          "model_module_version": "1.5.0",
          "model_name": "HBoxModel",
          "state": {
            "_dom_classes": [],
            "_model_module": "@jupyter-widgets/controls",
            "_model_module_version": "1.5.0",
            "_model_name": "HBoxModel",
            "_view_count": null,
            "_view_module": "@jupyter-widgets/controls",
            "_view_module_version": "1.5.0",
            "_view_name": "HBoxView",
            "box_style": "",
            "children": [
              "IPY_MODEL_d10215d60b9f471ab681a948ad143159",
              "IPY_MODEL_bcb33e49c5ab412eb5b8cd823cf06706",
              "IPY_MODEL_f23b78d30ff040f481b5584a83083b39"
            ],
            "layout": "IPY_MODEL_fe39df4b5e9d41f6a0233bafb4522dd4"
          }
        },
        "6412d390b2ce416fae910d689c3f6e70": {
          "model_module": "@jupyter-widgets/base",
          "model_module_version": "1.2.0",
          "model_name": "LayoutModel",
          "state": {
            "_model_module": "@jupyter-widgets/base",
            "_model_module_version": "1.2.0",
            "_model_name": "LayoutModel",
            "_view_count": null,
            "_view_module": "@jupyter-widgets/base",
            "_view_module_version": "1.2.0",
            "_view_name": "LayoutView",
            "align_content": null,
            "align_items": null,
            "align_self": null,
            "border": null,
            "bottom": null,
            "display": null,
            "flex": null,
            "flex_flow": null,
            "grid_area": null,
            "grid_auto_columns": null,
            "grid_auto_flow": null,
            "grid_auto_rows": null,
            "grid_column": null,
            "grid_gap": null,
            "grid_row": null,
            "grid_template_areas": null,
            "grid_template_columns": null,
            "grid_template_rows": null,
            "height": null,
            "justify_content": null,
            "justify_items": null,
            "left": null,
            "margin": null,
            "max_height": null,
            "max_width": null,
            "min_height": null,
            "min_width": null,
            "object_fit": null,
            "object_position": null,
            "order": null,
            "overflow": null,
            "overflow_x": null,
            "overflow_y": null,
            "padding": null,
            "right": null,
            "top": null,
            "visibility": null,
            "width": null
          }
        },
        "66d5a397b26e4d66a97bc3b3159e96bd": {
          "model_module": "@jupyter-widgets/controls",
          "model_module_version": "1.5.0",
          "model_name": "HBoxModel",
          "state": {
            "_dom_classes": [],
            "_model_module": "@jupyter-widgets/controls",
            "_model_module_version": "1.5.0",
            "_model_name": "HBoxModel",
            "_view_count": null,
            "_view_module": "@jupyter-widgets/controls",
            "_view_module_version": "1.5.0",
            "_view_name": "HBoxView",
            "box_style": "",
            "children": [
              "IPY_MODEL_041870fd5bac43b394956252364a16c4",
              "IPY_MODEL_26f6574d99724fb29159071dda6039b5",
              "IPY_MODEL_55d0bfd5c746402f89e6b86a7ca37b3a"
            ],
            "layout": "IPY_MODEL_b69bad861f014c20b4cb470c73b1fe37"
          }
        },
        "68b713049fff4a10a14344a5ec358d5c": {
          "model_module": "@jupyter-widgets/controls",
          "model_module_version": "1.5.0",
          "model_name": "ProgressStyleModel",
          "state": {
            "_model_module": "@jupyter-widgets/controls",
            "_model_module_version": "1.5.0",
            "_model_name": "ProgressStyleModel",
            "_view_count": null,
            "_view_module": "@jupyter-widgets/base",
            "_view_module_version": "1.2.0",
            "_view_name": "StyleView",
            "bar_color": null,
            "description_width": ""
          }
        },
        "6a8694b9181f4828ba3ef4ff828fd1c3": {
          "model_module": "@jupyter-widgets/controls",
          "model_module_version": "1.5.0",
          "model_name": "ProgressStyleModel",
          "state": {
            "_model_module": "@jupyter-widgets/controls",
            "_model_module_version": "1.5.0",
            "_model_name": "ProgressStyleModel",
            "_view_count": null,
            "_view_module": "@jupyter-widgets/base",
            "_view_module_version": "1.2.0",
            "_view_name": "StyleView",
            "bar_color": null,
            "description_width": ""
          }
        },
        "6b03d462bd0f4fbeab0df76bbb881621": {
          "model_module": "@jupyter-widgets/controls",
          "model_module_version": "1.5.0",
          "model_name": "ProgressStyleModel",
          "state": {
            "_model_module": "@jupyter-widgets/controls",
            "_model_module_version": "1.5.0",
            "_model_name": "ProgressStyleModel",
            "_view_count": null,
            "_view_module": "@jupyter-widgets/base",
            "_view_module_version": "1.2.0",
            "_view_name": "StyleView",
            "bar_color": null,
            "description_width": ""
          }
        },
        "6b3288ffeef34c2a925d2554c7c4f521": {
          "model_module": "@jupyter-widgets/base",
          "model_module_version": "1.2.0",
          "model_name": "LayoutModel",
          "state": {
            "_model_module": "@jupyter-widgets/base",
            "_model_module_version": "1.2.0",
            "_model_name": "LayoutModel",
            "_view_count": null,
            "_view_module": "@jupyter-widgets/base",
            "_view_module_version": "1.2.0",
            "_view_name": "LayoutView",
            "align_content": null,
            "align_items": null,
            "align_self": null,
            "border": null,
            "bottom": null,
            "display": null,
            "flex": null,
            "flex_flow": null,
            "grid_area": null,
            "grid_auto_columns": null,
            "grid_auto_flow": null,
            "grid_auto_rows": null,
            "grid_column": null,
            "grid_gap": null,
            "grid_row": null,
            "grid_template_areas": null,
            "grid_template_columns": null,
            "grid_template_rows": null,
            "height": null,
            "justify_content": null,
            "justify_items": null,
            "left": null,
            "margin": null,
            "max_height": null,
            "max_width": null,
            "min_height": null,
            "min_width": null,
            "object_fit": null,
            "object_position": null,
            "order": null,
            "overflow": null,
            "overflow_x": null,
            "overflow_y": null,
            "padding": null,
            "right": null,
            "top": null,
            "visibility": null,
            "width": null
          }
        },
        "6ba56300bd3240629256a72060f36fde": {
          "model_module": "@jupyter-widgets/base",
          "model_module_version": "1.2.0",
          "model_name": "LayoutModel",
          "state": {
            "_model_module": "@jupyter-widgets/base",
            "_model_module_version": "1.2.0",
            "_model_name": "LayoutModel",
            "_view_count": null,
            "_view_module": "@jupyter-widgets/base",
            "_view_module_version": "1.2.0",
            "_view_name": "LayoutView",
            "align_content": null,
            "align_items": null,
            "align_self": null,
            "border": null,
            "bottom": null,
            "display": null,
            "flex": null,
            "flex_flow": null,
            "grid_area": null,
            "grid_auto_columns": null,
            "grid_auto_flow": null,
            "grid_auto_rows": null,
            "grid_column": null,
            "grid_gap": null,
            "grid_row": null,
            "grid_template_areas": null,
            "grid_template_columns": null,
            "grid_template_rows": null,
            "height": null,
            "justify_content": null,
            "justify_items": null,
            "left": null,
            "margin": null,
            "max_height": null,
            "max_width": null,
            "min_height": null,
            "min_width": null,
            "object_fit": null,
            "object_position": null,
            "order": null,
            "overflow": null,
            "overflow_x": null,
            "overflow_y": null,
            "padding": null,
            "right": null,
            "top": null,
            "visibility": null,
            "width": null
          }
        },
        "6ba8f8fde3fc4050a304df11cc1d2c7c": {
          "model_module": "@jupyter-widgets/controls",
          "model_module_version": "1.5.0",
          "model_name": "FloatProgressModel",
          "state": {
            "_dom_classes": [],
            "_model_module": "@jupyter-widgets/controls",
            "_model_module_version": "1.5.0",
            "_model_name": "FloatProgressModel",
            "_view_count": null,
            "_view_module": "@jupyter-widgets/controls",
            "_view_module_version": "1.5.0",
            "_view_name": "ProgressView",
            "bar_style": "success",
            "description": "",
            "description_tooltip": null,
            "layout": "IPY_MODEL_35a9027e670146f3a25db0d06035fd1b",
            "max": 4825,
            "min": 0,
            "orientation": "horizontal",
            "style": "IPY_MODEL_0cd65792216b4decaf24961bb33802d0",
            "value": 4825
          }
        },
        "6bfe6219ad934146a4d680e38ed19879": {
          "model_module": "@jupyter-widgets/controls",
          "model_module_version": "1.5.0",
          "model_name": "DescriptionStyleModel",
          "state": {
            "_model_module": "@jupyter-widgets/controls",
            "_model_module_version": "1.5.0",
            "_model_name": "DescriptionStyleModel",
            "_view_count": null,
            "_view_module": "@jupyter-widgets/base",
            "_view_module_version": "1.2.0",
            "_view_name": "StyleView",
            "description_width": ""
          }
        },
        "6ca0c9b3d250425b9597de9baa6bd77b": {
          "model_module": "@jupyter-widgets/controls",
          "model_module_version": "1.5.0",
          "model_name": "HBoxModel",
          "state": {
            "_dom_classes": [],
            "_model_module": "@jupyter-widgets/controls",
            "_model_module_version": "1.5.0",
            "_model_name": "HBoxModel",
            "_view_count": null,
            "_view_module": "@jupyter-widgets/controls",
            "_view_module_version": "1.5.0",
            "_view_name": "HBoxView",
            "box_style": "",
            "children": [
              "IPY_MODEL_b7d46c7f5da646eba0ed9e38fed6b4ee",
              "IPY_MODEL_7291673613bb43848bec1abee7447078",
              "IPY_MODEL_5c49d625a7f742f1a64820bc6f749f3a"
            ],
            "layout": "IPY_MODEL_a6a5bcb980df41d1b3e7b581701eae16"
          }
        },
        "6cac8e9fcefd4353a76244f89ff459e1": {
          "model_module": "@jupyter-widgets/base",
          "model_module_version": "1.2.0",
          "model_name": "LayoutModel",
          "state": {
            "_model_module": "@jupyter-widgets/base",
            "_model_module_version": "1.2.0",
            "_model_name": "LayoutModel",
            "_view_count": null,
            "_view_module": "@jupyter-widgets/base",
            "_view_module_version": "1.2.0",
            "_view_name": "LayoutView",
            "align_content": null,
            "align_items": null,
            "align_self": null,
            "border": null,
            "bottom": null,
            "display": null,
            "flex": null,
            "flex_flow": null,
            "grid_area": null,
            "grid_auto_columns": null,
            "grid_auto_flow": null,
            "grid_auto_rows": null,
            "grid_column": null,
            "grid_gap": null,
            "grid_row": null,
            "grid_template_areas": null,
            "grid_template_columns": null,
            "grid_template_rows": null,
            "height": null,
            "justify_content": null,
            "justify_items": null,
            "left": null,
            "margin": null,
            "max_height": null,
            "max_width": null,
            "min_height": null,
            "min_width": null,
            "object_fit": null,
            "object_position": null,
            "order": null,
            "overflow": null,
            "overflow_x": null,
            "overflow_y": null,
            "padding": null,
            "right": null,
            "top": null,
            "visibility": null,
            "width": null
          }
        },
        "6d2c83e9574c4b0796e73ccc5ba2632e": {
          "model_module": "@jupyter-widgets/controls",
          "model_module_version": "1.5.0",
          "model_name": "HTMLModel",
          "state": {
            "_dom_classes": [],
            "_model_module": "@jupyter-widgets/controls",
            "_model_module_version": "1.5.0",
            "_model_name": "HTMLModel",
            "_view_count": null,
            "_view_module": "@jupyter-widgets/controls",
            "_view_module_version": "1.5.0",
            "_view_name": "HTMLView",
            "description": "",
            "description_tooltip": null,
            "layout": "IPY_MODEL_70914255a10141ef8882c4e69a4f4057",
            "placeholder": "​",
            "style": "IPY_MODEL_5ca38ad0652b4d27ba646d6b55298498",
            "value": "\n<b>Pro Tip:</b> If you don't already have one, you can create a dedicated\n'notebooks' token with 'write' access, that you can then easily reuse for all\nnotebooks. <br> <i>Logging in with your username and password is deprecated and\nwon't be possible anymore in the near future. You can still use them for now by\nclicking below.</i> </center>"
          }
        },
        "708ff309676040119bccd6f21d1684f6": {
          "model_module": "@jupyter-widgets/base",
          "model_module_version": "1.2.0",
          "model_name": "LayoutModel",
          "state": {
            "_model_module": "@jupyter-widgets/base",
            "_model_module_version": "1.2.0",
            "_model_name": "LayoutModel",
            "_view_count": null,
            "_view_module": "@jupyter-widgets/base",
            "_view_module_version": "1.2.0",
            "_view_name": "LayoutView",
            "align_content": null,
            "align_items": null,
            "align_self": null,
            "border": null,
            "bottom": null,
            "display": null,
            "flex": null,
            "flex_flow": null,
            "grid_area": null,
            "grid_auto_columns": null,
            "grid_auto_flow": null,
            "grid_auto_rows": null,
            "grid_column": null,
            "grid_gap": null,
            "grid_row": null,
            "grid_template_areas": null,
            "grid_template_columns": null,
            "grid_template_rows": null,
            "height": null,
            "justify_content": null,
            "justify_items": null,
            "left": null,
            "margin": null,
            "max_height": null,
            "max_width": null,
            "min_height": null,
            "min_width": null,
            "object_fit": null,
            "object_position": null,
            "order": null,
            "overflow": null,
            "overflow_x": null,
            "overflow_y": null,
            "padding": null,
            "right": null,
            "top": null,
            "visibility": null,
            "width": null
          }
        },
        "70914255a10141ef8882c4e69a4f4057": {
          "model_module": "@jupyter-widgets/base",
          "model_module_version": "1.2.0",
          "model_name": "LayoutModel",
          "state": {
            "_model_module": "@jupyter-widgets/base",
            "_model_module_version": "1.2.0",
            "_model_name": "LayoutModel",
            "_view_count": null,
            "_view_module": "@jupyter-widgets/base",
            "_view_module_version": "1.2.0",
            "_view_name": "LayoutView",
            "align_content": null,
            "align_items": null,
            "align_self": null,
            "border": null,
            "bottom": null,
            "display": null,
            "flex": null,
            "flex_flow": null,
            "grid_area": null,
            "grid_auto_columns": null,
            "grid_auto_flow": null,
            "grid_auto_rows": null,
            "grid_column": null,
            "grid_gap": null,
            "grid_row": null,
            "grid_template_areas": null,
            "grid_template_columns": null,
            "grid_template_rows": null,
            "height": null,
            "justify_content": null,
            "justify_items": null,
            "left": null,
            "margin": null,
            "max_height": null,
            "max_width": null,
            "min_height": null,
            "min_width": null,
            "object_fit": null,
            "object_position": null,
            "order": null,
            "overflow": null,
            "overflow_x": null,
            "overflow_y": null,
            "padding": null,
            "right": null,
            "top": null,
            "visibility": null,
            "width": null
          }
        },
        "7291673613bb43848bec1abee7447078": {
          "model_module": "@jupyter-widgets/controls",
          "model_module_version": "1.5.0",
          "model_name": "FloatProgressModel",
          "state": {
            "_dom_classes": [],
            "_model_module": "@jupyter-widgets/controls",
            "_model_module_version": "1.5.0",
            "_model_name": "FloatProgressModel",
            "_view_count": null,
            "_view_module": "@jupyter-widgets/controls",
            "_view_module_version": "1.5.0",
            "_view_name": "ProgressView",
            "bar_style": "success",
            "description": "",
            "description_tooltip": null,
            "layout": "IPY_MODEL_ddd975596c234b0eacc40ef18ef40778",
            "max": 85,
            "min": 0,
            "orientation": "horizontal",
            "style": "IPY_MODEL_a5fd824b8eb64bb7b8d83354961927e6",
            "value": 85
          }
        },
        "73b586087e9447e688c97318bf6eba11": {
          "model_module": "@jupyter-widgets/controls",
          "model_module_version": "1.5.0",
          "model_name": "HTMLModel",
          "state": {
            "_dom_classes": [],
            "_model_module": "@jupyter-widgets/controls",
            "_model_module_version": "1.5.0",
            "_model_name": "HTMLModel",
            "_view_count": null,
            "_view_module": "@jupyter-widgets/controls",
            "_view_module_version": "1.5.0",
            "_view_name": "HTMLView",
            "description": "",
            "description_tooltip": null,
            "layout": "IPY_MODEL_e53ec4e8ee3d44bb8b3bdcf323335c8a",
            "placeholder": "​",
            "style": "IPY_MODEL_ceef78fab0024c578976ad6c589c0d7f",
            "value": "Upload file runs/May10_11-02-51_d58de38fbf77/1652180636.6085317/events.out.tfevents.1652180636.d58de38fbf77.96.3: 100%"
          }
        },
        "7748d6bd4e224b3f836a06b321e72de0": {
          "model_module": "@jupyter-widgets/controls",
          "model_module_version": "1.5.0",
          "model_name": "HTMLModel",
          "state": {
            "_dom_classes": [],
            "_model_module": "@jupyter-widgets/controls",
            "_model_module_version": "1.5.0",
            "_model_name": "HTMLModel",
            "_view_count": null,
            "_view_module": "@jupyter-widgets/controls",
            "_view_module_version": "1.5.0",
            "_view_name": "HTMLView",
            "description": "",
            "description_tooltip": null,
            "layout": "IPY_MODEL_4cdbe067372b4c32bc782f966aea7f42",
            "placeholder": "​",
            "style": "IPY_MODEL_afe17562ac7948edab0233eb3804d9cb",
            "value": " 360M/360M [05:26&lt;00:00, 735kB/s]"
          }
        },
        "7802f2a76e6b4435b4c9c8bb1d40e28e": {
          "model_module": "@jupyter-widgets/base",
          "model_module_version": "1.2.0",
          "model_name": "LayoutModel",
          "state": {
            "_model_module": "@jupyter-widgets/base",
            "_model_module_version": "1.2.0",
            "_model_name": "LayoutModel",
            "_view_count": null,
            "_view_module": "@jupyter-widgets/base",
            "_view_module_version": "1.2.0",
            "_view_name": "LayoutView",
            "align_content": null,
            "align_items": null,
            "align_self": null,
            "border": null,
            "bottom": null,
            "display": null,
            "flex": null,
            "flex_flow": null,
            "grid_area": null,
            "grid_auto_columns": null,
            "grid_auto_flow": null,
            "grid_auto_rows": null,
            "grid_column": null,
            "grid_gap": null,
            "grid_row": null,
            "grid_template_areas": null,
            "grid_template_columns": null,
            "grid_template_rows": null,
            "height": null,
            "justify_content": null,
            "justify_items": null,
            "left": null,
            "margin": null,
            "max_height": null,
            "max_width": null,
            "min_height": null,
            "min_width": null,
            "object_fit": null,
            "object_position": null,
            "order": null,
            "overflow": null,
            "overflow_x": null,
            "overflow_y": null,
            "padding": null,
            "right": null,
            "top": null,
            "visibility": null,
            "width": null
          }
        },
        "7b0c8bc5bb66433384aeb47bf99001ae": {
          "model_module": "@jupyter-widgets/base",
          "model_module_version": "1.2.0",
          "model_name": "LayoutModel",
          "state": {
            "_model_module": "@jupyter-widgets/base",
            "_model_module_version": "1.2.0",
            "_model_name": "LayoutModel",
            "_view_count": null,
            "_view_module": "@jupyter-widgets/base",
            "_view_module_version": "1.2.0",
            "_view_name": "LayoutView",
            "align_content": null,
            "align_items": null,
            "align_self": null,
            "border": null,
            "bottom": null,
            "display": null,
            "flex": null,
            "flex_flow": null,
            "grid_area": null,
            "grid_auto_columns": null,
            "grid_auto_flow": null,
            "grid_auto_rows": null,
            "grid_column": null,
            "grid_gap": null,
            "grid_row": null,
            "grid_template_areas": null,
            "grid_template_columns": null,
            "grid_template_rows": null,
            "height": null,
            "justify_content": null,
            "justify_items": null,
            "left": null,
            "margin": null,
            "max_height": null,
            "max_width": null,
            "min_height": null,
            "min_width": null,
            "object_fit": null,
            "object_position": null,
            "order": null,
            "overflow": null,
            "overflow_x": null,
            "overflow_y": null,
            "padding": null,
            "right": null,
            "top": null,
            "visibility": null,
            "width": null
          }
        },
        "820ac3ce474346728b80a609d47848ee": {
          "model_module": "@jupyter-widgets/controls",
          "model_module_version": "1.5.0",
          "model_name": "HTMLModel",
          "state": {
            "_dom_classes": [],
            "_model_module": "@jupyter-widgets/controls",
            "_model_module_version": "1.5.0",
            "_model_name": "HTMLModel",
            "_view_count": null,
            "_view_module": "@jupyter-widgets/controls",
            "_view_module_version": "1.5.0",
            "_view_name": "HTMLView",
            "description": "",
            "description_tooltip": null,
            "layout": "IPY_MODEL_f652ea3e007c42669e445a7247bb0430",
            "placeholder": "​",
            "style": "IPY_MODEL_527bf8b3612b4da89479424c5b66681e",
            "value": "Downloading: 100%"
          }
        },
        "821399caca9242eca44d7232edafe213": {
          "model_module": "@jupyter-widgets/base",
          "model_module_version": "1.2.0",
          "model_name": "LayoutModel",
          "state": {
            "_model_module": "@jupyter-widgets/base",
            "_model_module_version": "1.2.0",
            "_model_name": "LayoutModel",
            "_view_count": null,
            "_view_module": "@jupyter-widgets/base",
            "_view_module_version": "1.2.0",
            "_view_name": "LayoutView",
            "align_content": null,
            "align_items": null,
            "align_self": null,
            "border": null,
            "bottom": null,
            "display": null,
            "flex": null,
            "flex_flow": null,
            "grid_area": null,
            "grid_auto_columns": null,
            "grid_auto_flow": null,
            "grid_auto_rows": null,
            "grid_column": null,
            "grid_gap": null,
            "grid_row": null,
            "grid_template_areas": null,
            "grid_template_columns": null,
            "grid_template_rows": null,
            "height": null,
            "justify_content": null,
            "justify_items": null,
            "left": null,
            "margin": null,
            "max_height": null,
            "max_width": null,
            "min_height": null,
            "min_width": null,
            "object_fit": null,
            "object_position": null,
            "order": null,
            "overflow": null,
            "overflow_x": null,
            "overflow_y": null,
            "padding": null,
            "right": null,
            "top": null,
            "visibility": null,
            "width": null
          }
        },
        "84c3f51a7956477eaa1c9ecdeba5c00a": {
          "model_module": "@jupyter-widgets/base",
          "model_module_version": "1.2.0",
          "model_name": "LayoutModel",
          "state": {
            "_model_module": "@jupyter-widgets/base",
            "_model_module_version": "1.2.0",
            "_model_name": "LayoutModel",
            "_view_count": null,
            "_view_module": "@jupyter-widgets/base",
            "_view_module_version": "1.2.0",
            "_view_name": "LayoutView",
            "align_content": null,
            "align_items": null,
            "align_self": null,
            "border": null,
            "bottom": null,
            "display": null,
            "flex": null,
            "flex_flow": null,
            "grid_area": null,
            "grid_auto_columns": null,
            "grid_auto_flow": null,
            "grid_auto_rows": null,
            "grid_column": null,
            "grid_gap": null,
            "grid_row": null,
            "grid_template_areas": null,
            "grid_template_columns": null,
            "grid_template_rows": null,
            "height": null,
            "justify_content": null,
            "justify_items": null,
            "left": null,
            "margin": null,
            "max_height": null,
            "max_width": null,
            "min_height": null,
            "min_width": null,
            "object_fit": null,
            "object_position": null,
            "order": null,
            "overflow": null,
            "overflow_x": null,
            "overflow_y": null,
            "padding": null,
            "right": null,
            "top": null,
            "visibility": null,
            "width": null
          }
        },
        "857f0c099d8549e98991a93c791db4c1": {
          "model_module": "@jupyter-widgets/controls",
          "model_module_version": "1.5.0",
          "model_name": "HTMLModel",
          "state": {
            "_dom_classes": [],
            "_model_module": "@jupyter-widgets/controls",
            "_model_module_version": "1.5.0",
            "_model_name": "HTMLModel",
            "_view_count": null,
            "_view_module": "@jupyter-widgets/controls",
            "_view_module_version": "1.5.0",
            "_view_name": "HTMLView",
            "description": "",
            "description_tooltip": null,
            "layout": "IPY_MODEL_8c968b160d3d4fbb998840734f9f07e4",
            "placeholder": "​",
            "style": "IPY_MODEL_d2fd7c9e56b1419f9d23a10c260a7c7d",
            "value": ""
          }
        },
        "88fd1cb973f8485b97caa19b7801c3d3": {
          "model_module": "@jupyter-widgets/base",
          "model_module_version": "1.2.0",
          "model_name": "LayoutModel",
          "state": {
            "_model_module": "@jupyter-widgets/base",
            "_model_module_version": "1.2.0",
            "_model_name": "LayoutModel",
            "_view_count": null,
            "_view_module": "@jupyter-widgets/base",
            "_view_module_version": "1.2.0",
            "_view_name": "LayoutView",
            "align_content": null,
            "align_items": null,
            "align_self": null,
            "border": null,
            "bottom": null,
            "display": null,
            "flex": null,
            "flex_flow": null,
            "grid_area": null,
            "grid_auto_columns": null,
            "grid_auto_flow": null,
            "grid_auto_rows": null,
            "grid_column": null,
            "grid_gap": null,
            "grid_row": null,
            "grid_template_areas": null,
            "grid_template_columns": null,
            "grid_template_rows": null,
            "height": null,
            "justify_content": null,
            "justify_items": null,
            "left": null,
            "margin": null,
            "max_height": null,
            "max_width": null,
            "min_height": null,
            "min_width": null,
            "object_fit": null,
            "object_position": null,
            "order": null,
            "overflow": null,
            "overflow_x": null,
            "overflow_y": null,
            "padding": null,
            "right": null,
            "top": null,
            "visibility": null,
            "width": null
          }
        },
        "89472d79793e4db9afa6845fb016c8ad": {
          "model_module": "@jupyter-widgets/base",
          "model_module_version": "1.2.0",
          "model_name": "LayoutModel",
          "state": {
            "_model_module": "@jupyter-widgets/base",
            "_model_module_version": "1.2.0",
            "_model_name": "LayoutModel",
            "_view_count": null,
            "_view_module": "@jupyter-widgets/base",
            "_view_module_version": "1.2.0",
            "_view_name": "LayoutView",
            "align_content": null,
            "align_items": null,
            "align_self": null,
            "border": null,
            "bottom": null,
            "display": null,
            "flex": null,
            "flex_flow": null,
            "grid_area": null,
            "grid_auto_columns": null,
            "grid_auto_flow": null,
            "grid_auto_rows": null,
            "grid_column": null,
            "grid_gap": null,
            "grid_row": null,
            "grid_template_areas": null,
            "grid_template_columns": null,
            "grid_template_rows": null,
            "height": null,
            "justify_content": null,
            "justify_items": null,
            "left": null,
            "margin": null,
            "max_height": null,
            "max_width": null,
            "min_height": null,
            "min_width": null,
            "object_fit": null,
            "object_position": null,
            "order": null,
            "overflow": null,
            "overflow_x": null,
            "overflow_y": null,
            "padding": null,
            "right": null,
            "top": null,
            "visibility": null,
            "width": null
          }
        },
        "8ab2466b187047fbbe4d8b72455b1108": {
          "model_module": "@jupyter-widgets/controls",
          "model_module_version": "1.5.0",
          "model_name": "ProgressStyleModel",
          "state": {
            "_model_module": "@jupyter-widgets/controls",
            "_model_module_version": "1.5.0",
            "_model_name": "ProgressStyleModel",
            "_view_count": null,
            "_view_module": "@jupyter-widgets/base",
            "_view_module_version": "1.2.0",
            "_view_name": "StyleView",
            "bar_color": null,
            "description_width": ""
          }
        },
        "8ba58dd1b97644869a58a1b5a390e96d": {
          "model_module": "@jupyter-widgets/controls",
          "model_module_version": "1.5.0",
          "model_name": "HTMLModel",
          "state": {
            "_dom_classes": [],
            "_model_module": "@jupyter-widgets/controls",
            "_model_module_version": "1.5.0",
            "_model_name": "HTMLModel",
            "_view_count": null,
            "_view_module": "@jupyter-widgets/controls",
            "_view_module_version": "1.5.0",
            "_view_name": "HTMLView",
            "description": "",
            "description_tooltip": null,
            "layout": "IPY_MODEL_4c2a4d2dadf5422aba969cd5ab6eb762",
            "placeholder": "​",
            "style": "IPY_MODEL_3a1fb95b6101460fa5925cab3ba86cf6",
            "value": " 2/2 [00:00&lt;00:00, 61.66it/s]"
          }
        },
        "8c89f99cd7b9408eafbfbf8e0c56d39c": {
          "model_module": "@jupyter-widgets/base",
          "model_module_version": "1.2.0",
          "model_name": "LayoutModel",
          "state": {
            "_model_module": "@jupyter-widgets/base",
            "_model_module_version": "1.2.0",
            "_model_name": "LayoutModel",
            "_view_count": null,
            "_view_module": "@jupyter-widgets/base",
            "_view_module_version": "1.2.0",
            "_view_name": "LayoutView",
            "align_content": null,
            "align_items": null,
            "align_self": null,
            "border": null,
            "bottom": null,
            "display": null,
            "flex": null,
            "flex_flow": null,
            "grid_area": null,
            "grid_auto_columns": null,
            "grid_auto_flow": null,
            "grid_auto_rows": null,
            "grid_column": null,
            "grid_gap": null,
            "grid_row": null,
            "grid_template_areas": null,
            "grid_template_columns": null,
            "grid_template_rows": null,
            "height": null,
            "justify_content": null,
            "justify_items": null,
            "left": null,
            "margin": null,
            "max_height": null,
            "max_width": null,
            "min_height": null,
            "min_width": null,
            "object_fit": null,
            "object_position": null,
            "order": null,
            "overflow": null,
            "overflow_x": null,
            "overflow_y": null,
            "padding": null,
            "right": null,
            "top": null,
            "visibility": null,
            "width": null
          }
        },
        "8c968b160d3d4fbb998840734f9f07e4": {
          "model_module": "@jupyter-widgets/base",
          "model_module_version": "1.2.0",
          "model_name": "LayoutModel",
          "state": {
            "_model_module": "@jupyter-widgets/base",
            "_model_module_version": "1.2.0",
            "_model_name": "LayoutModel",
            "_view_count": null,
            "_view_module": "@jupyter-widgets/base",
            "_view_module_version": "1.2.0",
            "_view_name": "LayoutView",
            "align_content": null,
            "align_items": null,
            "align_self": null,
            "border": null,
            "bottom": null,
            "display": null,
            "flex": null,
            "flex_flow": null,
            "grid_area": null,
            "grid_auto_columns": null,
            "grid_auto_flow": null,
            "grid_auto_rows": null,
            "grid_column": null,
            "grid_gap": null,
            "grid_row": null,
            "grid_template_areas": null,
            "grid_template_columns": null,
            "grid_template_rows": null,
            "height": null,
            "justify_content": null,
            "justify_items": null,
            "left": null,
            "margin": null,
            "max_height": null,
            "max_width": null,
            "min_height": null,
            "min_width": null,
            "object_fit": null,
            "object_position": null,
            "order": null,
            "overflow": null,
            "overflow_x": null,
            "overflow_y": null,
            "padding": null,
            "right": null,
            "top": null,
            "visibility": null,
            "width": null
          }
        },
        "8eb41fee8e1c452a9d69a07a266d871a": {
          "model_module": "@jupyter-widgets/controls",
          "model_module_version": "1.5.0",
          "model_name": "HTMLModel",
          "state": {
            "_dom_classes": [],
            "_model_module": "@jupyter-widgets/controls",
            "_model_module_version": "1.5.0",
            "_model_name": "HTMLModel",
            "_view_count": null,
            "_view_module": "@jupyter-widgets/controls",
            "_view_module_version": "1.5.0",
            "_view_name": "HTMLView",
            "description": "",
            "description_tooltip": null,
            "layout": "IPY_MODEL_3234edc4a75e4658acd19feef174e88f",
            "placeholder": "​",
            "style": "IPY_MODEL_6bfe6219ad934146a4d680e38ed19879",
            "value": "Downloading: 100%"
          }
        },
        "8f15f29ae18640d3ba9215ca91e764b7": {
          "model_module": "@jupyter-widgets/controls",
          "model_module_version": "1.5.0",
          "model_name": "ButtonModel",
          "state": {
            "_dom_classes": [],
            "_model_module": "@jupyter-widgets/controls",
            "_model_module_version": "1.5.0",
            "_model_name": "ButtonModel",
            "_view_count": null,
            "_view_module": "@jupyter-widgets/controls",
            "_view_module_version": "1.5.0",
            "_view_name": "ButtonView",
            "button_style": "",
            "description": "Use password",
            "disabled": false,
            "icon": "",
            "layout": "IPY_MODEL_84c3f51a7956477eaa1c9ecdeba5c00a",
            "style": "IPY_MODEL_1eb4c98ebb084e8898b793265738b7fc",
            "tooltip": ""
          }
        },
        "8f88e6872d3d45fca03ed5b89d67e6ab": {
          "model_module": "@jupyter-widgets/base",
          "model_module_version": "1.2.0",
          "model_name": "LayoutModel",
          "state": {
            "_model_module": "@jupyter-widgets/base",
            "_model_module_version": "1.2.0",
            "_model_name": "LayoutModel",
            "_view_count": null,
            "_view_module": "@jupyter-widgets/base",
            "_view_module_version": "1.2.0",
            "_view_name": "LayoutView",
            "align_content": null,
            "align_items": null,
            "align_self": null,
            "border": null,
            "bottom": null,
            "display": null,
            "flex": null,
            "flex_flow": null,
            "grid_area": null,
            "grid_auto_columns": null,
            "grid_auto_flow": null,
            "grid_auto_rows": null,
            "grid_column": null,
            "grid_gap": null,
            "grid_row": null,
            "grid_template_areas": null,
            "grid_template_columns": null,
            "grid_template_rows": null,
            "height": null,
            "justify_content": null,
            "justify_items": null,
            "left": null,
            "margin": null,
            "max_height": null,
            "max_width": null,
            "min_height": null,
            "min_width": null,
            "object_fit": null,
            "object_position": null,
            "order": null,
            "overflow": null,
            "overflow_x": null,
            "overflow_y": null,
            "padding": null,
            "right": null,
            "top": null,
            "visibility": null,
            "width": null
          }
        },
        "8fbdb230253a4152be95bf6229049f09": {
          "model_module": "@jupyter-widgets/controls",
          "model_module_version": "1.5.0",
          "model_name": "HBoxModel",
          "state": {
            "_dom_classes": [],
            "_model_module": "@jupyter-widgets/controls",
            "_model_module_version": "1.5.0",
            "_model_name": "HBoxModel",
            "_view_count": null,
            "_view_module": "@jupyter-widgets/controls",
            "_view_module_version": "1.5.0",
            "_view_name": "HBoxView",
            "box_style": "",
            "children": [
              "IPY_MODEL_857f0c099d8549e98991a93c791db4c1",
              "IPY_MODEL_16561789e2b9417a80ddcb6ef9d8676a",
              "IPY_MODEL_050c9d6bfd1e4b6ebe67401183a8d397"
            ],
            "layout": "IPY_MODEL_5874591082f944ff9b32202a1edbfd60"
          }
        },
        "90dbfe5bab604315b329a6a8fcf131b1": {
          "model_module": "@jupyter-widgets/base",
          "model_module_version": "1.2.0",
          "model_name": "LayoutModel",
          "state": {
            "_model_module": "@jupyter-widgets/base",
            "_model_module_version": "1.2.0",
            "_model_name": "LayoutModel",
            "_view_count": null,
            "_view_module": "@jupyter-widgets/base",
            "_view_module_version": "1.2.0",
            "_view_name": "LayoutView",
            "align_content": null,
            "align_items": null,
            "align_self": null,
            "border": null,
            "bottom": null,
            "display": null,
            "flex": null,
            "flex_flow": null,
            "grid_area": null,
            "grid_auto_columns": null,
            "grid_auto_flow": null,
            "grid_auto_rows": null,
            "grid_column": null,
            "grid_gap": null,
            "grid_row": null,
            "grid_template_areas": null,
            "grid_template_columns": null,
            "grid_template_rows": null,
            "height": null,
            "justify_content": null,
            "justify_items": null,
            "left": null,
            "margin": null,
            "max_height": null,
            "max_width": null,
            "min_height": null,
            "min_width": null,
            "object_fit": null,
            "object_position": null,
            "order": null,
            "overflow": null,
            "overflow_x": null,
            "overflow_y": null,
            "padding": null,
            "right": null,
            "top": null,
            "visibility": null,
            "width": null
          }
        },
        "91a9bd637428473192d5ec47ba137268": {
          "model_module": "@jupyter-widgets/controls",
          "model_module_version": "1.5.0",
          "model_name": "HTMLModel",
          "state": {
            "_dom_classes": [],
            "_model_module": "@jupyter-widgets/controls",
            "_model_module_version": "1.5.0",
            "_model_name": "HTMLModel",
            "_view_count": null,
            "_view_module": "@jupyter-widgets/controls",
            "_view_module_version": "1.5.0",
            "_view_name": "HTMLView",
            "description": "",
            "description_tooltip": null,
            "layout": "IPY_MODEL_196c66080f944a61a537a0ddd9905248",
            "placeholder": "​",
            "style": "IPY_MODEL_e7d54319900548208c3852623ebc3dcf",
            "value": "Upload file training_args.bin: 100%"
          }
        },
        "92ae2ab85efc40fa89da650ccbe85e21": {
          "model_module": "@jupyter-widgets/controls",
          "model_module_version": "1.5.0",
          "model_name": "DescriptionStyleModel",
          "state": {
            "_model_module": "@jupyter-widgets/controls",
            "_model_module_version": "1.5.0",
            "_model_name": "DescriptionStyleModel",
            "_view_count": null,
            "_view_module": "@jupyter-widgets/base",
            "_view_module_version": "1.2.0",
            "_view_name": "StyleView",
            "description_width": ""
          }
        },
        "92b0669ac4c34f3daa4dac1eb3d12b1d": {
          "model_module": "@jupyter-widgets/controls",
          "model_module_version": "1.5.0",
          "model_name": "HBoxModel",
          "state": {
            "_dom_classes": [],
            "_model_module": "@jupyter-widgets/controls",
            "_model_module_version": "1.5.0",
            "_model_name": "HBoxModel",
            "_view_count": null,
            "_view_module": "@jupyter-widgets/controls",
            "_view_module_version": "1.5.0",
            "_view_name": "HBoxView",
            "box_style": "",
            "children": [
              "IPY_MODEL_cc5ef0d5c963487e9f630101ba0d9572",
              "IPY_MODEL_5929b873c33d4c559b36935102f33e78",
              "IPY_MODEL_21ceaf0f53d444c396801784d3f1db45"
            ],
            "layout": "IPY_MODEL_1decb0d7a7504439825a6e12c21fe8ed"
          }
        },
        "940e030ce7ae40d68136ddf1a1a67736": {
          "model_module": "@jupyter-widgets/base",
          "model_module_version": "1.2.0",
          "model_name": "LayoutModel",
          "state": {
            "_model_module": "@jupyter-widgets/base",
            "_model_module_version": "1.2.0",
            "_model_name": "LayoutModel",
            "_view_count": null,
            "_view_module": "@jupyter-widgets/base",
            "_view_module_version": "1.2.0",
            "_view_name": "LayoutView",
            "align_content": null,
            "align_items": null,
            "align_self": null,
            "border": null,
            "bottom": null,
            "display": null,
            "flex": null,
            "flex_flow": null,
            "grid_area": null,
            "grid_auto_columns": null,
            "grid_auto_flow": null,
            "grid_auto_rows": null,
            "grid_column": null,
            "grid_gap": null,
            "grid_row": null,
            "grid_template_areas": null,
            "grid_template_columns": null,
            "grid_template_rows": null,
            "height": null,
            "justify_content": null,
            "justify_items": null,
            "left": null,
            "margin": null,
            "max_height": null,
            "max_width": null,
            "min_height": null,
            "min_width": null,
            "object_fit": null,
            "object_position": null,
            "order": null,
            "overflow": null,
            "overflow_x": null,
            "overflow_y": null,
            "padding": null,
            "right": null,
            "top": null,
            "visibility": null,
            "width": null
          }
        },
        "968f456d45ab4f25aeaf57b0c0ddc190": {
          "model_module": "@jupyter-widgets/base",
          "model_module_version": "1.2.0",
          "model_name": "LayoutModel",
          "state": {
            "_model_module": "@jupyter-widgets/base",
            "_model_module_version": "1.2.0",
            "_model_name": "LayoutModel",
            "_view_count": null,
            "_view_module": "@jupyter-widgets/base",
            "_view_module_version": "1.2.0",
            "_view_name": "LayoutView",
            "align_content": null,
            "align_items": null,
            "align_self": null,
            "border": null,
            "bottom": null,
            "display": null,
            "flex": null,
            "flex_flow": null,
            "grid_area": null,
            "grid_auto_columns": null,
            "grid_auto_flow": null,
            "grid_auto_rows": null,
            "grid_column": null,
            "grid_gap": null,
            "grid_row": null,
            "grid_template_areas": null,
            "grid_template_columns": null,
            "grid_template_rows": null,
            "height": null,
            "justify_content": null,
            "justify_items": null,
            "left": null,
            "margin": null,
            "max_height": null,
            "max_width": null,
            "min_height": null,
            "min_width": null,
            "object_fit": null,
            "object_position": null,
            "order": null,
            "overflow": null,
            "overflow_x": null,
            "overflow_y": null,
            "padding": null,
            "right": null,
            "top": null,
            "visibility": null,
            "width": null
          }
        },
        "9721f00cdfc942e8ab8a4faf8080ef2d": {
          "model_module": "@jupyter-widgets/base",
          "model_module_version": "1.2.0",
          "model_name": "LayoutModel",
          "state": {
            "_model_module": "@jupyter-widgets/base",
            "_model_module_version": "1.2.0",
            "_model_name": "LayoutModel",
            "_view_count": null,
            "_view_module": "@jupyter-widgets/base",
            "_view_module_version": "1.2.0",
            "_view_name": "LayoutView",
            "align_content": null,
            "align_items": null,
            "align_self": null,
            "border": null,
            "bottom": null,
            "display": null,
            "flex": null,
            "flex_flow": null,
            "grid_area": null,
            "grid_auto_columns": null,
            "grid_auto_flow": null,
            "grid_auto_rows": null,
            "grid_column": null,
            "grid_gap": null,
            "grid_row": null,
            "grid_template_areas": null,
            "grid_template_columns": null,
            "grid_template_rows": null,
            "height": null,
            "justify_content": null,
            "justify_items": null,
            "left": null,
            "margin": null,
            "max_height": null,
            "max_width": null,
            "min_height": null,
            "min_width": null,
            "object_fit": null,
            "object_position": null,
            "order": null,
            "overflow": null,
            "overflow_x": null,
            "overflow_y": null,
            "padding": null,
            "right": null,
            "top": null,
            "visibility": null,
            "width": null
          }
        },
        "9ad678ebacc941e78a97b0bd728819eb": {
          "model_module": "@jupyter-widgets/controls",
          "model_module_version": "1.5.0",
          "model_name": "ProgressStyleModel",
          "state": {
            "_model_module": "@jupyter-widgets/controls",
            "_model_module_version": "1.5.0",
            "_model_name": "ProgressStyleModel",
            "_view_count": null,
            "_view_module": "@jupyter-widgets/base",
            "_view_module_version": "1.2.0",
            "_view_name": "StyleView",
            "bar_color": null,
            "description_width": ""
          }
        },
        "a0e897961bb049438847879cf082adf3": {
          "model_module": "@jupyter-widgets/controls",
          "model_module_version": "1.5.0",
          "model_name": "HBoxModel",
          "state": {
            "_dom_classes": [],
            "_model_module": "@jupyter-widgets/controls",
            "_model_module_version": "1.5.0",
            "_model_name": "HBoxModel",
            "_view_count": null,
            "_view_module": "@jupyter-widgets/controls",
            "_view_module_version": "1.5.0",
            "_view_name": "HBoxView",
            "box_style": "",
            "children": [
              "IPY_MODEL_820ac3ce474346728b80a609d47848ee",
              "IPY_MODEL_045273b88fa04afba97bf7ba6027f164",
              "IPY_MODEL_4847949da7b64782895b4fca8b432ec8"
            ],
            "layout": "IPY_MODEL_427b99cf8b964a59bbbf0b4d04504906"
          }
        },
        "a3b48bc669674ff2a0bcce75a50e81eb": {
          "model_module": "@jupyter-widgets/controls",
          "model_module_version": "1.5.0",
          "model_name": "DescriptionStyleModel",
          "state": {
            "_model_module": "@jupyter-widgets/controls",
            "_model_module_version": "1.5.0",
            "_model_name": "DescriptionStyleModel",
            "_view_count": null,
            "_view_module": "@jupyter-widgets/base",
            "_view_module_version": "1.2.0",
            "_view_name": "StyleView",
            "description_width": ""
          }
        },
        "a40561b6f013481ba77fa137ab43b1c2": {
          "model_module": "@jupyter-widgets/controls",
          "model_module_version": "1.5.0",
          "model_name": "DescriptionStyleModel",
          "state": {
            "_model_module": "@jupyter-widgets/controls",
            "_model_module_version": "1.5.0",
            "_model_name": "DescriptionStyleModel",
            "_view_count": null,
            "_view_module": "@jupyter-widgets/base",
            "_view_module_version": "1.2.0",
            "_view_name": "StyleView",
            "description_width": ""
          }
        },
        "a579ecba69ff45c096f3e1dabb535209": {
          "model_module": "@jupyter-widgets/base",
          "model_module_version": "1.2.0",
          "model_name": "LayoutModel",
          "state": {
            "_model_module": "@jupyter-widgets/base",
            "_model_module_version": "1.2.0",
            "_model_name": "LayoutModel",
            "_view_count": null,
            "_view_module": "@jupyter-widgets/base",
            "_view_module_version": "1.2.0",
            "_view_name": "LayoutView",
            "align_content": null,
            "align_items": null,
            "align_self": null,
            "border": null,
            "bottom": null,
            "display": null,
            "flex": null,
            "flex_flow": null,
            "grid_area": null,
            "grid_auto_columns": null,
            "grid_auto_flow": null,
            "grid_auto_rows": null,
            "grid_column": null,
            "grid_gap": null,
            "grid_row": null,
            "grid_template_areas": null,
            "grid_template_columns": null,
            "grid_template_rows": null,
            "height": null,
            "justify_content": null,
            "justify_items": null,
            "left": null,
            "margin": null,
            "max_height": null,
            "max_width": null,
            "min_height": null,
            "min_width": null,
            "object_fit": null,
            "object_position": null,
            "order": null,
            "overflow": null,
            "overflow_x": null,
            "overflow_y": null,
            "padding": null,
            "right": null,
            "top": null,
            "visibility": null,
            "width": null
          }
        },
        "a5fd824b8eb64bb7b8d83354961927e6": {
          "model_module": "@jupyter-widgets/controls",
          "model_module_version": "1.5.0",
          "model_name": "ProgressStyleModel",
          "state": {
            "_model_module": "@jupyter-widgets/controls",
            "_model_module_version": "1.5.0",
            "_model_name": "ProgressStyleModel",
            "_view_count": null,
            "_view_module": "@jupyter-widgets/base",
            "_view_module_version": "1.2.0",
            "_view_name": "StyleView",
            "bar_color": null,
            "description_width": ""
          }
        },
        "a6a5bcb980df41d1b3e7b581701eae16": {
          "model_module": "@jupyter-widgets/base",
          "model_module_version": "1.2.0",
          "model_name": "LayoutModel",
          "state": {
            "_model_module": "@jupyter-widgets/base",
            "_model_module_version": "1.2.0",
            "_model_name": "LayoutModel",
            "_view_count": null,
            "_view_module": "@jupyter-widgets/base",
            "_view_module_version": "1.2.0",
            "_view_name": "LayoutView",
            "align_content": null,
            "align_items": null,
            "align_self": null,
            "border": null,
            "bottom": null,
            "display": null,
            "flex": null,
            "flex_flow": null,
            "grid_area": null,
            "grid_auto_columns": null,
            "grid_auto_flow": null,
            "grid_auto_rows": null,
            "grid_column": null,
            "grid_gap": null,
            "grid_row": null,
            "grid_template_areas": null,
            "grid_template_columns": null,
            "grid_template_rows": null,
            "height": null,
            "justify_content": null,
            "justify_items": null,
            "left": null,
            "margin": null,
            "max_height": null,
            "max_width": null,
            "min_height": null,
            "min_width": null,
            "object_fit": null,
            "object_position": null,
            "order": null,
            "overflow": null,
            "overflow_x": null,
            "overflow_y": null,
            "padding": null,
            "right": null,
            "top": null,
            "visibility": null,
            "width": null
          }
        },
        "a7725ad7a1774178bba1b39b48bee36b": {
          "model_module": "@jupyter-widgets/controls",
          "model_module_version": "1.5.0",
          "model_name": "HBoxModel",
          "state": {
            "_dom_classes": [],
            "_model_module": "@jupyter-widgets/controls",
            "_model_module_version": "1.5.0",
            "_model_name": "HBoxModel",
            "_view_count": null,
            "_view_module": "@jupyter-widgets/controls",
            "_view_module_version": "1.5.0",
            "_view_name": "HBoxView",
            "box_style": "",
            "children": [
              "IPY_MODEL_acc6c975316f4fc9af3f449ccaf71646",
              "IPY_MODEL_2b48e3c58b284b32ae51a3c3afb13d85",
              "IPY_MODEL_7748d6bd4e224b3f836a06b321e72de0"
            ],
            "layout": "IPY_MODEL_b29aab47d701449181b8d8c715b09657"
          }
        },
        "aadac5aba97941f4922c2cdb74dadc6f": {
          "model_module": "@jupyter-widgets/controls",
          "model_module_version": "1.5.0",
          "model_name": "HBoxModel",
          "state": {
            "_dom_classes": [],
            "_model_module": "@jupyter-widgets/controls",
            "_model_module_version": "1.5.0",
            "_model_name": "HBoxModel",
            "_view_count": null,
            "_view_module": "@jupyter-widgets/controls",
            "_view_module_version": "1.5.0",
            "_view_name": "HBoxView",
            "box_style": "",
            "children": [
              "IPY_MODEL_4b4bd3b71ffc46deaeaed4d7ad7a768e",
              "IPY_MODEL_e225f2981fe7472d899a1fff0eb6bb8a",
              "IPY_MODEL_8ba58dd1b97644869a58a1b5a390e96d"
            ],
            "layout": "IPY_MODEL_dc086ef489044898b7ec0830d8175f56"
          }
        },
        "aaf920d2593846b1bc5824c610167721": {
          "model_module": "@jupyter-widgets/controls",
          "model_module_version": "1.5.0",
          "model_name": "HBoxModel",
          "state": {
            "_dom_classes": [],
            "_model_module": "@jupyter-widgets/controls",
            "_model_module_version": "1.5.0",
            "_model_name": "HBoxModel",
            "_view_count": null,
            "_view_module": "@jupyter-widgets/controls",
            "_view_module_version": "1.5.0",
            "_view_name": "HBoxView",
            "box_style": "",
            "children": [
              "IPY_MODEL_c9126b3964f141a2af5c611c339e8156",
              "IPY_MODEL_2d8e6e61f14f4cba8bd07e73ca868caf",
              "IPY_MODEL_efe617968ca54b26b0048c7d20af1ba8"
            ],
            "layout": "IPY_MODEL_821399caca9242eca44d7232edafe213"
          }
        },
        "ab51fefefa1b464a9a780b80c6f0c020": {
          "model_module": "@jupyter-widgets/controls",
          "model_module_version": "1.5.0",
          "model_name": "HTMLModel",
          "state": {
            "_dom_classes": [],
            "_model_module": "@jupyter-widgets/controls",
            "_model_module_version": "1.5.0",
            "_model_name": "HTMLModel",
            "_view_count": null,
            "_view_module": "@jupyter-widgets/controls",
            "_view_module_version": "1.5.0",
            "_view_name": "HTMLView",
            "description": "",
            "description_tooltip": null,
            "layout": "IPY_MODEL_6b3288ffeef34c2a925d2554c7c4f521",
            "placeholder": "​",
            "style": "IPY_MODEL_116e45bbe2d640d18d6a47309692dc20",
            "value": " 215/215 [00:00&lt;00:00, 8.22kB/s]"
          }
        },
        "acc6c975316f4fc9af3f449ccaf71646": {
          "model_module": "@jupyter-widgets/controls",
          "model_module_version": "1.5.0",
          "model_name": "HTMLModel",
          "state": {
            "_dom_classes": [],
            "_model_module": "@jupyter-widgets/controls",
            "_model_module_version": "1.5.0",
            "_model_name": "HTMLModel",
            "_view_count": null,
            "_view_module": "@jupyter-widgets/controls",
            "_view_module_version": "1.5.0",
            "_view_name": "HTMLView",
            "description": "",
            "description_tooltip": null,
            "layout": "IPY_MODEL_5cb2c62e3d6f426f8c17eec2fe6e23ae",
            "placeholder": "​",
            "style": "IPY_MODEL_f44a8453ba314ddbb153e1278eb59eec",
            "value": "Upload file pytorch_model.bin: 100%"
          }
        },
        "adbd04cd03624b66a8c725f9a89647b6": {
          "model_module": "@jupyter-widgets/base",
          "model_module_version": "1.2.0",
          "model_name": "LayoutModel",
          "state": {
            "_model_module": "@jupyter-widgets/base",
            "_model_module_version": "1.2.0",
            "_model_name": "LayoutModel",
            "_view_count": null,
            "_view_module": "@jupyter-widgets/base",
            "_view_module_version": "1.2.0",
            "_view_name": "LayoutView",
            "align_content": null,
            "align_items": null,
            "align_self": null,
            "border": null,
            "bottom": null,
            "display": null,
            "flex": null,
            "flex_flow": null,
            "grid_area": null,
            "grid_auto_columns": null,
            "grid_auto_flow": null,
            "grid_auto_rows": null,
            "grid_column": null,
            "grid_gap": null,
            "grid_row": null,
            "grid_template_areas": null,
            "grid_template_columns": null,
            "grid_template_rows": null,
            "height": null,
            "justify_content": null,
            "justify_items": null,
            "left": null,
            "margin": null,
            "max_height": null,
            "max_width": null,
            "min_height": null,
            "min_width": null,
            "object_fit": null,
            "object_position": null,
            "order": null,
            "overflow": null,
            "overflow_x": null,
            "overflow_y": null,
            "padding": null,
            "right": null,
            "top": null,
            "visibility": null,
            "width": null
          }
        },
        "afe17562ac7948edab0233eb3804d9cb": {
          "model_module": "@jupyter-widgets/controls",
          "model_module_version": "1.5.0",
          "model_name": "DescriptionStyleModel",
          "state": {
            "_model_module": "@jupyter-widgets/controls",
            "_model_module_version": "1.5.0",
            "_model_name": "DescriptionStyleModel",
            "_view_count": null,
            "_view_module": "@jupyter-widgets/base",
            "_view_module_version": "1.2.0",
            "_view_name": "StyleView",
            "description_width": ""
          }
        },
        "b1a51bfb07774b7bac783d1c4d5a680c": {
          "model_module": "@jupyter-widgets/controls",
          "model_module_version": "1.5.0",
          "model_name": "DescriptionStyleModel",
          "state": {
            "_model_module": "@jupyter-widgets/controls",
            "_model_module_version": "1.5.0",
            "_model_name": "DescriptionStyleModel",
            "_view_count": null,
            "_view_module": "@jupyter-widgets/base",
            "_view_module_version": "1.2.0",
            "_view_name": "StyleView",
            "description_width": ""
          }
        },
        "b29aab47d701449181b8d8c715b09657": {
          "model_module": "@jupyter-widgets/base",
          "model_module_version": "1.2.0",
          "model_name": "LayoutModel",
          "state": {
            "_model_module": "@jupyter-widgets/base",
            "_model_module_version": "1.2.0",
            "_model_name": "LayoutModel",
            "_view_count": null,
            "_view_module": "@jupyter-widgets/base",
            "_view_module_version": "1.2.0",
            "_view_name": "LayoutView",
            "align_content": null,
            "align_items": null,
            "align_self": null,
            "border": null,
            "bottom": null,
            "display": null,
            "flex": null,
            "flex_flow": null,
            "grid_area": null,
            "grid_auto_columns": null,
            "grid_auto_flow": null,
            "grid_auto_rows": null,
            "grid_column": null,
            "grid_gap": null,
            "grid_row": null,
            "grid_template_areas": null,
            "grid_template_columns": null,
            "grid_template_rows": null,
            "height": null,
            "justify_content": null,
            "justify_items": null,
            "left": null,
            "margin": null,
            "max_height": null,
            "max_width": null,
            "min_height": null,
            "min_width": null,
            "object_fit": null,
            "object_position": null,
            "order": null,
            "overflow": null,
            "overflow_x": null,
            "overflow_y": null,
            "padding": null,
            "right": null,
            "top": null,
            "visibility": null,
            "width": null
          }
        },
        "b3a6d272dc4940b4824c86b22068d8f8": {
          "model_module": "@jupyter-widgets/base",
          "model_module_version": "1.2.0",
          "model_name": "LayoutModel",
          "state": {
            "_model_module": "@jupyter-widgets/base",
            "_model_module_version": "1.2.0",
            "_model_name": "LayoutModel",
            "_view_count": null,
            "_view_module": "@jupyter-widgets/base",
            "_view_module_version": "1.2.0",
            "_view_name": "LayoutView",
            "align_content": null,
            "align_items": null,
            "align_self": null,
            "border": null,
            "bottom": null,
            "display": null,
            "flex": null,
            "flex_flow": null,
            "grid_area": null,
            "grid_auto_columns": null,
            "grid_auto_flow": null,
            "grid_auto_rows": null,
            "grid_column": null,
            "grid_gap": null,
            "grid_row": null,
            "grid_template_areas": null,
            "grid_template_columns": null,
            "grid_template_rows": null,
            "height": null,
            "justify_content": null,
            "justify_items": null,
            "left": null,
            "margin": null,
            "max_height": null,
            "max_width": null,
            "min_height": null,
            "min_width": null,
            "object_fit": null,
            "object_position": null,
            "order": null,
            "overflow": null,
            "overflow_x": null,
            "overflow_y": null,
            "padding": null,
            "right": null,
            "top": null,
            "visibility": null,
            "width": null
          }
        },
        "b58bd0d46cbc4d7ab932940941d2ad36": {
          "model_module": "@jupyter-widgets/base",
          "model_module_version": "1.2.0",
          "model_name": "LayoutModel",
          "state": {
            "_model_module": "@jupyter-widgets/base",
            "_model_module_version": "1.2.0",
            "_model_name": "LayoutModel",
            "_view_count": null,
            "_view_module": "@jupyter-widgets/base",
            "_view_module_version": "1.2.0",
            "_view_name": "LayoutView",
            "align_content": null,
            "align_items": "center",
            "align_self": null,
            "border": null,
            "bottom": null,
            "display": "flex",
            "flex": null,
            "flex_flow": "column",
            "grid_area": null,
            "grid_auto_columns": null,
            "grid_auto_flow": null,
            "grid_auto_rows": null,
            "grid_column": null,
            "grid_gap": null,
            "grid_row": null,
            "grid_template_areas": null,
            "grid_template_columns": null,
            "grid_template_rows": null,
            "height": null,
            "justify_content": null,
            "justify_items": null,
            "left": null,
            "margin": null,
            "max_height": null,
            "max_width": null,
            "min_height": null,
            "min_width": null,
            "object_fit": null,
            "object_position": null,
            "order": null,
            "overflow": null,
            "overflow_x": null,
            "overflow_y": null,
            "padding": null,
            "right": null,
            "top": null,
            "visibility": null,
            "width": "50%"
          }
        },
        "b69bad861f014c20b4cb470c73b1fe37": {
          "model_module": "@jupyter-widgets/base",
          "model_module_version": "1.2.0",
          "model_name": "LayoutModel",
          "state": {
            "_model_module": "@jupyter-widgets/base",
            "_model_module_version": "1.2.0",
            "_model_name": "LayoutModel",
            "_view_count": null,
            "_view_module": "@jupyter-widgets/base",
            "_view_module_version": "1.2.0",
            "_view_name": "LayoutView",
            "align_content": null,
            "align_items": null,
            "align_self": null,
            "border": null,
            "bottom": null,
            "display": null,
            "flex": null,
            "flex_flow": null,
            "grid_area": null,
            "grid_auto_columns": null,
            "grid_auto_flow": null,
            "grid_auto_rows": null,
            "grid_column": null,
            "grid_gap": null,
            "grid_row": null,
            "grid_template_areas": null,
            "grid_template_columns": null,
            "grid_template_rows": null,
            "height": null,
            "justify_content": null,
            "justify_items": null,
            "left": null,
            "margin": null,
            "max_height": null,
            "max_width": null,
            "min_height": null,
            "min_width": null,
            "object_fit": null,
            "object_position": null,
            "order": null,
            "overflow": null,
            "overflow_x": null,
            "overflow_y": null,
            "padding": null,
            "right": null,
            "top": null,
            "visibility": null,
            "width": null
          }
        },
        "b7d46c7f5da646eba0ed9e38fed6b4ee": {
          "model_module": "@jupyter-widgets/controls",
          "model_module_version": "1.5.0",
          "model_name": "HTMLModel",
          "state": {
            "_dom_classes": [],
            "_model_module": "@jupyter-widgets/controls",
            "_model_module_version": "1.5.0",
            "_model_name": "HTMLModel",
            "_view_count": null,
            "_view_module": "@jupyter-widgets/controls",
            "_view_module_version": "1.5.0",
            "_view_name": "HTMLView",
            "description": "",
            "description_tooltip": null,
            "layout": "IPY_MODEL_6412d390b2ce416fae910d689c3f6e70",
            "placeholder": "​",
            "style": "IPY_MODEL_255c276a050446ed9df81f8eeb7c1178",
            "value": "Downloading: 100%"
          }
        },
        "b807a57d90ae41c1bfa3a54b121affd1": {
          "model_module": "@jupyter-widgets/base",
          "model_module_version": "1.2.0",
          "model_name": "LayoutModel",
          "state": {
            "_model_module": "@jupyter-widgets/base",
            "_model_module_version": "1.2.0",
            "_model_name": "LayoutModel",
            "_view_count": null,
            "_view_module": "@jupyter-widgets/base",
            "_view_module_version": "1.2.0",
            "_view_name": "LayoutView",
            "align_content": null,
            "align_items": null,
            "align_self": null,
            "border": null,
            "bottom": null,
            "display": null,
            "flex": null,
            "flex_flow": null,
            "grid_area": null,
            "grid_auto_columns": null,
            "grid_auto_flow": null,
            "grid_auto_rows": null,
            "grid_column": null,
            "grid_gap": null,
            "grid_row": null,
            "grid_template_areas": null,
            "grid_template_columns": null,
            "grid_template_rows": null,
            "height": null,
            "justify_content": null,
            "justify_items": null,
            "left": null,
            "margin": null,
            "max_height": null,
            "max_width": null,
            "min_height": null,
            "min_width": null,
            "object_fit": null,
            "object_position": null,
            "order": null,
            "overflow": null,
            "overflow_x": null,
            "overflow_y": null,
            "padding": null,
            "right": null,
            "top": null,
            "visibility": null,
            "width": null
          }
        },
        "bcb33e49c5ab412eb5b8cd823cf06706": {
          "model_module": "@jupyter-widgets/controls",
          "model_module_version": "1.5.0",
          "model_name": "FloatProgressModel",
          "state": {
            "_dom_classes": [],
            "_model_module": "@jupyter-widgets/controls",
            "_model_module_version": "1.5.0",
            "_model_name": "FloatProgressModel",
            "_view_count": null,
            "_view_module": "@jupyter-widgets/controls",
            "_view_module_version": "1.5.0",
            "_view_name": "ProgressView",
            "bar_style": "success",
            "description": "",
            "description_tooltip": null,
            "layout": "IPY_MODEL_4cc884973b734098a135619736b5f599",
            "max": 19164,
            "min": 0,
            "orientation": "horizontal",
            "style": "IPY_MODEL_fd72ea27c82843ceb5fdb74886fc5b44",
            "value": 19164
          }
        },
        "be78bdab8638431e80c087a0fe9a7a8f": {
          "model_module": "@jupyter-widgets/base",
          "model_module_version": "1.2.0",
          "model_name": "LayoutModel",
          "state": {
            "_model_module": "@jupyter-widgets/base",
            "_model_module_version": "1.2.0",
            "_model_name": "LayoutModel",
            "_view_count": null,
            "_view_module": "@jupyter-widgets/base",
            "_view_module_version": "1.2.0",
            "_view_name": "LayoutView",
            "align_content": null,
            "align_items": null,
            "align_self": null,
            "border": null,
            "bottom": null,
            "display": null,
            "flex": null,
            "flex_flow": null,
            "grid_area": null,
            "grid_auto_columns": null,
            "grid_auto_flow": null,
            "grid_auto_rows": null,
            "grid_column": null,
            "grid_gap": null,
            "grid_row": null,
            "grid_template_areas": null,
            "grid_template_columns": null,
            "grid_template_rows": null,
            "height": null,
            "justify_content": null,
            "justify_items": null,
            "left": null,
            "margin": null,
            "max_height": null,
            "max_width": null,
            "min_height": null,
            "min_width": null,
            "object_fit": null,
            "object_position": null,
            "order": null,
            "overflow": null,
            "overflow_x": null,
            "overflow_y": null,
            "padding": null,
            "right": null,
            "top": null,
            "visibility": null,
            "width": null
          }
        },
        "bf2896c4b25147f0a303c748fa2b0cd9": {
          "model_module": "@jupyter-widgets/controls",
          "model_module_version": "1.5.0",
          "model_name": "DescriptionStyleModel",
          "state": {
            "_model_module": "@jupyter-widgets/controls",
            "_model_module_version": "1.5.0",
            "_model_name": "DescriptionStyleModel",
            "_view_count": null,
            "_view_module": "@jupyter-widgets/base",
            "_view_module_version": "1.2.0",
            "_view_name": "StyleView",
            "description_width": ""
          }
        },
        "c80bdd3bae794c08b81c950a33ff9ba0": {
          "model_module": "@jupyter-widgets/controls",
          "model_module_version": "1.5.0",
          "model_name": "DescriptionStyleModel",
          "state": {
            "_model_module": "@jupyter-widgets/controls",
            "_model_module_version": "1.5.0",
            "_model_name": "DescriptionStyleModel",
            "_view_count": null,
            "_view_module": "@jupyter-widgets/base",
            "_view_module_version": "1.2.0",
            "_view_name": "StyleView",
            "description_width": ""
          }
        },
        "c9126b3964f141a2af5c611c339e8156": {
          "model_module": "@jupyter-widgets/controls",
          "model_module_version": "1.5.0",
          "model_name": "HTMLModel",
          "state": {
            "_dom_classes": [],
            "_model_module": "@jupyter-widgets/controls",
            "_model_module_version": "1.5.0",
            "_model_name": "HTMLModel",
            "_view_count": null,
            "_view_module": "@jupyter-widgets/controls",
            "_view_module_version": "1.5.0",
            "_view_name": "HTMLView",
            "description": "",
            "description_tooltip": null,
            "layout": "IPY_MODEL_b3a6d272dc4940b4824c86b22068d8f8",
            "placeholder": "​",
            "style": "IPY_MODEL_0c34c7a51c284cda95a8848bad451603",
            "value": "100%"
          }
        },
        "cc5ef0d5c963487e9f630101ba0d9572": {
          "model_module": "@jupyter-widgets/controls",
          "model_module_version": "1.5.0",
          "model_name": "HTMLModel",
          "state": {
            "_dom_classes": [],
            "_model_module": "@jupyter-widgets/controls",
            "_model_module_version": "1.5.0",
            "_model_name": "HTMLModel",
            "_view_count": null,
            "_view_module": "@jupyter-widgets/controls",
            "_view_module_version": "1.5.0",
            "_view_name": "HTMLView",
            "description": "",
            "description_tooltip": null,
            "layout": "IPY_MODEL_285447fa0e1e4ae8b5346477ad397ceb",
            "placeholder": "​",
            "style": "IPY_MODEL_381bc655291b4effaa6460f7476b0e9b",
            "value": "100%"
          }
        },
        "ceef78fab0024c578976ad6c589c0d7f": {
          "model_module": "@jupyter-widgets/controls",
          "model_module_version": "1.5.0",
          "model_name": "DescriptionStyleModel",
          "state": {
            "_model_module": "@jupyter-widgets/controls",
            "_model_module_version": "1.5.0",
            "_model_name": "DescriptionStyleModel",
            "_view_count": null,
            "_view_module": "@jupyter-widgets/base",
            "_view_module_version": "1.2.0",
            "_view_name": "StyleView",
            "description_width": ""
          }
        },
        "cfcf385787a94992ac39070cad8fcada": {
          "model_module": "@jupyter-widgets/controls",
          "model_module_version": "1.5.0",
          "model_name": "ButtonModel",
          "state": {
            "_dom_classes": [],
            "_model_module": "@jupyter-widgets/controls",
            "_model_module_version": "1.5.0",
            "_model_name": "ButtonModel",
            "_view_count": null,
            "_view_module": "@jupyter-widgets/controls",
            "_view_module_version": "1.5.0",
            "_view_name": "ButtonView",
            "button_style": "",
            "description": "Login",
            "disabled": false,
            "icon": "",
            "layout": "IPY_MODEL_ecc433611c5144d3a909627ffb08eb77",
            "style": "IPY_MODEL_3378d5d15d0f4c45a286842339425003",
            "tooltip": ""
          }
        },
        "d10215d60b9f471ab681a948ad143159": {
          "model_module": "@jupyter-widgets/controls",
          "model_module_version": "1.5.0",
          "model_name": "HTMLModel",
          "state": {
            "_dom_classes": [],
            "_model_module": "@jupyter-widgets/controls",
            "_model_module_version": "1.5.0",
            "_model_name": "HTMLModel",
            "_view_count": null,
            "_view_module": "@jupyter-widgets/controls",
            "_view_module_version": "1.5.0",
            "_view_name": "HTMLView",
            "description": "",
            "description_tooltip": null,
            "layout": "IPY_MODEL_6cac8e9fcefd4353a76244f89ff459e1",
            "placeholder": "​",
            "style": "IPY_MODEL_4f70c2c356074adf9aa7c1fb6b20f8e3",
            "value": "Upload file runs/May10_11-02-51_d58de38fbf77/events.out.tfevents.1652180636.d58de38fbf77.96.2: 100%"
          }
        },
        "d2fd7c9e56b1419f9d23a10c260a7c7d": {
          "model_module": "@jupyter-widgets/controls",
          "model_module_version": "1.5.0",
          "model_name": "DescriptionStyleModel",
          "state": {
            "_model_module": "@jupyter-widgets/controls",
            "_model_module_version": "1.5.0",
            "_model_name": "DescriptionStyleModel",
            "_view_count": null,
            "_view_module": "@jupyter-widgets/base",
            "_view_module_version": "1.2.0",
            "_view_name": "StyleView",
            "description_width": ""
          }
        },
        "d44a1f0b3216469fb1ac597951f9471a": {
          "model_module": "@jupyter-widgets/controls",
          "model_module_version": "1.5.0",
          "model_name": "DescriptionStyleModel",
          "state": {
            "_model_module": "@jupyter-widgets/controls",
            "_model_module_version": "1.5.0",
            "_model_name": "DescriptionStyleModel",
            "_view_count": null,
            "_view_module": "@jupyter-widgets/base",
            "_view_module_version": "1.2.0",
            "_view_name": "StyleView",
            "description_width": ""
          }
        },
        "d8f4c2ce266a4a9284572af28ad9ad1c": {
          "model_module": "@jupyter-widgets/controls",
          "model_module_version": "1.5.0",
          "model_name": "ProgressStyleModel",
          "state": {
            "_model_module": "@jupyter-widgets/controls",
            "_model_module_version": "1.5.0",
            "_model_name": "ProgressStyleModel",
            "_view_count": null,
            "_view_module": "@jupyter-widgets/base",
            "_view_module_version": "1.2.0",
            "_view_name": "StyleView",
            "bar_color": null,
            "description_width": ""
          }
        },
        "dc034b4bf9e34963ab79f391c55d44ac": {
          "model_module": "@jupyter-widgets/controls",
          "model_module_version": "1.5.0",
          "model_name": "ProgressStyleModel",
          "state": {
            "_model_module": "@jupyter-widgets/controls",
            "_model_module_version": "1.5.0",
            "_model_name": "ProgressStyleModel",
            "_view_count": null,
            "_view_module": "@jupyter-widgets/base",
            "_view_module_version": "1.2.0",
            "_view_name": "StyleView",
            "bar_color": null,
            "description_width": ""
          }
        },
        "dc086ef489044898b7ec0830d8175f56": {
          "model_module": "@jupyter-widgets/base",
          "model_module_version": "1.2.0",
          "model_name": "LayoutModel",
          "state": {
            "_model_module": "@jupyter-widgets/base",
            "_model_module_version": "1.2.0",
            "_model_name": "LayoutModel",
            "_view_count": null,
            "_view_module": "@jupyter-widgets/base",
            "_view_module_version": "1.2.0",
            "_view_name": "LayoutView",
            "align_content": null,
            "align_items": null,
            "align_self": null,
            "border": null,
            "bottom": null,
            "display": null,
            "flex": null,
            "flex_flow": null,
            "grid_area": null,
            "grid_auto_columns": null,
            "grid_auto_flow": null,
            "grid_auto_rows": null,
            "grid_column": null,
            "grid_gap": null,
            "grid_row": null,
            "grid_template_areas": null,
            "grid_template_columns": null,
            "grid_template_rows": null,
            "height": null,
            "justify_content": null,
            "justify_items": null,
            "left": null,
            "margin": null,
            "max_height": null,
            "max_width": null,
            "min_height": null,
            "min_width": null,
            "object_fit": null,
            "object_position": null,
            "order": null,
            "overflow": null,
            "overflow_x": null,
            "overflow_y": null,
            "padding": null,
            "right": null,
            "top": null,
            "visibility": null,
            "width": null
          }
        },
        "dc7b87eab1a344be9c6c29e92e7278b8": {
          "model_module": "@jupyter-widgets/controls",
          "model_module_version": "1.5.0",
          "model_name": "DescriptionStyleModel",
          "state": {
            "_model_module": "@jupyter-widgets/controls",
            "_model_module_version": "1.5.0",
            "_model_name": "DescriptionStyleModel",
            "_view_count": null,
            "_view_module": "@jupyter-widgets/base",
            "_view_module_version": "1.2.0",
            "_view_name": "StyleView",
            "description_width": ""
          }
        },
        "dd0d9ccef1b34806a8989f882caca422": {
          "model_module": "@jupyter-widgets/controls",
          "model_module_version": "1.5.0",
          "model_name": "PasswordModel",
          "state": {
            "_dom_classes": [],
            "_model_module": "@jupyter-widgets/controls",
            "_model_module_version": "1.5.0",
            "_model_name": "PasswordModel",
            "_view_count": null,
            "_view_module": "@jupyter-widgets/controls",
            "_view_module_version": "1.5.0",
            "_view_name": "PasswordView",
            "continuous_update": true,
            "description": "Token:",
            "description_tooltip": null,
            "disabled": false,
            "layout": "IPY_MODEL_3328f4a664d24ba89dbc892734a3ed58",
            "placeholder": "​",
            "style": "IPY_MODEL_e0c3115ae01a44848620d6f19a071542",
            "value": ""
          }
        },
        "ddd975596c234b0eacc40ef18ef40778": {
          "model_module": "@jupyter-widgets/base",
          "model_module_version": "1.2.0",
          "model_name": "LayoutModel",
          "state": {
            "_model_module": "@jupyter-widgets/base",
            "_model_module_version": "1.2.0",
            "_model_name": "LayoutModel",
            "_view_count": null,
            "_view_module": "@jupyter-widgets/base",
            "_view_module_version": "1.2.0",
            "_view_name": "LayoutView",
            "align_content": null,
            "align_items": null,
            "align_self": null,
            "border": null,
            "bottom": null,
            "display": null,
            "flex": null,
            "flex_flow": null,
            "grid_area": null,
            "grid_auto_columns": null,
            "grid_auto_flow": null,
            "grid_auto_rows": null,
            "grid_column": null,
            "grid_gap": null,
            "grid_row": null,
            "grid_template_areas": null,
            "grid_template_columns": null,
            "grid_template_rows": null,
            "height": null,
            "justify_content": null,
            "justify_items": null,
            "left": null,
            "margin": null,
            "max_height": null,
            "max_width": null,
            "min_height": null,
            "min_width": null,
            "object_fit": null,
            "object_position": null,
            "order": null,
            "overflow": null,
            "overflow_x": null,
            "overflow_y": null,
            "padding": null,
            "right": null,
            "top": null,
            "visibility": null,
            "width": null
          }
        },
        "e0c3115ae01a44848620d6f19a071542": {
          "model_module": "@jupyter-widgets/controls",
          "model_module_version": "1.5.0",
          "model_name": "DescriptionStyleModel",
          "state": {
            "_model_module": "@jupyter-widgets/controls",
            "_model_module_version": "1.5.0",
            "_model_name": "DescriptionStyleModel",
            "_view_count": null,
            "_view_module": "@jupyter-widgets/base",
            "_view_module_version": "1.2.0",
            "_view_name": "StyleView",
            "description_width": ""
          }
        },
        "e1a34af59be04546808279b6e673c498": {
          "model_module": "@jupyter-widgets/controls",
          "model_module_version": "1.5.0",
          "model_name": "HBoxModel",
          "state": {
            "_dom_classes": [],
            "_model_module": "@jupyter-widgets/controls",
            "_model_module_version": "1.5.0",
            "_model_name": "HBoxModel",
            "_view_count": null,
            "_view_module": "@jupyter-widgets/controls",
            "_view_module_version": "1.5.0",
            "_view_name": "HBoxView",
            "box_style": "",
            "children": [
              "IPY_MODEL_91a9bd637428473192d5ec47ba137268",
              "IPY_MODEL_f11e33bc060746758ad638204b71955c",
              "IPY_MODEL_ef69985b8f7c4662912a11a377e99b59"
            ],
            "layout": "IPY_MODEL_9721f00cdfc942e8ab8a4faf8080ef2d"
          }
        },
        "e225f2981fe7472d899a1fff0eb6bb8a": {
          "model_module": "@jupyter-widgets/controls",
          "model_module_version": "1.5.0",
          "model_name": "FloatProgressModel",
          "state": {
            "_dom_classes": [],
            "_model_module": "@jupyter-widgets/controls",
            "_model_module_version": "1.5.0",
            "_model_name": "FloatProgressModel",
            "_view_count": null,
            "_view_module": "@jupyter-widgets/controls",
            "_view_module_version": "1.5.0",
            "_view_name": "ProgressView",
            "bar_style": "success",
            "description": "",
            "description_tooltip": null,
            "layout": "IPY_MODEL_162b2b0630244c2182042899074c222d",
            "max": 2,
            "min": 0,
            "orientation": "horizontal",
            "style": "IPY_MODEL_425c9b6bd9f74bfbbc1d72ffdceec0d0",
            "value": 2
          }
        },
        "e53ec4e8ee3d44bb8b3bdcf323335c8a": {
          "model_module": "@jupyter-widgets/base",
          "model_module_version": "1.2.0",
          "model_name": "LayoutModel",
          "state": {
            "_model_module": "@jupyter-widgets/base",
            "_model_module_version": "1.2.0",
            "_model_name": "LayoutModel",
            "_view_count": null,
            "_view_module": "@jupyter-widgets/base",
            "_view_module_version": "1.2.0",
            "_view_name": "LayoutView",
            "align_content": null,
            "align_items": null,
            "align_self": null,
            "border": null,
            "bottom": null,
            "display": null,
            "flex": null,
            "flex_flow": null,
            "grid_area": null,
            "grid_auto_columns": null,
            "grid_auto_flow": null,
            "grid_auto_rows": null,
            "grid_column": null,
            "grid_gap": null,
            "grid_row": null,
            "grid_template_areas": null,
            "grid_template_columns": null,
            "grid_template_rows": null,
            "height": null,
            "justify_content": null,
            "justify_items": null,
            "left": null,
            "margin": null,
            "max_height": null,
            "max_width": null,
            "min_height": null,
            "min_width": null,
            "object_fit": null,
            "object_position": null,
            "order": null,
            "overflow": null,
            "overflow_x": null,
            "overflow_y": null,
            "padding": null,
            "right": null,
            "top": null,
            "visibility": null,
            "width": null
          }
        },
        "e7d54319900548208c3852623ebc3dcf": {
          "model_module": "@jupyter-widgets/controls",
          "model_module_version": "1.5.0",
          "model_name": "DescriptionStyleModel",
          "state": {
            "_model_module": "@jupyter-widgets/controls",
            "_model_module_version": "1.5.0",
            "_model_name": "DescriptionStyleModel",
            "_view_count": null,
            "_view_module": "@jupyter-widgets/base",
            "_view_module_version": "1.2.0",
            "_view_name": "StyleView",
            "description_width": ""
          }
        },
        "ecc433611c5144d3a909627ffb08eb77": {
          "model_module": "@jupyter-widgets/base",
          "model_module_version": "1.2.0",
          "model_name": "LayoutModel",
          "state": {
            "_model_module": "@jupyter-widgets/base",
            "_model_module_version": "1.2.0",
            "_model_name": "LayoutModel",
            "_view_count": null,
            "_view_module": "@jupyter-widgets/base",
            "_view_module_version": "1.2.0",
            "_view_name": "LayoutView",
            "align_content": null,
            "align_items": null,
            "align_self": null,
            "border": null,
            "bottom": null,
            "display": null,
            "flex": null,
            "flex_flow": null,
            "grid_area": null,
            "grid_auto_columns": null,
            "grid_auto_flow": null,
            "grid_auto_rows": null,
            "grid_column": null,
            "grid_gap": null,
            "grid_row": null,
            "grid_template_areas": null,
            "grid_template_columns": null,
            "grid_template_rows": null,
            "height": null,
            "justify_content": null,
            "justify_items": null,
            "left": null,
            "margin": null,
            "max_height": null,
            "max_width": null,
            "min_height": null,
            "min_width": null,
            "object_fit": null,
            "object_position": null,
            "order": null,
            "overflow": null,
            "overflow_x": null,
            "overflow_y": null,
            "padding": null,
            "right": null,
            "top": null,
            "visibility": null,
            "width": null
          }
        },
        "edbc56749e544622be7717992bd72dbc": {
          "model_module": "@jupyter-widgets/controls",
          "model_module_version": "1.5.0",
          "model_name": "DescriptionStyleModel",
          "state": {
            "_model_module": "@jupyter-widgets/controls",
            "_model_module_version": "1.5.0",
            "_model_name": "DescriptionStyleModel",
            "_view_count": null,
            "_view_module": "@jupyter-widgets/base",
            "_view_module_version": "1.2.0",
            "_view_name": "StyleView",
            "description_width": ""
          }
        },
        "ef69985b8f7c4662912a11a377e99b59": {
          "model_module": "@jupyter-widgets/controls",
          "model_module_version": "1.5.0",
          "model_name": "HTMLModel",
          "state": {
            "_dom_classes": [],
            "_model_module": "@jupyter-widgets/controls",
            "_model_module_version": "1.5.0",
            "_model_name": "HTMLModel",
            "_view_count": null,
            "_view_module": "@jupyter-widgets/controls",
            "_view_module_version": "1.5.0",
            "_view_name": "HTMLView",
            "description": "",
            "description_tooltip": null,
            "layout": "IPY_MODEL_8c89f99cd7b9408eafbfbf8e0c56d39c",
            "placeholder": "​",
            "style": "IPY_MODEL_a40561b6f013481ba77fa137ab43b1c2",
            "value": " 2.98k/2.98k [05:26&lt;?, ?B/s]"
          }
        },
        "efe617968ca54b26b0048c7d20af1ba8": {
          "model_module": "@jupyter-widgets/controls",
          "model_module_version": "1.5.0",
          "model_name": "HTMLModel",
          "state": {
            "_dom_classes": [],
            "_model_module": "@jupyter-widgets/controls",
            "_model_module_version": "1.5.0",
            "_model_name": "HTMLModel",
            "_view_count": null,
            "_view_module": "@jupyter-widgets/controls",
            "_view_module_version": "1.5.0",
            "_view_name": "HTMLView",
            "description": "",
            "description_tooltip": null,
            "layout": "IPY_MODEL_29bc21f75fe84b62861e859304a70a4c",
            "placeholder": "​",
            "style": "IPY_MODEL_dc7b87eab1a344be9c6c29e92e7278b8",
            "value": " 1/1 [00:00&lt;00:00, 25.91ba/s]"
          }
        },
        "f11e33bc060746758ad638204b71955c": {
          "model_module": "@jupyter-widgets/controls",
          "model_module_version": "1.5.0",
          "model_name": "FloatProgressModel",
          "state": {
            "_dom_classes": [],
            "_model_module": "@jupyter-widgets/controls",
            "_model_module_version": "1.5.0",
            "_model_name": "FloatProgressModel",
            "_view_count": null,
            "_view_module": "@jupyter-widgets/controls",
            "_view_module_version": "1.5.0",
            "_view_name": "ProgressView",
            "bar_style": "success",
            "description": "",
            "description_tooltip": null,
            "layout": "IPY_MODEL_adbd04cd03624b66a8c725f9a89647b6",
            "max": 3055,
            "min": 0,
            "orientation": "horizontal",
            "style": "IPY_MODEL_200b5fada23d45ff947953003d052605",
            "value": 3055
          }
        },
        "f22febfc3bbe48058be84b2a20e906f5": {
          "model_module": "@jupyter-widgets/controls",
          "model_module_version": "1.5.0",
          "model_name": "FloatProgressModel",
          "state": {
            "_dom_classes": [],
            "_model_module": "@jupyter-widgets/controls",
            "_model_module_version": "1.5.0",
            "_model_name": "FloatProgressModel",
            "_view_count": null,
            "_view_module": "@jupyter-widgets/controls",
            "_view_module_version": "1.5.0",
            "_view_name": "ProgressView",
            "bar_style": "success",
            "description": "",
            "description_tooltip": null,
            "layout": "IPY_MODEL_63e9fc689ea54fbfa7226cc9918977cb",
            "max": 215,
            "min": 0,
            "orientation": "horizontal",
            "style": "IPY_MODEL_dc034b4bf9e34963ab79f391c55d44ac",
            "value": 215
          }
        },
        "f23b78d30ff040f481b5584a83083b39": {
          "model_module": "@jupyter-widgets/controls",
          "model_module_version": "1.5.0",
          "model_name": "HTMLModel",
          "state": {
            "_dom_classes": [],
            "_model_module": "@jupyter-widgets/controls",
            "_model_module_version": "1.5.0",
            "_model_name": "HTMLModel",
            "_view_count": null,
            "_view_module": "@jupyter-widgets/controls",
            "_view_module_version": "1.5.0",
            "_view_name": "HTMLView",
            "description": "",
            "description_tooltip": null,
            "layout": "IPY_MODEL_28b1ff0d507e40fb84e4083537207de4",
            "placeholder": "​",
            "style": "IPY_MODEL_bf2896c4b25147f0a303c748fa2b0cd9",
            "value": " 18.7k/18.7k [05:26&lt;00:00, 48.2B/s]"
          }
        },
        "f44a8453ba314ddbb153e1278eb59eec": {
          "model_module": "@jupyter-widgets/controls",
          "model_module_version": "1.5.0",
          "model_name": "DescriptionStyleModel",
          "state": {
            "_model_module": "@jupyter-widgets/controls",
            "_model_module_version": "1.5.0",
            "_model_name": "DescriptionStyleModel",
            "_view_count": null,
            "_view_module": "@jupyter-widgets/base",
            "_view_module_version": "1.2.0",
            "_view_name": "StyleView",
            "description_width": ""
          }
        },
        "f5e79b8c3a634eae8a555f18b9dc9bd6": {
          "model_module": "@jupyter-widgets/controls",
          "model_module_version": "1.5.0",
          "model_name": "DescriptionStyleModel",
          "state": {
            "_model_module": "@jupyter-widgets/controls",
            "_model_module_version": "1.5.0",
            "_model_name": "DescriptionStyleModel",
            "_view_count": null,
            "_view_module": "@jupyter-widgets/base",
            "_view_module_version": "1.2.0",
            "_view_name": "StyleView",
            "description_width": ""
          }
        },
        "f652ea3e007c42669e445a7247bb0430": {
          "model_module": "@jupyter-widgets/base",
          "model_module_version": "1.2.0",
          "model_name": "LayoutModel",
          "state": {
            "_model_module": "@jupyter-widgets/base",
            "_model_module_version": "1.2.0",
            "_model_name": "LayoutModel",
            "_view_count": null,
            "_view_module": "@jupyter-widgets/base",
            "_view_module_version": "1.2.0",
            "_view_name": "LayoutView",
            "align_content": null,
            "align_items": null,
            "align_self": null,
            "border": null,
            "bottom": null,
            "display": null,
            "flex": null,
            "flex_flow": null,
            "grid_area": null,
            "grid_auto_columns": null,
            "grid_auto_flow": null,
            "grid_auto_rows": null,
            "grid_column": null,
            "grid_gap": null,
            "grid_row": null,
            "grid_template_areas": null,
            "grid_template_columns": null,
            "grid_template_rows": null,
            "height": null,
            "justify_content": null,
            "justify_items": null,
            "left": null,
            "margin": null,
            "max_height": null,
            "max_width": null,
            "min_height": null,
            "min_width": null,
            "object_fit": null,
            "object_position": null,
            "order": null,
            "overflow": null,
            "overflow_x": null,
            "overflow_y": null,
            "padding": null,
            "right": null,
            "top": null,
            "visibility": null,
            "width": null
          }
        },
        "fd72ea27c82843ceb5fdb74886fc5b44": {
          "model_module": "@jupyter-widgets/controls",
          "model_module_version": "1.5.0",
          "model_name": "ProgressStyleModel",
          "state": {
            "_model_module": "@jupyter-widgets/controls",
            "_model_module_version": "1.5.0",
            "_model_name": "ProgressStyleModel",
            "_view_count": null,
            "_view_module": "@jupyter-widgets/base",
            "_view_module_version": "1.2.0",
            "_view_name": "StyleView",
            "bar_color": null,
            "description_width": ""
          }
        },
        "fe39df4b5e9d41f6a0233bafb4522dd4": {
          "model_module": "@jupyter-widgets/base",
          "model_module_version": "1.2.0",
          "model_name": "LayoutModel",
          "state": {
            "_model_module": "@jupyter-widgets/base",
            "_model_module_version": "1.2.0",
            "_model_name": "LayoutModel",
            "_view_count": null,
            "_view_module": "@jupyter-widgets/base",
            "_view_module_version": "1.2.0",
            "_view_name": "LayoutView",
            "align_content": null,
            "align_items": null,
            "align_self": null,
            "border": null,
            "bottom": null,
            "display": null,
            "flex": null,
            "flex_flow": null,
            "grid_area": null,
            "grid_auto_columns": null,
            "grid_auto_flow": null,
            "grid_auto_rows": null,
            "grid_column": null,
            "grid_gap": null,
            "grid_row": null,
            "grid_template_areas": null,
            "grid_template_columns": null,
            "grid_template_rows": null,
            "height": null,
            "justify_content": null,
            "justify_items": null,
            "left": null,
            "margin": null,
            "max_height": null,
            "max_width": null,
            "min_height": null,
            "min_width": null,
            "object_fit": null,
            "object_position": null,
            "order": null,
            "overflow": null,
            "overflow_x": null,
            "overflow_y": null,
            "padding": null,
            "right": null,
            "top": null,
            "visibility": null,
            "width": null
          }
        },
        "ffa2bd3495f54f1c81f15ebf50fd4fee": {
          "model_module": "@jupyter-widgets/base",
          "model_module_version": "1.2.0",
          "model_name": "LayoutModel",
          "state": {
            "_model_module": "@jupyter-widgets/base",
            "_model_module_version": "1.2.0",
            "_model_name": "LayoutModel",
            "_view_count": null,
            "_view_module": "@jupyter-widgets/base",
            "_view_module_version": "1.2.0",
            "_view_name": "LayoutView",
            "align_content": null,
            "align_items": null,
            "align_self": null,
            "border": null,
            "bottom": null,
            "display": null,
            "flex": null,
            "flex_flow": null,
            "grid_area": null,
            "grid_auto_columns": null,
            "grid_auto_flow": null,
            "grid_auto_rows": null,
            "grid_column": null,
            "grid_gap": null,
            "grid_row": null,
            "grid_template_areas": null,
            "grid_template_columns": null,
            "grid_template_rows": null,
            "height": null,
            "justify_content": null,
            "justify_items": null,
            "left": null,
            "margin": null,
            "max_height": null,
            "max_width": null,
            "min_height": null,
            "min_width": null,
            "object_fit": null,
            "object_position": null,
            "order": null,
            "overflow": null,
            "overflow_x": null,
            "overflow_y": null,
            "padding": null,
            "right": null,
            "top": null,
            "visibility": null,
            "width": null
          }
        }
      }
    }
  },
  "nbformat": 4,
  "nbformat_minor": 0
}
