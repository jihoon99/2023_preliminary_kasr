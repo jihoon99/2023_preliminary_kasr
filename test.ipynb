{
 "cells": [
  {
   "cell_type": "code",
   "execution_count": 1,
   "metadata": {},
   "outputs": [
    {
     "name": "stderr",
     "output_type": "stream",
     "text": [
      "/Users/rainism/opt/anaconda3/envs/torch/lib/python3.9/site-packages/tqdm/auto.py:21: TqdmWarning: IProgress not found. Please update jupyter and ipywidgets. See https://ipywidgets.readthedocs.io/en/stable/user_install.html\n",
      "  from .autonotebook import tqdm as notebook_tqdm\n"
     ]
    },
    {
     "ename": "AttributeError",
     "evalue": "module 'torch.nn' has no attribute 'ZeroPad1d'",
     "output_type": "error",
     "traceback": [
      "\u001b[0;31m---------------------------------------------------------------------------\u001b[0m",
      "\u001b[0;31mAttributeError\u001b[0m                            Traceback (most recent call last)",
      "Cell \u001b[0;32mIn[1], line 5\u001b[0m\n\u001b[1;32m      2\u001b[0m \u001b[39mimport\u001b[39;00m \u001b[39mtorch\u001b[39;00m\n\u001b[1;32m      4\u001b[0m aa \u001b[39m=\u001b[39m torch\u001b[39m.\u001b[39mrandn(\u001b[39m1\u001b[39m,\u001b[39m2\u001b[39m)\n\u001b[0;32m----> 5\u001b[0m a \u001b[39m=\u001b[39m nn\u001b[39m.\u001b[39;49mZeroPad1d((\u001b[39m0\u001b[39m,\u001b[39m5\u001b[39m,\u001b[39m0\u001b[39m,\u001b[39m0\u001b[39m))\n\u001b[1;32m      7\u001b[0m a(aa)\u001b[39m.\u001b[39mshape\n",
      "\u001b[0;31mAttributeError\u001b[0m: module 'torch.nn' has no attribute 'ZeroPad1d'"
     ]
    }
   ],
   "source": [
    "from torch import nn\n",
    "import torch\n",
    "\n",
    "aa = torch.randn(1,2)\n",
    "a = nn.ZeroPad1d((0,5,0,0))\n",
    "\n",
    "a(aa).shape"
   ]
  },
  {
   "cell_type": "code",
   "execution_count": 6,
   "metadata": {},
   "outputs": [],
   "source": [
    "import torch\n",
    "import torch.nn as nn\n",
    "# from conformer import Conformer\n",
    "\n",
    "batch_size, sequence_length, dim = 3, 12345, 80\n",
    "\n",
    "cuda = torch.cuda.is_available()  \n",
    "device = torch.device('cuda' if cuda else 'cpu')\n",
    "\n",
    "criterion = nn.CTCLoss().to(device)\n",
    "\n",
    "inputs = torch.rand(batch_size, sequence_length, dim).to(device)\n",
    "input_lengths = torch.LongTensor([12345, 12300, 12000])\n",
    "targets = torch.LongTensor([[1, 3, 3, 3, 3, 3, 4, 5, 6, 2],\n",
    "                            [1, 3, 3, 3, 3, 3, 4, 5, 2, 0],\n",
    "                            [1, 3, 3, 3, 3, 3, 4, 2, 0, 0]]).to(device)\n",
    "target_lengths = torch.LongTensor([9, 8, 7])\n",
    "\n",
    "model = Conformer(num_classes=10, \n",
    "                  input_dim=dim, \n",
    "                  encoder_dim=32, \n",
    "                  num_encoder_layers=3).to(device)\n",
    "\n",
    "# Forward propagate\n",
    "# outputs, output_lengths = model(inputs, input_lengths)\n",
    "\n",
    "# Calculate CTC Loss\n",
    "# loss = criterion(outputs.transpose(0, 1), targets, output_lengths, target_lengths)"
   ]
  },
  {
   "cell_type": "code",
   "execution_count": 8,
   "metadata": {},
   "outputs": [
    {
     "data": {
      "text/plain": [
       "torch.Size([3, 12345, 80])"
      ]
     },
     "execution_count": 8,
     "metadata": {},
     "output_type": "execute_result"
    }
   ],
   "source": [
    "inputs.shape"
   ]
  },
  {
   "cell_type": "code",
   "execution_count": 9,
   "metadata": {},
   "outputs": [
    {
     "data": {
      "text/plain": [
       "torch.Size([3, 10])"
      ]
     },
     "execution_count": 9,
     "metadata": {},
     "output_type": "execute_result"
    }
   ],
   "source": [
    "targets.shape"
   ]
  },
  {
   "cell_type": "code",
   "execution_count": 11,
   "metadata": {},
   "outputs": [
    {
     "data": {
      "text/plain": [
       "torch.Size([3])"
      ]
     },
     "execution_count": 11,
     "metadata": {},
     "output_type": "execute_result"
    }
   ],
   "source": [
    "target_lengths.shape"
   ]
  },
  {
   "cell_type": "code",
   "execution_count": 47,
   "metadata": {},
   "outputs": [
    {
     "data": {
      "text/plain": [
       "tensor([[-0.3966,  0.4478,  0.0000,  0.0000,  0.0000,  0.0000,  0.0000]])"
      ]
     },
     "execution_count": 47,
     "metadata": {},
     "output_type": "execute_result"
    }
   ],
   "source": [
    "a(aa)"
   ]
  },
  {
   "cell_type": "code",
   "execution_count": 37,
   "metadata": {},
   "outputs": [
    {
     "data": {
      "text/plain": [
       "tensor([[[ 1.7903, -0.0195],\n",
       "         [-0.2571,  0.4554],\n",
       "         [-2.6721,  0.7061]]])"
      ]
     },
     "execution_count": 37,
     "metadata": {},
     "output_type": "execute_result"
    }
   ],
   "source": [
    "a(aa)"
   ]
  },
  {
   "cell_type": "code",
   "execution_count": 26,
   "metadata": {},
   "outputs": [
    {
     "name": "stdout",
     "output_type": "stream",
     "text": [
      "1 3 5 7\n"
     ]
    }
   ],
   "source": [
    "for a,b,c,d in zip([1,2],[3,4],[5,6],[7,8]):\n",
    "    print(a,b,c,d)\n",
    "    break"
   ]
  },
  {
   "cell_type": "code",
   "execution_count": 25,
   "metadata": {},
   "outputs": [
    {
     "ename": "RuntimeError",
     "evalue": "start (0) + length (10) exceeds dimension size (3).",
     "output_type": "error",
     "traceback": [
      "\u001b[0;31m---------------------------------------------------------------------------\u001b[0m",
      "\u001b[0;31mRuntimeError\u001b[0m                              Traceback (most recent call last)",
      "Cell \u001b[0;32mIn[25], line 1\u001b[0m\n\u001b[0;32m----> 1\u001b[0m aa[\u001b[39m0\u001b[39;49m]\u001b[39m.\u001b[39;49mnarrow(\u001b[39m0\u001b[39;49m,\u001b[39m0\u001b[39;49m,\u001b[39m10\u001b[39;49m)\n",
      "\u001b[0;31mRuntimeError\u001b[0m: start (0) + length (10) exceeds dimension size (3)."
     ]
    }
   ],
   "source": [
    "aa[0].narrow(0,0,10)"
   ]
  },
  {
   "cell_type": "code",
   "execution_count": 20,
   "metadata": {},
   "outputs": [
    {
     "ename": "RuntimeError",
     "evalue": "start (0) + length (10) exceeds dimension size (1).",
     "output_type": "error",
     "traceback": [
      "\u001b[0;31m---------------------------------------------------------------------------\u001b[0m",
      "\u001b[0;31mRuntimeError\u001b[0m                              Traceback (most recent call last)",
      "Cell \u001b[0;32mIn[20], line 1\u001b[0m\n\u001b[0;32m----> 1\u001b[0m aa\u001b[39m.\u001b[39;49mnarrow(\u001b[39m0\u001b[39;49m,\u001b[39m0\u001b[39;49m,\u001b[39m10\u001b[39;49m)\u001b[39m.\u001b[39mcopy_(aa)\n",
      "\u001b[0;31mRuntimeError\u001b[0m: start (0) + length (10) exceeds dimension size (1)."
     ]
    }
   ],
   "source": [
    "aa.narrow(0,0,10).copy_(aa)"
   ]
  },
  {
   "cell_type": "code",
   "execution_count": 1,
   "metadata": {},
   "outputs": [
    {
     "ename": "ModuleNotFoundError",
     "evalue": "No module named 'nestedtensor'",
     "output_type": "error",
     "traceback": [
      "\u001b[0;31m---------------------------------------------------------------------------\u001b[0m",
      "\u001b[0;31mModuleNotFoundError\u001b[0m                       Traceback (most recent call last)",
      "Cell \u001b[0;32mIn[1], line 1\u001b[0m\n\u001b[0;32m----> 1\u001b[0m \u001b[39mimport\u001b[39;00m \u001b[39mJeon\u001b[39;00m\u001b[39m.\u001b[39;00m\u001b[39mnestedtensor\u001b[39;00m \u001b[39mas\u001b[39;00m \u001b[39mnestedtensor\u001b[39;00m\n\u001b[1;32m      3\u001b[0m nestedtensor\n",
      "File \u001b[0;32m~/Desktop/2023_AI_hub/2023_preliminary_kasr/Jeon/nestedtensor/__init__.py:3\u001b[0m\n\u001b[1;32m      1\u001b[0m \u001b[39mimport\u001b[39;00m \u001b[39mtorch\u001b[39;00m\n\u001b[0;32m----> 3\u001b[0m \u001b[39mfrom\u001b[39;00m \u001b[39m.\u001b[39;00m\u001b[39mnested\u001b[39;00m\u001b[39m.\u001b[39;00m\u001b[39mcreation\u001b[39;00m \u001b[39mimport\u001b[39;00m as_nested_tensor\n\u001b[1;32m      4\u001b[0m \u001b[39mfrom\u001b[39;00m \u001b[39m.\u001b[39;00m\u001b[39mnested\u001b[39;00m\u001b[39m.\u001b[39;00m\u001b[39mcreation\u001b[39;00m \u001b[39mimport\u001b[39;00m nested_tensor\n\u001b[1;32m      6\u001b[0m \u001b[39mfrom\u001b[39;00m \u001b[39m.\u001b[39;00m\u001b[39mnested\u001b[39;00m\u001b[39m.\u001b[39;00m\u001b[39mmasking\u001b[39;00m \u001b[39mimport\u001b[39;00m nested_tensor_from_tensor_mask\n",
      "File \u001b[0;32m~/Desktop/2023_AI_hub/2023_preliminary_kasr/Jeon/nestedtensor/nested/creation.py:5\u001b[0m\n\u001b[1;32m      2\u001b[0m \u001b[39mimport\u001b[39;00m \u001b[39mnumbers\u001b[39;00m\n\u001b[1;32m      3\u001b[0m \u001b[39mimport\u001b[39;00m \u001b[39mwarnings\u001b[39;00m\n\u001b[0;32m----> 5\u001b[0m \u001b[39mfrom\u001b[39;00m \u001b[39m.\u001b[39;00m \u001b[39mimport\u001b[39;00m nested\n\u001b[1;32m      6\u001b[0m \u001b[39mimport\u001b[39;00m \u001b[39mnestedtensor\u001b[39;00m\n\u001b[1;32m      9\u001b[0m \u001b[39mdef\u001b[39;00m \u001b[39mnested_tensor\u001b[39m(data, dtype\u001b[39m=\u001b[39m\u001b[39mNone\u001b[39;00m, device\u001b[39m=\u001b[39m\u001b[39mNone\u001b[39;00m, requires_grad\u001b[39m=\u001b[39m\u001b[39mFalse\u001b[39;00m, pin_memory\u001b[39m=\u001b[39m\u001b[39mFalse\u001b[39;00m, channels_last\u001b[39m=\u001b[39m\u001b[39mFalse\u001b[39;00m):\n",
      "File \u001b[0;32m~/Desktop/2023_AI_hub/2023_preliminary_kasr/Jeon/nestedtensor/nested/nested.py:3\u001b[0m\n\u001b[1;32m      1\u001b[0m \u001b[39mimport\u001b[39;00m \u001b[39mtorch\u001b[39;00m\n\u001b[1;32m      2\u001b[0m \u001b[39mimport\u001b[39;00m \u001b[39mnumbers\u001b[39;00m\n\u001b[0;32m----> 3\u001b[0m \u001b[39mfrom\u001b[39;00m \u001b[39m.\u001b[39;00m \u001b[39mimport\u001b[39;00m masking\n\u001b[1;32m      5\u001b[0m \u001b[39mfrom\u001b[39;00m \u001b[39m.\u001b[39;00m \u001b[39mimport\u001b[39;00m creation\n\u001b[1;32m      7\u001b[0m \u001b[39mimport\u001b[39;00m \u001b[39mnestedtensor\u001b[39;00m\n",
      "File \u001b[0;32m~/Desktop/2023_AI_hub/2023_preliminary_kasr/Jeon/nestedtensor/nested/masking.py:7\u001b[0m\n\u001b[1;32m      4\u001b[0m \u001b[39mimport\u001b[39;00m \u001b[39mcollections\u001b[39;00m\n\u001b[1;32m      6\u001b[0m \u001b[39mfrom\u001b[39;00m \u001b[39m.\u001b[39;00m \u001b[39mimport\u001b[39;00m creation\n\u001b[0;32m----> 7\u001b[0m \u001b[39mimport\u001b[39;00m \u001b[39mnestedtensor\u001b[39;00m\n\u001b[1;32m      9\u001b[0m TensorMask \u001b[39m=\u001b[39m collections\u001b[39m.\u001b[39mnamedtuple(\u001b[39m'\u001b[39m\u001b[39mTensorMask\u001b[39m\u001b[39m'\u001b[39m, \u001b[39m'\u001b[39m\u001b[39mtensor mask\u001b[39m\u001b[39m'\u001b[39m)\n\u001b[1;32m     12\u001b[0m \u001b[39mdef\u001b[39;00m \u001b[39mnested_tensor_from_padded_tensor\u001b[39m(tensor, nested_dim\u001b[39m=\u001b[39m\u001b[39m1\u001b[39m, padding\u001b[39m=\u001b[39m\u001b[39m-\u001b[39m\u001b[39m1\u001b[39m):\n",
      "\u001b[0;31mModuleNotFoundError\u001b[0m: No module named 'nestedtensor'"
     ]
    }
   ],
   "source": [
    "import Jeon.nestedtensor as nestedtensor\n",
    "\n",
    "nestedtensor"
   ]
  },
  {
   "cell_type": "code",
   "execution_count": null,
   "metadata": {},
   "outputs": [],
   "source": [
    "import os\n",
    "from Jeon.modules.vocab import KoreanSpeechVocabulary\n",
    "\n",
    "vocab = KoreanSpeechVocabulary(os.path.join(os.getcwd(), 'labels.csv'), output_unit='character')\n"
   ]
  },
  {
   "cell_type": "code",
   "execution_count": 3,
   "metadata": {},
   "outputs": [
    {
     "data": {
      "text/plain": [
       "array([3, 4])"
      ]
     },
     "execution_count": 3,
     "metadata": {},
     "output_type": "execute_result"
    }
   ],
   "source": [
    "import numpy as np\n",
    "\n",
    "\n",
    "aa = np.array([1,2,3,4,5])\n",
    "\n",
    "np.where((aa > 3) == True)[0]"
   ]
  },
  {
   "cell_type": "code",
   "execution_count": 6,
   "metadata": {},
   "outputs": [
    {
     "data": {
      "text/plain": [
       "array([1, 3, 5])"
      ]
     },
     "execution_count": 6,
     "metadata": {},
     "output_type": "execute_result"
    }
   ],
   "source": [
    "aa[[True,False,True,False,True]]"
   ]
  },
  {
   "cell_type": "code",
   "execution_count": 35,
   "metadata": {},
   "outputs": [],
   "source": [
    "import pydub\n",
    "\n",
    "audio_path = '/Users/rainism/Desktop/2023_AI_hub/2023_preliminary_kasr/task3_02.pcm'\n",
    "\n",
    "signal = np.memmap(audio_path, dtype='h', mode='r').astype('float32')\n",
    "signal_normalized = signal/32767\n",
    "\n",
    "def detect_silence(pcm, audio_threshold = 0.0075, min_silence_len = 3, ratio=16000, make_silence_len=1):\n",
    "    if len(pcm) < min_silence_len*ratio:\n",
    "        return []\n",
    "    \n",
    "    b = np.where((abs(pcm) > audio_threshold) == True)[0] # 소리가 나는 부분\n",
    "    c = np.concatenate(([0], b[:-1]), axis=0)\n",
    "\n",
    "    starts = c[(b-c)>min_silence_len*ratio]               # 소리가 안나는 부분 시작\n",
    "    ends = b[(b-c)>min_silence_len*ratio]\n",
    "\n",
    "    if len(ends) == 0:\n",
    "        return pcm\n",
    "    else:\n",
    "        non_masking = np.array([True]*len(pcm))\n",
    "        for (s,e) in zip(starts, ends):\n",
    "            non_masking[s:e+1] = False\n",
    "            non_masking[e-make_silence_len*16000:e+1] = True\n",
    "        \n",
    "        return pcm[non_masking]\n",
    "    \n",
    "\n",
    "aa = detect_silence(signal_normalized)"
   ]
  },
  {
   "cell_type": "code",
   "execution_count": 36,
   "metadata": {},
   "outputs": [
    {
     "data": {
      "text/plain": [
       "[<matplotlib.lines.Line2D at 0x7fb62ae6ab50>]"
      ]
     },
     "execution_count": 36,
     "metadata": {},
     "output_type": "execute_result"
    },
    {
     "data": {
      "image/png": "[encoded data removed]",
      "text/plain": [
       "<Figure size 640x480 with 1 Axes>"
      ]
     },
     "metadata": {},
     "output_type": "display_data"
    }
   ],
   "source": [
    "import matplotlib.pyplot as plt\n",
    "plt.plot(aa)"
   ]
  },
  {
   "cell_type": "code",
   "execution_count": 34,
   "metadata": {},
   "outputs": [
    {
     "data": {
      "text/plain": [
       "64000"
      ]
     },
     "execution_count": 34,
     "metadata": {},
     "output_type": "execute_result"
    }
   ],
   "source": [
    "16000*4"
   ]
  },
  {
   "cell_type": "code",
   "execution_count": 27,
   "metadata": {},
   "outputs": [
    {
     "data": {
      "text/plain": [
       "array([ True,  True,  True, ...,  True,  True,  True])"
      ]
     },
     "execution_count": 27,
     "metadata": {},
     "output_type": "execute_result"
    }
   ],
   "source": [
    "np.array([True]*len(signal_normalized))"
   ]
  },
  {
   "cell_type": "code",
   "execution_count": 28,
   "metadata": {},
   "outputs": [
    {
     "data": {
      "text/plain": [
       "0"
      ]
     },
     "execution_count": 28,
     "metadata": {},
     "output_type": "execute_result"
    }
   ],
   "source": []
  },
  {
   "cell_type": "code",
   "execution_count": 22,
   "metadata": {},
   "outputs": [
    {
     "data": {
      "text/plain": [
       "34254"
      ]
     },
     "execution_count": 22,
     "metadata": {},
     "output_type": "execute_result"
    }
   ],
   "source": [
    "len(b)"
   ]
  },
  {
   "cell_type": "code",
   "execution_count": 23,
   "metadata": {},
   "outputs": [
    {
     "data": {
      "text/plain": [
       "34254"
      ]
     },
     "execution_count": 23,
     "metadata": {},
     "output_type": "execute_result"
    }
   ],
   "source": [
    "len(c)"
   ]
  },
  {
   "cell_type": "code",
   "execution_count": 24,
   "metadata": {},
   "outputs": [
    {
     "data": {
      "text/plain": [
       "array([], dtype=int64)"
      ]
     },
     "execution_count": 24,
     "metadata": {},
     "output_type": "execute_result"
    }
   ],
   "source": [
    "starts"
   ]
  },
  {
   "cell_type": "code",
   "execution_count": null,
   "metadata": {},
   "outputs": [],
   "source": []
  }
 ],
 "metadata": {
  "kernelspec": {
   "display_name": "torch",
   "language": "python",
   "name": "python3"
  },
  "language_info": {
   "codemirror_mode": {
    "name": "ipython",
    "version": 3
   },
   "file_extension": ".py",
   "mimetype": "text/x-python",
   "name": "python",
   "nbconvert_exporter": "python",
   "pygments_lexer": "ipython3",
   "version": "3.9.16"
  },
  "orig_nbformat": 4
 },
 "nbformat": 4,
 "nbformat_minor": 2
}
