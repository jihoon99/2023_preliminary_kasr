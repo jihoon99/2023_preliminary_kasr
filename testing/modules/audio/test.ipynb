{
 "cells": [
  {
   "cell_type": "code",
   "execution_count": 35,
   "metadata": {},
   "outputs": [],
   "source": [
    "import librosa\n",
    "import sklearn\n",
    "import torch\n",
    "\n",
    "path = '/Users/rainism/Desktop/2023_AI_hub/2023_preliminary_kasr/task2_03.wav'\n",
    "audio, sr = librosa.load(path, sr=16_000)\n",
    "audio, _ = librosa.effects.trim(audio)\n",
    "\n",
    "mfcc = librosa.feature.mfcc(\n",
    "    y = audio, \n",
    "    sr=16_000, \n",
    "    n_mfcc=80, \n",
    "    n_fft=400, \n",
    "    hop_length=160\n",
    ")\n",
    "\n",
    "\n",
    "# def __getitem__(self, idx):\n",
    "#     \"\"\" get feature vector & transcript \"\"\"\n",
    "#     # feature = self.parse_audio(\n",
    "#     #     audio_path       = os.path.join(self.dataset_path, self.audio_paths[idx]), \n",
    "#     #     augment_method   = self.augment_methods[idx],\n",
    "#     #     config           = self.config\n",
    "#     #     ) # 해당하는 오디오를 불러옴.\n",
    "#     # # 더 들어가면 modules/audio/core에서 load하는 메서드가 있는데, silence remove 하는 부분의 로직이 빈약함. -> 예선전 알고리즘으로 고도화 가능\n",
    "\n",
    "\n",
    "#     feature = self.wav2image_tensor(\n",
    "#         os.path.join(self.dataset_path, self.audio_paths[idx])\n",
    "#         )\n"
   ]
  },
  {
   "cell_type": "code",
   "execution_count": 37,
   "metadata": {},
   "outputs": [
    {
     "data": {
      "text/plain": [
       "(80, 275)"
      ]
     },
     "execution_count": 37,
     "metadata": {},
     "output_type": "execute_result"
    }
   ],
   "source": [
    "mfcc.shape"
   ]
  },
  {
   "cell_type": "code",
   "execution_count": 39,
   "metadata": {},
   "outputs": [
    {
     "name": "stderr",
     "output_type": "stream",
     "text": [
      "/var/folders/jk/t5vx8lsx1fs7nd9c58w611bh0000gn/T/ipykernel_41793/1663077666.py:1: UserWarning: To copy construct from a tensor, it is recommended to use sourceTensor.clone().detach() or sourceTensor.clone().detach().requires_grad_(True), rather than torch.tensor(sourceTensor).\n",
      "  a = torch.tensor(torch.randn([80, 200]))\n"
     ]
    }
   ],
   "source": [
    "a = torch.tensor(torch.randn([80, 200]))"
   ]
  },
  {
   "cell_type": "code",
   "execution_count": 42,
   "metadata": {},
   "outputs": [
    {
     "data": {
      "text/plain": [
       "[tensor([[-0.4246, -1.1428, -0.2561,  ...,  0.4131, -0.2592,  1.3532],\n",
       "         [ 1.6817,  0.5902, -1.2529,  ...,  0.1024, -0.2132,  3.0283],\n",
       "         [ 0.3490, -0.8378, -3.1452,  ...,  0.2544,  1.2629,  0.1985],\n",
       "         ...,\n",
       "         [ 0.2649, -1.4679,  0.9914,  ...,  0.6834,  1.0636,  2.1448],\n",
       "         [-1.1687,  0.5579,  1.1832,  ..., -0.8583, -2.0065, -1.7332],\n",
       "         [-1.5953,  2.1462,  0.1580,  ...,  0.6206,  0.9479, -0.4071]]),\n",
       " array([[-5.9869073e+02, -6.0030975e+02, -6.0759351e+02, ...,\n",
       "         -6.0116437e+02, -6.0620154e+02, -6.0000861e+02],\n",
       "        [ 4.8689110e+01,  4.7551369e+01,  3.9544601e+01, ...,\n",
       "          4.8724922e+01,  4.0832550e+01,  4.7100166e+01],\n",
       "        [ 3.1241028e+01,  3.2752041e+01,  2.8117428e+01, ...,\n",
       "          3.7916718e+01,  2.9243147e+01,  3.1241230e+01],\n",
       "        ...,\n",
       "        [-4.4360238e-01, -7.8902638e-01, -1.1124313e+00, ...,\n",
       "         -8.4807551e-01, -1.1601156e+00, -1.1138356e+00],\n",
       "        [-5.7074809e-01, -1.7839260e+00, -9.8635507e-01, ...,\n",
       "          1.0495243e+00, -2.4764410e-01, -2.4338739e+00],\n",
       "        [-6.5256929e-01, -1.8258722e+00, -1.0979105e+00, ...,\n",
       "          2.1064610e+00,  7.1150899e-02, -3.6759765e+00]], dtype=float32)]"
      ]
     },
     "execution_count": 42,
     "metadata": {},
     "output_type": "execute_result"
    }
   ],
   "source": [
    "[a, mfcc]"
   ]
  },
  {
   "cell_type": "code",
   "execution_count": null,
   "metadata": {},
   "outputs": [],
   "source": []
  },
  {
   "cell_type": "code",
   "execution_count": null,
   "metadata": {},
   "outputs": [],
   "source": []
  },
  {
   "cell_type": "code",
   "execution_count": null,
   "metadata": {},
   "outputs": [],
   "source": []
  },
  {
   "cell_type": "code",
   "execution_count": null,
   "metadata": {},
   "outputs": [],
   "source": []
  },
  {
   "cell_type": "code",
   "execution_count": 1,
   "metadata": {},
   "outputs": [
    {
     "name": "stderr",
     "output_type": "stream",
     "text": [
      "/Users/rainism/opt/anaconda3/envs/torch/lib/python3.9/site-packages/tqdm/auto.py:21: TqdmWarning: IProgress not found. Please update jupyter and ipywidgets. See https://ipywidgets.readthedocs.io/en/stable/user_install.html\n",
      "  from .autonotebook import tqdm as notebook_tqdm\n"
     ]
    },
    {
     "name": "stdout",
     "output_type": "stream",
     "text": [
      "[[-15.942385 -15.942385 -15.942385 ... -15.942385 -15.942385 -15.942385]\n",
      " [-15.942385 -15.942385 -15.942385 ... -15.942385 -15.942385 -15.942385]\n",
      " [-15.942385 -15.942385 -15.942385 ... -15.942385 -15.942385 -15.942385]\n",
      " ...\n",
      " [-15.942385 -15.942385 -15.942385 ... -15.942385 -15.942385 -15.942385]\n",
      " [-15.942385 -15.942385 -15.942385 ... -15.942385 -15.942385 -15.942385]\n",
      " [-15.942385 -15.942385 -15.942385 ... -15.942385 -15.942385 -15.942385]]\n"
     ]
    }
   ],
   "source": [
    "import numpy as np\n",
    "import sys, os\n",
    "\n",
    "from core import load_audio\n",
    "\n",
    "\n",
    "\n",
    "class AudioParser(object):\n",
    "    \"\"\"\n",
    "    Provides inteface of audio parser.\n",
    "\n",
    "    Note:\n",
    "        Do not use this class directly, use one of the sub classes.\n",
    "\n",
    "    Method:\n",
    "        - **parse_audio()**: abstract method. you have to override this method.\n",
    "        - **parse_transcript()**: abstract method. you have to override this method.\n",
    "    \"\"\"\n",
    "    def __init__(self, dataset_path):\n",
    "        self.dataset_path = dataset_path\n",
    "\n",
    "    def parse_audio(self, *args, **kwargs):\n",
    "        raise NotImplementedError\n",
    "\n",
    "    def parse_transcript(self, *args, **kwargs):\n",
    "        raise NotImplementedError\n",
    "\n",
    "\n",
    "# class SpectrogramParser(AudioParser):\n",
    "#     \"\"\"\n",
    "#     Parses audio file into (spectrogram / mel spectrogram / mfcc) with various options.\n",
    "\n",
    "#     Args:\n",
    "#         transform_method (str): which feature to use (default: mel)\n",
    "#         sample_rate (int): Sample rate of audio signal. (Default: 16000)\n",
    "#         n_mels (int):  Number of mfc coefficients to retain. (Default: 40)\n",
    "#         frame_length (int): frame length for spectrogram (ms) (Default : 20)\n",
    "#         frame_shift (int): Length of hop between STFT windows. (ms) (Default: 10)\n",
    "#         feature_extract_by (str): which library to use for feature extraction (default: librosa)\n",
    "#         del_silence (bool): flag indication whether to delete silence or not (default: True)\n",
    "#         input_reverse (bool): flag indication whether to reverse input or not (default: True)\n",
    "#         normalize (bool): flag indication whether to normalize spectrum or not (default:True)\n",
    "#         freq_mask_para (int): Hyper Parameter for Freq Masking to limit freq masking length\n",
    "#         time_mask_num (int): how many time-masked area to make\n",
    "#         freq_mask_num (int): how many freq-masked area to make\n",
    "#         sos_id (int): start of sentence token`s identification\n",
    "#         eos_id (int): end of sentence token`s identification\n",
    "#         dataset_path (str): noise dataset path\n",
    "#     \"\"\"\n",
    "#     VANILLA = 0           # Not apply augmentation\n",
    "#     SPEC_AUGMENT = 1      # SpecAugment\n",
    "\n",
    "#     def __init__(\n",
    "#             self,\n",
    "#             feature_extract_by: str = 'librosa',      # which library to use for feature extraction\n",
    "#             sample_rate: int = 16000,                 # sample rate of audio signal.\n",
    "#             n_mels: int = 80,                         # Number of mfc coefficients to retain.\n",
    "#             frame_length: int = 20,                   # frame length for spectrogram\n",
    "#             frame_shift: int = 10,                    # Length of hop between STFT windows.\n",
    "#             input_reverse: bool = True,               # flag indication whether to reverse input or not\n",
    "#             normalize: bool = False,                  # flag indication whether to normalize spectrum or not\n",
    "#             transform_method: str = 'mel',            # which feature to use [mel, fbank, spect, mfcc]\n",
    "#             freq_mask_para: int = 12,                 # hyper Parameter for Freq Masking to limit freq masking length\n",
    "#             time_mask_num: int = 2,                   # how many time-masked area to make\n",
    "#             freq_mask_num: int = 2,                   # how many freq-masked area to make\n",
    "#             sos_id: int = 1,                          # start of sentence token`s identification\n",
    "#             eos_id: int = 2,                          # end of sentence token`s identification\n",
    "#             dataset_path: str = None,                 # noise dataset path\n",
    "#             audio_extension: str = 'wav',             # audio extension\n",
    "#     ) -> None:\n",
    "#         super(SpectrogramParser, self).__init__(dataset_path)\n",
    "#         self.input_reverse = input_reverse\n",
    "#         self.normalize = normalize\n",
    "#         self.sos_id = sos_id\n",
    "#         self.eos_id = eos_id\n",
    "#         self.spec_augment = SpecAugment(freq_mask_para, time_mask_num, freq_mask_num)\n",
    "#         self.audio_extension = audio_extension\n",
    "\n",
    "#         if transform_method.lower() == 'mel':\n",
    "#             self.transforms = MelSpectrogram(sample_rate, n_mels, frame_length, frame_shift, feature_extract_by)\n",
    "#         elif transform_method.lower() == 'mfcc':\n",
    "#             self.transforms = MFCC(sample_rate, n_mels, frame_length, frame_shift, feature_extract_by)\n",
    "#         elif transform_method.lower() == 'spect':\n",
    "#             self.transforms = Spectrogram(sample_rate, frame_length, frame_shift, feature_extract_by)\n",
    "#         elif transform_method.lower() == 'fbank':\n",
    "#             self.transforms = FilterBank(sample_rate, n_mels, frame_length, frame_shift)\n",
    "#         else:\n",
    "#             raise ValueError(\"Unsupported feature : {0}\".format(transform_method))\n",
    "\n",
    "#     def parse_audio(self, \n",
    "#                     audio_path: str, \n",
    "#                     augment_method: int, \n",
    "#                     config) -> Tensor:\n",
    "#         \"\"\"\n",
    "#         Parses audio.\n",
    "\n",
    "#         Args:\n",
    "#              audio_path (str): path of audio file\n",
    "#              augment_method (int): flag indication which augmentation method to use.\n",
    "\n",
    "#         Returns: feature_vector\n",
    "#             - **feature_vector** (torch.FloatTensor): feature from audio file.\n",
    "#         \"\"\"\n",
    "#         signal = load_audio(\n",
    "#             audio_path, \n",
    "#             del_silence      = config.del_silence,\n",
    "#             extension        = self.audio_extension,\n",
    "#             remove_noise     = config.remove_noise,\n",
    "#             audio_threshold  = config.audio_threshold,\n",
    "#             min_silence_len  = config.min_silence_len,\n",
    "#             ratio            = config.sample_rate,\n",
    "#             make_silence_len = config.make_silence_len)\n",
    "\n",
    "#         if signal is None:\n",
    "#             # print(\"Audio is None : {0}\".format(audio_path))\n",
    "#             return None\n",
    "\n",
    "#         feature = self.transforms(signal)\n",
    "\n",
    "#         if self.normalize:\n",
    "#             feature -= feature.mean()\n",
    "#             feature /= np.std(feature)\n",
    "\n",
    "#         # Refer to \"Sequence to Sequence Learning with Neural Network\" paper\n",
    "#         if self.input_reverse: #???????????????????????????????????????\n",
    "#             feature = feature[:, ::-1]\n",
    "#             feature = FloatTensor(np.ascontiguousarray(np.swapaxes(feature, 0, 1)))\n",
    "#         else:\n",
    "#             feature = FloatTensor(feature).transpose(0, 1)\n",
    "\n",
    "#         if augment_method == SpectrogramParser.SPEC_AUGMENT: #??????????????????????????????\n",
    "#             feature = self.spec_augment(feature)\n",
    "\n",
    "#         return feature\n",
    "\n",
    "#     def parse_transcript(self, *args, **kwargs):\n",
    "#         raise NotImplementedError\n",
    "    \n",
    "from torch import Tensor, FloatTensor\n",
    "\n",
    "\n",
    "class FilterBank(object):\n",
    "    \"\"\"\n",
    "    Create a fbank from a raw audio signal. This matches the input/output of Kaldi’s compute-fbank-feats\n",
    "\n",
    "    Args:\n",
    "        sample_rate (int): Sample rate of audio signal. (Default: 16000)\n",
    "        n_mels (int):  Number of mfc coefficients to retain. (Default: 80)\n",
    "        frame_length (int): frame length for spectrogram (ms) (Default : 20)\n",
    "        frame_shift (int): Length of hop between STFT windows. (ms) (Default: 10)\n",
    "    \"\"\"\n",
    "    def __init__(\n",
    "            self,\n",
    "            sample_rate: int = 16000,\n",
    "            n_mels: int = 80,\n",
    "            frame_length: int = 20,\n",
    "            frame_shift: int = 10\n",
    "    ) -> None:\n",
    "        try:\n",
    "            import torchaudio\n",
    "        except ImportError:\n",
    "            raise ImportError(\"Please install torchaudio `pip install torchaudio`\")\n",
    "        self.transforms = torchaudio.compliance.kaldi.fbank\n",
    "        self.sample_rate = sample_rate\n",
    "        self.n_mels = n_mels\n",
    "        self.frame_length = frame_length\n",
    "        self.frame_shift = frame_shift\n",
    "\n",
    "    def __call__(self, signal):\n",
    "        return self.transforms(\n",
    "            Tensor(signal).unsqueeze(0),\n",
    "            num_mel_bins=self.n_mels,\n",
    "            frame_length=self.frame_length,\n",
    "            frame_shift=self.frame_shift,\n",
    "        ).transpose(0, 1).numpy()\n",
    "    \n",
    "\n",
    "\n",
    "\n",
    "\n",
    "aud = '/Users/rainism/Desktop/2023_AI_hub/2023_preliminary_kasr/task2_03.wav'\n",
    "# aud = aud.set_frame_rate(16000)\n",
    "# print(aud)\n",
    "# signal = np.array(aud.get_array_of_samples()).astype('float32')\n",
    "# print(signal.shape)\n",
    "# print(signal)\n",
    "\n",
    "signal = load_audio(\n",
    "    aud,\n",
    "    del_silence=True,\n",
    "    extension='wav',\n",
    "    remove_noise=True,\n",
    ")\n",
    "\n",
    "transform = FilterBank(\n",
    "    16_000, \n",
    "    n_mels = 80, \n",
    "    frame_length = 20, \n",
    "    frame_shift = 10)\n",
    "\n",
    "print(transform(signal))"
   ]
  },
  {
   "cell_type": "code",
   "execution_count": 30,
   "metadata": {},
   "outputs": [
    {
     "data": {
      "text/plain": [
       "(80, 273)"
      ]
     },
     "execution_count": 30,
     "metadata": {},
     "output_type": "execute_result"
    }
   ],
   "source": [
    "transform(signal).shape"
   ]
  },
  {
   "cell_type": "code",
   "execution_count": 26,
   "metadata": {},
   "outputs": [
    {
     "name": "stderr",
     "output_type": "stream",
     "text": [
      "/Users/rainism/opt/anaconda3/envs/torch/lib/python3.9/site-packages/sklearn/preprocessing/_data.py:240: UserWarning: Numerical issues were encountered when centering the data and might not be solved. Dataset may contain too large values. You may need to prescale your features.\n",
      "  warnings.warn(\n",
      "/Users/rainism/opt/anaconda3/envs/torch/lib/python3.9/site-packages/sklearn/preprocessing/_data.py:259: UserWarning: Numerical issues were encountered when scaling the data and might not be solved. The standard deviation of the data is probably very close to 0. \n",
      "  warnings.warn(\n"
     ]
    }
   ],
   "source": [
    "import librosa\n",
    "path = '/Users/rainism/Desktop/2023_AI_hub/2023_preliminary_kasr/task2_03.wav'\n",
    "\n",
    "audio, sr = librosa.load(path, sr=16_000)\n",
    "audio, _ = librosa.effects.trim(audio)\n",
    "\n",
    "######### 하드 코딩 된 부분들\n",
    "mfcc = librosa.feature.mfcc(\n",
    "    y = audio, \n",
    "    sr=16_000, \n",
    "    n_mfcc=80, \n",
    "    n_fft=400, \n",
    "    hop_length=160\n",
    ")\n",
    "\n",
    "\n",
    "import sklearn\n",
    "import torch\n",
    "\n",
    "mfcc = sklearn.preprocessing.scale(mfcc, axis=1)\n",
    "mfcc = torch.tensor(mfcc, dtype=torch.float)\n"
   ]
  },
  {
   "cell_type": "code",
   "execution_count": 28,
   "metadata": {},
   "outputs": [
    {
     "data": {
      "text/plain": [
       "torch.Size([80, 275])"
      ]
     },
     "execution_count": 28,
     "metadata": {},
     "output_type": "execute_result"
    }
   ],
   "source": [
    "mfcc.shape"
   ]
  },
  {
   "cell_type": "code",
   "execution_count": 27,
   "metadata": {},
   "outputs": [],
   "source": [
    "    def wav2image_tensor(self, path):\n",
    "        audio, sr = librosa.load(path, sr=self.config.sample_rate)\n",
    "        audio, _ = librosa.effects.trim(audio)\n",
    "\n",
    "        ######### 하드 코딩 된 부분들\n",
    "        mfcc = librosa.feature.mfcc(\n",
    "            y = audio, \n",
    "            sr=self.config.sample_rate, \n",
    "            n_mfcc=self.config.n_mels, \n",
    "            n_fft=400, \n",
    "            hop_length=160\n",
    "        )\n",
    "\n",
    "\n",
    "        ########################3 하드 코딩 부분 변경 ##################\n",
    "        # max_len = 1000\n",
    "\n",
    "        mfcc = sklearn.preprocessing.scale(mfcc, axis=1)\n",
    "        # def pad2d(a, i): return a[:, 0:i] if a.shape[1] > i else np.hstack(\n",
    "        #     (a, np.zeros((a.shape[0], i-a.shape[1]))))\n",
    "        # padded_mfcc = pad2d(mfcc, max_len).reshape( \n",
    "        #     1, self.config.n_mels, max_len)  # 채널 추가\n",
    "        mfcc = torch.tensor(mfcc, dtype=torch.float)\n",
    "\n",
    "        return mfcc"
   ]
  },
  {
   "cell_type": "code",
   "execution_count": 3,
   "metadata": {},
   "outputs": [
    {
     "data": {
      "text/plain": [
       "(80, 273)"
      ]
     },
     "execution_count": 3,
     "metadata": {},
     "output_type": "execute_result"
    }
   ],
   "source": [
    "transform(signal).shape"
   ]
  },
  {
   "cell_type": "code",
   "execution_count": 13,
   "metadata": {},
   "outputs": [
    {
     "data": {
      "text/plain": [
       "(20, 86)"
      ]
     },
     "execution_count": 13,
     "metadata": {},
     "output_type": "execute_result"
    }
   ],
   "source": [
    "import librosa\n",
    "\n",
    "mfcc1 = librosa.feature.mfcc(\n",
    "            y = signal,\n",
    "            sr=16_000)\n"
   ]
  },
  {
   "cell_type": "code",
   "execution_count": 16,
   "metadata": {},
   "outputs": [
    {
     "data": {
      "text/plain": [
       "<matplotlib.colorbar.Colorbar at 0x7feb0d0848b0>"
      ]
     },
     "execution_count": 16,
     "metadata": {},
     "output_type": "execute_result"
    },
    {
     "data": {
      "image/png": "[encoded data removed]",
      "text/plain": [
       "<Figure size 640x480 with 2 Axes>"
      ]
     },
     "metadata": {},
     "output_type": "display_data"
    }
   ],
   "source": [
    "plt.imshow(mfcc1, interpolation=\"nearest\", origin=\"lower\", aspect=\"auto\")\n",
    "plt.colorbar()\n"
   ]
  },
  {
   "cell_type": "code",
   "execution_count": 5,
   "metadata": {},
   "outputs": [
    {
     "data": {
      "text/plain": [
       "<matplotlib.colorbar.Colorbar at 0x7feb2b497c70>"
      ]
     },
     "execution_count": 5,
     "metadata": {},
     "output_type": "execute_result"
    },
    {
     "data": {
      "image/png": "[encoded data removed]",
      "text/plain": [
       "<Figure size 640x480 with 2 Axes>"
      ]
     },
     "metadata": {},
     "output_type": "display_data"
    }
   ],
   "source": [
    "import matplotlib.pyplot as plt\n",
    "\n",
    "plt.imshow(transform(signal), interpolation=\"nearest\", origin=\"lower\", aspect=\"auto\")\n",
    "plt.colorbar()"
   ]
  },
  {
   "cell_type": "code",
   "execution_count": null,
   "metadata": {},
   "outputs": [],
   "source": []
  }
 ],
 "metadata": {
  "kernelspec": {
   "display_name": "torch",
   "language": "python",
   "name": "python3"
  },
  "language_info": {
   "codemirror_mode": {
    "name": "ipython",
    "version": 3
   },
   "file_extension": ".py",
   "mimetype": "text/x-python",
   "name": "python",
   "nbconvert_exporter": "python",
   "pygments_lexer": "ipython3",
   "version": "3.9.16"
  },
  "orig_nbformat": 4
 },
 "nbformat": 4,
 "nbformat_minor": 2
}
